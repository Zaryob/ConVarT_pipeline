{
 "cells": [
  {
   "cell_type": "code",
   "execution_count": 1,
   "metadata": {},
   "outputs": [],
   "source": [
    "import pandas as pd\n",
    "from os import path\n",
    "from Bio import SeqIO\n",
    "import gzip\n",
    "from tqdm import tqdm\n",
    "from glob import glob\n",
    "import os\n",
    "import pymysql\n",
    "import shutil \n",
    "import urllib.request\n",
    "import sys\n",
    "import random\n",
    "import numpy as np\n",
    "sys.path.append(\"../\")\n",
    "from db_mapping import save_mapping_to_db\n",
    "con = pymysql.connect(host='127.0.0.1', unix_socket='/opt/lampp/var/mysql/mysql.sock', user='root', passwd='', db='current_project')\n",
    "cur = con.cursor()"
   ]
  },
  {
   "cell_type": "code",
   "execution_count": 2,
   "metadata": {},
   "outputs": [],
   "source": [
    "def fetch_transcript(transcript_id):\n",
    "    if 'ENST' in transcript_id: \n",
    "        transcript_id_no_vs = transcript_id.split('.')[0]\n",
    "        url = 'https://rest.ensembl.org/sequence/id/'+transcript_id_no_vs+'?content-type=text/x-fasta;type=protein'\n",
    "    else:\n",
    "        url = 'https://www.ncbi.nlm.nih.gov/sviewer/viewer.cgi?tool=portal&save=file&log$=seqview&db=protein&report=fasta&id='\\\n",
    "                        +transcript_id+'&extrafeat=null&conwithfeat=on'\n",
    "\n",
    "    fp = urllib.request.urlopen(url)\n",
    "    mybytes = fp.read()\n",
    "\n",
    "    sequence = mybytes.decode(\"utf8\")\n",
    "    fp.close()\n",
    "    sequence = '\\n'.join(sequence.split('\\n')[1:])\n",
    "    sequence = '>'+transcript_id+' [Homo sapiens]\\n' + sequence\n",
    "\n",
    "    return sequence\n"
   ]
  },
  {
   "cell_type": "code",
   "execution_count": 3,
   "metadata": {},
   "outputs": [],
   "source": [
    "transcript_lists = {}\n",
    "fasta_lists = {}\n"
   ]
  },
  {
   "cell_type": "code",
   "execution_count": 4,
   "metadata": {},
   "outputs": [
    {
     "name": "stderr",
     "output_type": "stream",
     "text": [
      "/home/kaplanlab/.local/lib/python3.6/site-packages/ipykernel_launcher.py:5: FutureWarning: The signature of `Series.to_csv` was aligned to that of `DataFrame.to_csv`, and argument 'header' will change its default value from False to True: please pass an explicit value to suppress this warning.\n",
      "  \"\"\"\n"
     ]
    }
   ],
   "source": [
    "df_ensts = pd.concat([pd.read_sql(\"SELECT DISTINCT canonical_transcript FROM gnomad\", con).iloc[:,0],\n",
    "          pd.read_sql(\"SELECT DISTINCT accession_number FROM CosmicMutantExport WHERE accession_number \"+\\\n",
    "                      \"LIKE 'ENST%'\", con).iloc[:,0]])\n",
    "df_ensts = df_ensts.unique()\n",
    "pd.Series(df_ensts).to_csv('/opt/current_project/db/mapping/WHOLE_ENST_IDS.csv', header=None, index=None)"
   ]
  },
  {
   "cell_type": "code",
   "execution_count": 5,
   "metadata": {
    "scrolled": true
   },
   "outputs": [
    {
     "name": "stderr",
     "output_type": "stream",
     "text": [
      "  0%|          | 0/2 [00:00<?, ?it/s]\n",
      "0it [00:00, ?it/s]\u001b[A\n",
      "1it [00:00,  9.60it/s]\u001b[A\n",
      "3613it [00:00, 13.72it/s]\u001b[A\n",
      "8510it [00:00, 19.59it/s]\u001b[A\n",
      "13719it [00:00, 27.99it/s]\u001b[A\n",
      "20358it [00:00, 39.97it/s]\u001b[A\n",
      "26939it [00:00, 57.09it/s]\u001b[A\n",
      "31776it [00:00, 81.50it/s]\u001b[A\n",
      "36221it [00:00, 116.33it/s]\u001b[A\n",
      "40511it [00:00, 165.98it/s]\u001b[A\n",
      " 50%|█████     | 1/2 [00:01<00:01,  1.07s/it]\n",
      "0it [00:00, ?it/s]\u001b[A\n",
      "2436it [00:00, 24356.02it/s]\u001b[A\n",
      "3675it [00:00, 18883.73it/s]\u001b[A\n",
      "6289it [00:00, 20598.66it/s]\u001b[A\n",
      "8454it [00:00, 20902.71it/s]\u001b[A\n",
      "10688it [00:00, 21309.33it/s]\u001b[A\n",
      "13180it [00:00, 22275.58it/s]\u001b[A\n",
      "15679it [00:00, 23024.92it/s]\u001b[A\n",
      "17942it [00:00, 22904.02it/s]\u001b[A\n",
      "20134it [00:00, 22013.38it/s]\u001b[A\n",
      "22934it [00:01, 23521.83it/s]\u001b[A\n",
      "25923it [00:01, 25124.00it/s]\u001b[A\n",
      "28456it [00:01, 23849.49it/s]\u001b[A\n",
      "31006it [00:01, 24317.62it/s]\u001b[A\n",
      "33460it [00:01, 24240.87it/s]\u001b[A\n",
      "35900it [00:01, 22920.14it/s]\u001b[A\n",
      "38218it [00:01, 22996.69it/s]\u001b[A\n",
      "40728it [00:01, 23589.45it/s]\u001b[A\n",
      "43617it [00:01, 24962.67it/s]\u001b[A\n",
      "46147it [00:01, 24315.69it/s]\u001b[A\n",
      "48606it [00:02, 23978.27it/s]\u001b[A\n",
      "51024it [00:02, 22781.70it/s]\u001b[A\n",
      "53377it [00:02, 22999.19it/s]\u001b[A\n",
      "56174it [00:02, 24291.91it/s]\u001b[A\n",
      "58819it [00:02, 24900.73it/s]\u001b[A\n",
      "61336it [00:02, 23618.27it/s]\u001b[A\n",
      "63731it [00:02, 23299.93it/s]\u001b[A\n",
      "66229it [00:02, 23779.53it/s]\u001b[A\n",
      "68737it [00:02, 24150.22it/s]\u001b[A\n",
      "71167it [00:03, 22719.92it/s]\u001b[A\n",
      "73467it [00:03, 21402.22it/s]\u001b[A\n",
      "76254it [00:03, 22999.90it/s]\u001b[A\n",
      "79269it [00:03, 24761.16it/s]\u001b[A\n",
      "81825it [00:03, 24870.11it/s]\u001b[A\n",
      "84368it [00:03, 24154.84it/s]\u001b[A\n",
      "86827it [00:03, 22791.77it/s]\u001b[A\n",
      "89325it [00:03, 23403.31it/s]\u001b[A\n",
      "92013it [00:03, 24347.89it/s]\u001b[A\n",
      "94484it [00:04, 17245.99it/s]\u001b[A\n",
      "96521it [00:04, 17084.05it/s]\u001b[A\n",
      "99583it [00:04, 19695.70it/s]\u001b[A\n",
      "103719it [00:04, 23366.89it/s]\u001b[A\n",
      "100%|██████████| 2/2 [00:05<00:00,  2.09s/it]\n"
     ]
    }
   ],
   "source": [
    "project_path = '/opt/current_project' \n",
    "db_path = '/opt/current_project/db'\n",
    "sequences_path = path.join(project_path, 'results', 'sequences')\n",
    "\n",
    "if path.exists(sequences_path):\n",
    "    shutil.rmtree(sequences_path)\n",
    "\n",
    "os.makedirs(sequences_path)\n",
    "\n",
    "all_relevant_fasta_sequences = ''\n",
    "\n",
    "\n",
    "# Fetch the transcript ids that have variants\n",
    "transcripts_in_the_db = pd.concat([pd.read_sql(\"SELECT DISTINCT nm_id FROM clinvar\", con).iloc[:,0], \n",
    "          pd.read_sql(\"SELECT DISTINCT canonical_transcript FROM gnomad\", con).iloc[:,0],\n",
    "          pd.read_sql(\"SELECT DISTINCT accession_number FROM CosmicMutantExport WHERE accession_number \"+\\\n",
    "                      \"LIKE 'ENST%'\", con).iloc[:,0]],\n",
    "          axis=0)\n",
    "transcripts_in_the_db = transcripts_in_the_db.unique()\n",
    "\n",
    "nm_to_transcript_id = pd.read_csv(path.join(db_path, 'mapping', 'NM_NP_GeneID.list'), sep='\\t', header=None).iloc[:, :2]\n",
    "nm_to_transcript_id.columns = ['retrieval_id', 'transcript_id']\n",
    "enst_to_transcript_id = pd.read_csv(path.join(db_path, 'mapping', 'ENST_ENSTV_GeneID.list')).iloc[:, :2]\n",
    "enst_to_transcript_id.columns = ['retrieval_id', 'transcript_id']\n",
    "\n",
    "\n",
    "retrieval_id_to_transcript_id = pd.concat([nm_to_transcript_id, enst_to_transcript_id], axis=0, ignore_index=True)\n",
    "retrieval_id_to_transcript_id = retrieval_id_to_transcript_id.loc[\n",
    "                                retrieval_id_to_transcript_id['retrieval_id'].drop_duplicates().index, :]\n",
    "\n",
    "retrieval_id_to_transcript_id = retrieval_id_to_transcript_id.set_index('retrieval_id')\n",
    "\n",
    "retrieval_id_to_transcript_id = retrieval_id_to_transcript_id.loc[retrieval_id_to_transcript_id.index.\\\n",
    "                                                                  intersection(transcripts_in_the_db)]\n",
    "retrieval_id_to_transcript_id = retrieval_id_to_transcript_id.set_index('transcript_id')\n",
    "\n",
    "species_list = ['Homo_sapiens', 'Homo_sapiens_Ensembl']\n",
    "\n",
    "if not path.exists(sequences_path):\n",
    "    os.makedirs(sequences_path)\n",
    "    \n",
    "fasta_lists['Homo_sapiens'] = {}\n",
    "\n",
    "for species in tqdm(species_list):\n",
    "        \n",
    "    fasta_sequence_file = path.join(db_path, 'proteins', species+'.faa')\n",
    "\n",
    "    fasta_sequences = SeqIO.parse(fasta_sequence_file, \"fasta\")\n",
    "    for fasta in tqdm(fasta_sequences):\n",
    "        transcript_id, sequence = fasta.id, str(fasta.seq)\n",
    "        if species == 'Homo_sapiens_Ensembl':\n",
    "            description_map = {desc.split(':')[0]: desc.split(':')[1] for desc in fasta.description.split(' ') if \n",
    "                                  len(desc.split(':')) > 1}\n",
    "            transcript_id = description_map['transcript']\n",
    "        sequence = '>'+transcript_id+' [Homo sapiens]\\n' + sequence\n",
    "        \n",
    "        filename = path.join(sequences_path, transcript_id+'.fasta')\n",
    "\n",
    "        if transcript_id not in retrieval_id_to_transcript_id.index:\n",
    "            continue\n",
    "\n",
    "        with open(filename, 'w') as f:\n",
    "            f.write(sequence)\n",
    "\n",
    "        fasta_lists['Homo_sapiens'][transcript_id] = sequence\n"
   ]
  },
  {
   "cell_type": "code",
   "execution_count": 6,
   "metadata": {
    "scrolled": true
   },
   "outputs": [
    {
     "name": "stderr",
     "output_type": "stream",
     "text": [
      "  0%|          | 1/508 [00:00<05:31,  1.53it/s]"
     ]
    },
    {
     "name": "stdout",
     "output_type": "stream",
     "text": [
      "HTTP Error 400: Bad Request ENST00000021776.7\n"
     ]
    },
    {
     "name": "stderr",
     "output_type": "stream",
     "text": [
      "\r",
      "  0%|          | 2/508 [00:01<04:46,  1.76it/s]"
     ]
    },
    {
     "name": "stdout",
     "output_type": "stream",
     "text": [
      "HTTP Error 400: Bad Request ENST00000216407.4\n"
     ]
    },
    {
     "name": "stderr",
     "output_type": "stream",
     "text": [
      "\r",
      "  1%|          | 3/508 [00:01<05:14,  1.61it/s]"
     ]
    },
    {
     "name": "stdout",
     "output_type": "stream",
     "text": [
      "HTTP Error 400: Bad Request ENST00000221905.1\n"
     ]
    },
    {
     "name": "stderr",
     "output_type": "stream",
     "text": [
      "\r",
      "  1%|          | 4/508 [00:02<04:37,  1.81it/s]"
     ]
    },
    {
     "name": "stdout",
     "output_type": "stream",
     "text": [
      "HTTP Error 400: Bad Request ENST00000222301.1\n"
     ]
    },
    {
     "name": "stderr",
     "output_type": "stream",
     "text": [
      "\r",
      "  1%|          | 5/508 [00:02<04:20,  1.93it/s]"
     ]
    },
    {
     "name": "stdout",
     "output_type": "stream",
     "text": [
      "HTTP Error 400: Bad Request ENST00000225973.5\n"
     ]
    },
    {
     "name": "stderr",
     "output_type": "stream",
     "text": [
      "\r",
      "  1%|          | 6/508 [00:03<04:15,  1.96it/s]"
     ]
    },
    {
     "name": "stdout",
     "output_type": "stream",
     "text": [
      "HTTP Error 400: Bad Request ENST00000226094.5\n"
     ]
    },
    {
     "name": "stderr",
     "output_type": "stream",
     "text": [
      "\r",
      "  1%|▏         | 7/508 [00:03<03:55,  2.13it/s]"
     ]
    },
    {
     "name": "stdout",
     "output_type": "stream",
     "text": [
      "HTTP Error 400: Bad Request ENST00000234668.6\n"
     ]
    },
    {
     "name": "stderr",
     "output_type": "stream",
     "text": [
      "\r",
      "  2%|▏         | 8/508 [00:03<03:47,  2.20it/s]"
     ]
    },
    {
     "name": "stdout",
     "output_type": "stream",
     "text": [
      "HTTP Error 400: Bad Request ENST00000235290.3\n"
     ]
    },
    {
     "name": "stderr",
     "output_type": "stream",
     "text": [
      "\r",
      "  2%|▏         | 9/508 [00:04<03:37,  2.29it/s]"
     ]
    },
    {
     "name": "stdout",
     "output_type": "stream",
     "text": [
      "HTTP Error 400: Bad Request ENST00000237841.5\n"
     ]
    },
    {
     "name": "stderr",
     "output_type": "stream",
     "text": [
      "\r",
      "  2%|▏         | 10/508 [00:04<03:26,  2.42it/s]"
     ]
    },
    {
     "name": "stdout",
     "output_type": "stream",
     "text": [
      "HTTP Error 400: Bad Request ENST00000238638.1\n"
     ]
    },
    {
     "name": "stderr",
     "output_type": "stream",
     "text": [
      "\r",
      "  2%|▏         | 11/508 [00:05<03:23,  2.44it/s]"
     ]
    },
    {
     "name": "stdout",
     "output_type": "stream",
     "text": [
      "HTTP Error 400: Bad Request ENST00000242630.2\n"
     ]
    },
    {
     "name": "stderr",
     "output_type": "stream",
     "text": [
      "\r",
      "  2%|▏         | 12/508 [00:05<03:20,  2.48it/s]"
     ]
    },
    {
     "name": "stdout",
     "output_type": "stream",
     "text": [
      "HTTP Error 400: Bad Request ENST00000244906.6\n"
     ]
    },
    {
     "name": "stderr",
     "output_type": "stream",
     "text": [
      "\r",
      "  3%|▎         | 13/508 [00:06<04:00,  2.06it/s]"
     ]
    },
    {
     "name": "stdout",
     "output_type": "stream",
     "text": [
      "HTTP Error 400: Bad Request ENST00000248151.4\n"
     ]
    },
    {
     "name": "stderr",
     "output_type": "stream",
     "text": [
      "\r",
      "  3%|▎         | 14/508 [00:06<03:42,  2.22it/s]"
     ]
    },
    {
     "name": "stdout",
     "output_type": "stream",
     "text": [
      "HTTP Error 400: Bad Request ENST00000251749.6\n"
     ]
    },
    {
     "name": "stderr",
     "output_type": "stream",
     "text": [
      "\r",
      "  3%|▎         | 15/508 [00:06<03:34,  2.30it/s]"
     ]
    },
    {
     "name": "stdout",
     "output_type": "stream",
     "text": [
      "HTTP Error 400: Bad Request ENST00000252134.7\n"
     ]
    },
    {
     "name": "stderr",
     "output_type": "stream",
     "text": [
      "\r",
      "  3%|▎         | 16/508 [00:07<03:55,  2.09it/s]"
     ]
    },
    {
     "name": "stdout",
     "output_type": "stream",
     "text": [
      "HTTP Error 400: Bad Request ENST00000252909.4\n"
     ]
    },
    {
     "name": "stderr",
     "output_type": "stream",
     "text": [
      "\r",
      "  3%|▎         | 17/508 [00:07<03:53,  2.10it/s]"
     ]
    },
    {
     "name": "stdout",
     "output_type": "stream",
     "text": [
      ">ENST00000253803.2 [Homo sapiens]\n",
      "MGNIFEKLFKSLLGKKKMRILILSLDTAGKTTILYKLKLGETVPAVPTVGFCVETVEYKN\n",
      "NTFGVWDVGSHFKIRPLWQHFFQNTKGARSPGSTHQGSLASGVLPIKCSHVEFGMWKGGR\n",
      "SHPFLPHSSRCAGSGGQLDSILPHQSPAWGPWGCKDLSSGFPSFLTSSILWKSAVVK\n",
      "\n"
     ]
    },
    {
     "name": "stderr",
     "output_type": "stream",
     "text": [
      "\r",
      "  4%|▎         | 18/508 [00:08<03:41,  2.22it/s]"
     ]
    },
    {
     "name": "stdout",
     "output_type": "stream",
     "text": [
      "HTTP Error 400: Bad Request ENST00000255183.4\n"
     ]
    },
    {
     "name": "stderr",
     "output_type": "stream",
     "text": [
      "\r",
      "  4%|▎         | 19/508 [00:08<03:44,  2.18it/s]"
     ]
    },
    {
     "name": "stdout",
     "output_type": "stream",
     "text": [
      "HTTP Error 400: Bad Request ENST00000255320.6\n"
     ]
    },
    {
     "name": "stderr",
     "output_type": "stream",
     "text": [
      "\r",
      "  4%|▍         | 20/508 [00:09<03:36,  2.26it/s]"
     ]
    },
    {
     "name": "stdout",
     "output_type": "stream",
     "text": [
      "HTTP Error 400: Bad Request ENST00000255326.4\n"
     ]
    },
    {
     "name": "stderr",
     "output_type": "stream",
     "text": [
      "\r",
      "  4%|▍         | 21/508 [00:09<03:55,  2.07it/s]"
     ]
    },
    {
     "name": "stdout",
     "output_type": "stream",
     "text": [
      "HTTP Error 400: Bad Request ENST00000258651.4\n"
     ]
    },
    {
     "name": "stderr",
     "output_type": "stream",
     "text": [
      "\r",
      "  4%|▍         | 22/508 [00:10<03:40,  2.20it/s]"
     ]
    },
    {
     "name": "stdout",
     "output_type": "stream",
     "text": [
      "HTTP Error 400: Bad Request ENST00000262870.6\n"
     ]
    },
    {
     "name": "stderr",
     "output_type": "stream",
     "text": [
      "\r",
      "  5%|▍         | 23/508 [00:10<03:29,  2.32it/s]"
     ]
    },
    {
     "name": "stdout",
     "output_type": "stream",
     "text": [
      "HTTP Error 400: Bad Request ENST00000263511.4\n"
     ]
    },
    {
     "name": "stderr",
     "output_type": "stream",
     "text": [
      "\r",
      "  5%|▍         | 24/508 [00:10<03:25,  2.35it/s]"
     ]
    },
    {
     "name": "stdout",
     "output_type": "stream",
     "text": [
      "HTTP Error 400: Bad Request ENST00000263717.5\n"
     ]
    },
    {
     "name": "stderr",
     "output_type": "stream",
     "text": [
      "\r",
      "  5%|▍         | 25/508 [00:11<03:38,  2.21it/s]"
     ]
    },
    {
     "name": "stdout",
     "output_type": "stream",
     "text": [
      ">ENST00000265616.5 [Homo sapiens]\n",
      "MASRGVVGIFFLSAVPLVCLELRRGIPDIGIKDFLLLCGRILLLLALLTLTISVTTSWLN\n",
      "SFKSPQVYLKEEEEKNEKRQKLVRKKQQEAQGEKASRYIENVLKPHQEMKLRKLEERFYQ\n",
      "MTGEAWKLSSGHKLGGDEGTSQTSFETSNREAAKSQNLPKPLTEFPSPAEQPTCKEIPDL\n",
      "PEEPSQTAEEVVTVALRCPSGNVLRRRFLKSYSSQVLFDWMTRIGYHISLYSLSTSFPRR\n",
      "PLAVEGGQSLEDIGITVDTVLILEEKEQTN\n",
      "\n"
     ]
    },
    {
     "name": "stderr",
     "output_type": "stream",
     "text": [
      "\r",
      "  5%|▌         | 26/508 [00:11<03:26,  2.34it/s]"
     ]
    },
    {
     "name": "stdout",
     "output_type": "stream",
     "text": [
      "HTTP Error 400: Bad Request ENST00000265870.3\n"
     ]
    },
    {
     "name": "stderr",
     "output_type": "stream",
     "text": [
      "\r",
      "  5%|▌         | 27/508 [00:12<03:20,  2.40it/s]"
     ]
    },
    {
     "name": "stdout",
     "output_type": "stream",
     "text": [
      "HTTP Error 400: Bad Request ENST00000266078.7\n"
     ]
    },
    {
     "name": "stderr",
     "output_type": "stream",
     "text": [
      "\r",
      "  6%|▌         | 28/508 [00:12<03:28,  2.31it/s]"
     ]
    },
    {
     "name": "stdout",
     "output_type": "stream",
     "text": [
      "HTTP Error 400: Bad Request ENST00000266610.5\n"
     ]
    },
    {
     "name": "stderr",
     "output_type": "stream",
     "text": [
      "\r",
      "  6%|▌         | 29/508 [00:13<03:24,  2.34it/s]"
     ]
    },
    {
     "name": "stdout",
     "output_type": "stream",
     "text": [
      "HTTP Error 400: Bad Request ENST00000266746.6\n"
     ]
    },
    {
     "name": "stderr",
     "output_type": "stream",
     "text": [
      "\r",
      "  6%|▌         | 30/508 [00:13<03:15,  2.44it/s]"
     ]
    },
    {
     "name": "stdout",
     "output_type": "stream",
     "text": [
      "HTTP Error 400: Bad Request ENST00000269201.6\n"
     ]
    },
    {
     "name": "stderr",
     "output_type": "stream",
     "text": [
      "\r",
      "  6%|▌         | 31/508 [00:13<03:13,  2.47it/s]"
     ]
    },
    {
     "name": "stdout",
     "output_type": "stream",
     "text": [
      "HTTP Error 400: Bad Request ENST00000270720.7\n"
     ]
    },
    {
     "name": "stderr",
     "output_type": "stream",
     "text": [
      "\r",
      "  6%|▋         | 32/508 [00:14<03:11,  2.49it/s]"
     ]
    },
    {
     "name": "stdout",
     "output_type": "stream",
     "text": [
      "HTTP Error 400: Bad Request ENST00000272567.4\n"
     ]
    },
    {
     "name": "stderr",
     "output_type": "stream",
     "text": [
      "\r",
      "  6%|▋         | 33/508 [00:14<03:10,  2.50it/s]"
     ]
    },
    {
     "name": "stdout",
     "output_type": "stream",
     "text": [
      "HTTP Error 400: Bad Request ENST00000273083.3\n"
     ]
    },
    {
     "name": "stderr",
     "output_type": "stream",
     "text": [
      "\r",
      "  7%|▋         | 34/508 [00:15<03:10,  2.49it/s]"
     ]
    },
    {
     "name": "stdout",
     "output_type": "stream",
     "text": [
      "HTTP Error 400: Bad Request ENST00000275580.7\n"
     ]
    },
    {
     "name": "stderr",
     "output_type": "stream",
     "text": [
      "\r",
      "  7%|▋         | 35/508 [00:15<03:06,  2.53it/s]"
     ]
    },
    {
     "name": "stdout",
     "output_type": "stream",
     "text": [
      "HTTP Error 400: Bad Request ENST00000281339.5\n"
     ]
    },
    {
     "name": "stderr",
     "output_type": "stream",
     "text": [
      "\r",
      "  7%|▋         | 36/508 [00:15<03:05,  2.54it/s]"
     ]
    },
    {
     "name": "stdout",
     "output_type": "stream",
     "text": [
      "HTTP Error 400: Bad Request ENST00000283050.7\n"
     ]
    },
    {
     "name": "stderr",
     "output_type": "stream",
     "text": [
      "\r",
      "  7%|▋         | 37/508 [00:16<03:01,  2.59it/s]"
     ]
    },
    {
     "name": "stdout",
     "output_type": "stream",
     "text": [
      "HTTP Error 400: Bad Request ENST00000284054.3\n"
     ]
    },
    {
     "name": "stderr",
     "output_type": "stream",
     "text": [
      "\r",
      "  7%|▋         | 38/508 [00:16<02:59,  2.62it/s]"
     ]
    },
    {
     "name": "stdout",
     "output_type": "stream",
     "text": [
      "HTTP Error 400: Bad Request ENST00000289731.2\n"
     ]
    },
    {
     "name": "stderr",
     "output_type": "stream",
     "text": [
      "\r",
      "  8%|▊         | 39/508 [00:17<03:11,  2.45it/s]"
     ]
    },
    {
     "name": "stdout",
     "output_type": "stream",
     "text": [
      "HTTP Error 400: Bad Request ENST00000291374.7\n"
     ]
    },
    {
     "name": "stderr",
     "output_type": "stream",
     "text": [
      "\r",
      "  8%|▊         | 40/508 [00:17<03:05,  2.53it/s]"
     ]
    },
    {
     "name": "stdout",
     "output_type": "stream",
     "text": [
      "HTTP Error 400: Bad Request ENST00000294916.2\n"
     ]
    },
    {
     "name": "stderr",
     "output_type": "stream",
     "text": [
      "\r",
      "  8%|▊         | 41/508 [00:17<03:18,  2.35it/s]"
     ]
    },
    {
     "name": "stdout",
     "output_type": "stream",
     "text": [
      "HTTP Error 400: Bad Request ENST00000296885.3\n"
     ]
    },
    {
     "name": "stderr",
     "output_type": "stream",
     "text": [
      "\r",
      "  8%|▊         | 42/508 [00:18<03:08,  2.47it/s]"
     ]
    },
    {
     "name": "stdout",
     "output_type": "stream",
     "text": [
      "HTTP Error 400: Bad Request ENST00000297020.3\n"
     ]
    },
    {
     "name": "stderr",
     "output_type": "stream",
     "text": [
      "\r",
      "  8%|▊         | 43/508 [00:18<03:04,  2.51it/s]"
     ]
    },
    {
     "name": "stdout",
     "output_type": "stream",
     "text": [
      "HTTP Error 400: Bad Request ENST00000297163.3\n"
     ]
    },
    {
     "name": "stderr",
     "output_type": "stream",
     "text": [
      "\r",
      "  9%|▊         | 44/508 [00:19<02:59,  2.59it/s]"
     ]
    },
    {
     "name": "stdout",
     "output_type": "stream",
     "text": [
      "HTTP Error 400: Bad Request ENST00000297801.3\n"
     ]
    },
    {
     "name": "stderr",
     "output_type": "stream",
     "text": [
      "\r",
      "  9%|▉         | 45/508 [00:19<03:01,  2.55it/s]"
     ]
    },
    {
     "name": "stdout",
     "output_type": "stream",
     "text": [
      "HTTP Error 400: Bad Request ENST00000298715.4\n"
     ]
    },
    {
     "name": "stderr",
     "output_type": "stream",
     "text": [
      "\r",
      "  9%|▉         | 46/508 [00:19<02:58,  2.59it/s]"
     ]
    },
    {
     "name": "stdout",
     "output_type": "stream",
     "text": [
      "HTTP Error 400: Bad Request ENST00000298771.7\n"
     ]
    },
    {
     "name": "stderr",
     "output_type": "stream",
     "text": [
      "\r",
      "  9%|▉         | 47/508 [00:20<03:08,  2.44it/s]"
     ]
    },
    {
     "name": "stdout",
     "output_type": "stream",
     "text": [
      "HTTP Error 400: Bad Request ENST00000299512.2\n"
     ]
    },
    {
     "name": "stderr",
     "output_type": "stream",
     "text": [
      "\r",
      "  9%|▉         | 48/508 [00:20<03:00,  2.54it/s]"
     ]
    },
    {
     "name": "stdout",
     "output_type": "stream",
     "text": [
      "HTTP Error 400: Bad Request ENST00000299997.4\n"
     ]
    },
    {
     "name": "stderr",
     "output_type": "stream",
     "text": [
      "\r",
      " 10%|▉         | 49/508 [00:20<03:00,  2.54it/s]"
     ]
    },
    {
     "name": "stdout",
     "output_type": "stream",
     "text": [
      "HTTP Error 400: Bad Request ENST00000300167.6\n"
     ]
    },
    {
     "name": "stderr",
     "output_type": "stream",
     "text": [
      "\r",
      " 10%|▉         | 50/508 [00:21<02:56,  2.59it/s]"
     ]
    },
    {
     "name": "stdout",
     "output_type": "stream",
     "text": [
      "HTTP Error 400: Bad Request ENST00000301171.7\n"
     ]
    },
    {
     "name": "stderr",
     "output_type": "stream",
     "text": [
      "\r",
      " 10%|█         | 51/508 [00:21<02:56,  2.59it/s]"
     ]
    },
    {
     "name": "stdout",
     "output_type": "stream",
     "text": [
      "HTTP Error 400: Bad Request ENST00000303310.2\n"
     ]
    },
    {
     "name": "stderr",
     "output_type": "stream",
     "text": [
      "\r",
      " 10%|█         | 52/508 [00:22<02:54,  2.61it/s]"
     ]
    },
    {
     "name": "stdout",
     "output_type": "stream",
     "text": [
      "HTTP Error 400: Bad Request ENST00000303432.7\n"
     ]
    },
    {
     "name": "stderr",
     "output_type": "stream",
     "text": [
      "\r",
      " 10%|█         | 53/508 [00:22<02:52,  2.64it/s]"
     ]
    },
    {
     "name": "stdout",
     "output_type": "stream",
     "text": [
      "HTTP Error 400: Bad Request ENST00000304105.2\n"
     ]
    },
    {
     "name": "stderr",
     "output_type": "stream",
     "text": [
      "\r",
      " 11%|█         | 54/508 [00:22<02:54,  2.61it/s]"
     ]
    },
    {
     "name": "stdout",
     "output_type": "stream",
     "text": [
      "HTTP Error 400: Bad Request ENST00000304233.3\n"
     ]
    },
    {
     "name": "stderr",
     "output_type": "stream",
     "text": [
      "\r",
      " 11%|█         | 55/508 [00:23<02:53,  2.60it/s]"
     ]
    },
    {
     "name": "stdout",
     "output_type": "stream",
     "text": [
      "HTTP Error 400: Bad Request ENST00000304425.3\n"
     ]
    },
    {
     "name": "stderr",
     "output_type": "stream",
     "text": [
      "\r",
      " 11%|█         | 56/508 [00:23<02:52,  2.62it/s]"
     ]
    },
    {
     "name": "stdout",
     "output_type": "stream",
     "text": [
      "HTTP Error 400: Bad Request ENST00000304488.4\n"
     ]
    },
    {
     "name": "stderr",
     "output_type": "stream",
     "text": [
      "\r",
      " 11%|█         | 57/508 [00:24<02:53,  2.60it/s]"
     ]
    },
    {
     "name": "stdout",
     "output_type": "stream",
     "text": [
      "HTTP Error 400: Bad Request ENST00000304751.9\n"
     ]
    },
    {
     "name": "stderr",
     "output_type": "stream",
     "text": [
      "\r",
      " 11%|█▏        | 58/508 [00:24<02:51,  2.63it/s]"
     ]
    },
    {
     "name": "stdout",
     "output_type": "stream",
     "text": [
      "HTTP Error 400: Bad Request ENST00000304890.3\n"
     ]
    },
    {
     "name": "stderr",
     "output_type": "stream",
     "text": [
      "\r",
      " 12%|█▏        | 59/508 [00:24<02:49,  2.65it/s]"
     ]
    },
    {
     "name": "stdout",
     "output_type": "stream",
     "text": [
      "HTTP Error 400: Bad Request ENST00000304932.4\n"
     ]
    },
    {
     "name": "stderr",
     "output_type": "stream",
     "text": [
      "\r",
      " 12%|█▏        | 60/508 [00:25<02:48,  2.66it/s]"
     ]
    },
    {
     "name": "stdout",
     "output_type": "stream",
     "text": [
      "HTTP Error 400: Bad Request ENST00000305754.2\n"
     ]
    },
    {
     "name": "stderr",
     "output_type": "stream",
     "text": [
      "\r",
      " 12%|█▏        | 61/508 [00:25<02:47,  2.67it/s]"
     ]
    },
    {
     "name": "stdout",
     "output_type": "stream",
     "text": [
      "HTTP Error 400: Bad Request ENST00000305812.7\n"
     ]
    },
    {
     "name": "stderr",
     "output_type": "stream",
     "text": [
      "\r",
      " 12%|█▏        | 62/508 [00:25<02:47,  2.67it/s]"
     ]
    },
    {
     "name": "stdout",
     "output_type": "stream",
     "text": [
      "HTTP Error 400: Bad Request ENST00000306515.2\n"
     ]
    },
    {
     "name": "stderr",
     "output_type": "stream",
     "text": [
      "\r",
      " 12%|█▏        | 63/508 [00:26<02:49,  2.63it/s]"
     ]
    },
    {
     "name": "stdout",
     "output_type": "stream",
     "text": [
      "HTTP Error 400: Bad Request ENST00000307648.5\n"
     ]
    },
    {
     "name": "stderr",
     "output_type": "stream",
     "text": [
      "\r",
      " 13%|█▎        | 64/508 [00:26<02:46,  2.66it/s]"
     ]
    },
    {
     "name": "stdout",
     "output_type": "stream",
     "text": [
      "HTTP Error 400: Bad Request ENST00000308103.6\n"
     ]
    },
    {
     "name": "stderr",
     "output_type": "stream",
     "text": [
      "\r",
      " 13%|█▎        | 65/508 [00:27<02:48,  2.63it/s]"
     ]
    },
    {
     "name": "stdout",
     "output_type": "stream",
     "text": [
      "HTTP Error 400: Bad Request ENST00000309296.5\n"
     ]
    },
    {
     "name": "stderr",
     "output_type": "stream",
     "text": [
      "\r",
      " 13%|█▎        | 66/508 [00:27<02:49,  2.61it/s]"
     ]
    },
    {
     "name": "stdout",
     "output_type": "stream",
     "text": [
      "HTTP Error 400: Bad Request ENST00000309331.4\n"
     ]
    },
    {
     "name": "stderr",
     "output_type": "stream",
     "text": [
      "\r",
      " 13%|█▎        | 67/508 [00:27<03:00,  2.44it/s]"
     ]
    },
    {
     "name": "stdout",
     "output_type": "stream",
     "text": [
      "HTTP Error 400: Bad Request ENST00000309865.7\n"
     ]
    },
    {
     "name": "stderr",
     "output_type": "stream",
     "text": [
      "\r",
      " 13%|█▎        | 68/508 [00:28<02:55,  2.51it/s]"
     ]
    },
    {
     "name": "stdout",
     "output_type": "stream",
     "text": [
      "HTTP Error 400: Bad Request ENST00000309900.7\n"
     ]
    },
    {
     "name": "stderr",
     "output_type": "stream",
     "text": [
      "\r",
      " 14%|█▎        | 69/508 [00:28<02:50,  2.58it/s]"
     ]
    },
    {
     "name": "stdout",
     "output_type": "stream",
     "text": [
      "HTTP Error 400: Bad Request ENST00000310358.7\n"
     ]
    },
    {
     "name": "stderr",
     "output_type": "stream",
     "text": [
      "\r",
      " 14%|█▍        | 70/508 [00:29<02:51,  2.55it/s]"
     ]
    },
    {
     "name": "stdout",
     "output_type": "stream",
     "text": [
      "HTTP Error 400: Bad Request ENST00000310542.3\n"
     ]
    },
    {
     "name": "stderr",
     "output_type": "stream",
     "text": [
      "\r",
      " 14%|█▍        | 71/508 [00:29<02:50,  2.56it/s]"
     ]
    },
    {
     "name": "stdout",
     "output_type": "stream",
     "text": [
      "HTTP Error 400: Bad Request ENST00000310771.4\n"
     ]
    },
    {
     "name": "stderr",
     "output_type": "stream",
     "text": [
      "\r",
      " 14%|█▍        | 72/508 [00:29<02:55,  2.49it/s]"
     ]
    },
    {
     "name": "stdout",
     "output_type": "stream",
     "text": [
      "HTTP Error 400: Bad Request ENST00000311237.4\n"
     ]
    },
    {
     "name": "stderr",
     "output_type": "stream",
     "text": [
      "\r",
      " 14%|█▍        | 73/508 [00:30<02:52,  2.51it/s]"
     ]
    },
    {
     "name": "stdout",
     "output_type": "stream",
     "text": [
      "HTTP Error 400: Bad Request ENST00000312214.5\n"
     ]
    },
    {
     "name": "stderr",
     "output_type": "stream",
     "text": [
      "\r",
      " 15%|█▍        | 74/508 [00:30<02:50,  2.55it/s]"
     ]
    },
    {
     "name": "stdout",
     "output_type": "stream",
     "text": [
      "HTTP Error 400: Bad Request ENST00000312310.3\n"
     ]
    },
    {
     "name": "stderr",
     "output_type": "stream",
     "text": [
      "\r",
      " 15%|█▍        | 75/508 [00:31<02:51,  2.52it/s]"
     ]
    },
    {
     "name": "stdout",
     "output_type": "stream",
     "text": [
      "HTTP Error 400: Bad Request ENST00000312652.2\n"
     ]
    },
    {
     "name": "stderr",
     "output_type": "stream",
     "text": [
      "\r",
      " 15%|█▍        | 76/508 [00:31<02:59,  2.40it/s]"
     ]
    },
    {
     "name": "stdout",
     "output_type": "stream",
     "text": [
      "HTTP Error 400: Bad Request ENST00000312753.5\n"
     ]
    },
    {
     "name": "stderr",
     "output_type": "stream",
     "text": [
      "\r",
      " 15%|█▌        | 77/508 [00:32<03:33,  2.02it/s]"
     ]
    },
    {
     "name": "stdout",
     "output_type": "stream",
     "text": [
      "HTTP Error 400: Bad Request ENST00000312756.4\n"
     ]
    },
    {
     "name": "stderr",
     "output_type": "stream",
     "text": [
      "\r",
      " 15%|█▌        | 78/508 [00:32<03:18,  2.16it/s]"
     ]
    },
    {
     "name": "stdout",
     "output_type": "stream",
     "text": [
      "HTTP Error 400: Bad Request ENST00000313064.2\n"
     ]
    },
    {
     "name": "stderr",
     "output_type": "stream",
     "text": [
      "\r",
      " 16%|█▌        | 79/508 [00:33<03:16,  2.19it/s]"
     ]
    },
    {
     "name": "stdout",
     "output_type": "stream",
     "text": [
      "HTTP Error 400: Bad Request ENST00000313495.2\n"
     ]
    },
    {
     "name": "stderr",
     "output_type": "stream",
     "text": [
      "\r",
      " 16%|█▌        | 80/508 [00:33<03:05,  2.31it/s]"
     ]
    },
    {
     "name": "stdout",
     "output_type": "stream",
     "text": [
      "HTTP Error 400: Bad Request ENST00000313544.2\n"
     ]
    },
    {
     "name": "stderr",
     "output_type": "stream",
     "text": [
      "\r",
      " 16%|█▌        | 81/508 [00:33<02:57,  2.41it/s]"
     ]
    },
    {
     "name": "stdout",
     "output_type": "stream",
     "text": [
      "HTTP Error 400: Bad Request ENST00000313929.7\n"
     ]
    },
    {
     "name": "stderr",
     "output_type": "stream",
     "text": [
      "\r",
      " 16%|█▌        | 82/508 [00:34<02:50,  2.50it/s]"
     ]
    },
    {
     "name": "stdout",
     "output_type": "stream",
     "text": [
      "HTTP Error 400: Bad Request ENST00000313946.8\n"
     ]
    },
    {
     "name": "stderr",
     "output_type": "stream",
     "text": [
      "\r",
      " 16%|█▋        | 83/508 [00:34<02:45,  2.56it/s]"
     ]
    },
    {
     "name": "stdout",
     "output_type": "stream",
     "text": [
      "HTTP Error 400: Bad Request ENST00000313956.4\n"
     ]
    },
    {
     "name": "stderr",
     "output_type": "stream",
     "text": [
      "\r",
      " 17%|█▋        | 84/508 [00:34<02:43,  2.60it/s]"
     ]
    },
    {
     "name": "stdout",
     "output_type": "stream",
     "text": [
      "HTTP Error 400: Bad Request ENST00000314084.4\n"
     ]
    },
    {
     "name": "stderr",
     "output_type": "stream",
     "text": [
      "\r",
      " 17%|█▋        | 85/508 [00:35<03:12,  2.20it/s]"
     ]
    },
    {
     "name": "stdout",
     "output_type": "stream",
     "text": [
      ">ENST00000314140.1 [Homo sapiens]\n",
      "MKLAFLFLGPMALLLLAGYGCVLGASSGNLRTFVGCAVREFTFLAKKPGCRGLRITTDAC\n",
      "WGRCETWEKPILEPPYIEAHHRVCTYNETKQVTVKLPNCAPGVDPFYTYPVAIRCDCGAC\n",
      "STATTECETI\n",
      "\n"
     ]
    },
    {
     "name": "stderr",
     "output_type": "stream",
     "text": [
      "\r",
      " 17%|█▋        | 86/508 [00:35<03:00,  2.34it/s]"
     ]
    },
    {
     "name": "stdout",
     "output_type": "stream",
     "text": [
      "HTTP Error 400: Bad Request ENST00000314315.3\n"
     ]
    },
    {
     "name": "stderr",
     "output_type": "stream",
     "text": [
      "\r",
      " 17%|█▋        | 87/508 [00:36<02:55,  2.40it/s]"
     ]
    },
    {
     "name": "stdout",
     "output_type": "stream",
     "text": [
      "HTTP Error 400: Bad Request ENST00000314835.5\n"
     ]
    },
    {
     "name": "stderr",
     "output_type": "stream",
     "text": [
      "\r",
      " 17%|█▋        | 88/508 [00:36<02:52,  2.44it/s]"
     ]
    },
    {
     "name": "stdout",
     "output_type": "stream",
     "text": [
      "HTTP Error 400: Bad Request ENST00000315066.5\n"
     ]
    },
    {
     "name": "stderr",
     "output_type": "stream",
     "text": [
      "\r",
      " 18%|█▊        | 89/508 [00:37<03:00,  2.32it/s]"
     ]
    },
    {
     "name": "stdout",
     "output_type": "stream",
     "text": [
      "HTTP Error 400: Bad Request ENST00000315808.10\n"
     ]
    },
    {
     "name": "stderr",
     "output_type": "stream",
     "text": [
      "\r",
      " 18%|█▊        | 90/508 [00:37<03:34,  1.95it/s]"
     ]
    },
    {
     "name": "stdout",
     "output_type": "stream",
     "text": [
      "HTTP Error 400: Bad Request ENST00000316148.4\n"
     ]
    },
    {
     "name": "stderr",
     "output_type": "stream",
     "text": [
      "\r",
      " 18%|█▊        | 91/508 [00:38<03:15,  2.13it/s]"
     ]
    },
    {
     "name": "stdout",
     "output_type": "stream",
     "text": [
      "HTTP Error 400: Bad Request ENST00000316347.7\n"
     ]
    },
    {
     "name": "stderr",
     "output_type": "stream",
     "text": [
      "\r",
      " 18%|█▊        | 92/508 [00:38<03:05,  2.24it/s]"
     ]
    },
    {
     "name": "stdout",
     "output_type": "stream",
     "text": [
      "HTTP Error 400: Bad Request ENST00000316733.7\n"
     ]
    },
    {
     "name": "stderr",
     "output_type": "stream",
     "text": [
      "\r",
      " 18%|█▊        | 93/508 [00:38<03:00,  2.30it/s]"
     ]
    },
    {
     "name": "stdout",
     "output_type": "stream",
     "text": [
      "HTTP Error 400: Bad Request ENST00000316786.1\n"
     ]
    },
    {
     "name": "stderr",
     "output_type": "stream",
     "text": [
      "\r",
      " 19%|█▊        | 94/508 [00:39<03:00,  2.29it/s]"
     ]
    },
    {
     "name": "stdout",
     "output_type": "stream",
     "text": [
      "HTTP Error 400: Bad Request ENST00000316807.2\n"
     ]
    },
    {
     "name": "stderr",
     "output_type": "stream",
     "text": [
      "\r",
      " 19%|█▊        | 95/508 [00:39<02:50,  2.42it/s]"
     ]
    },
    {
     "name": "stdout",
     "output_type": "stream",
     "text": [
      "HTTP Error 400: Bad Request ENST00000316962.7\n"
     ]
    },
    {
     "name": "stderr",
     "output_type": "stream",
     "text": [
      "\r",
      " 19%|█▉        | 96/508 [00:40<02:51,  2.40it/s]"
     ]
    },
    {
     "name": "stdout",
     "output_type": "stream",
     "text": [
      "HTTP Error 400: Bad Request ENST00000317008.4\n"
     ]
    },
    {
     "name": "stderr",
     "output_type": "stream",
     "text": [
      "\r",
      " 19%|█▉        | 97/508 [00:40<02:46,  2.47it/s]"
     ]
    },
    {
     "name": "stdout",
     "output_type": "stream",
     "text": [
      "HTTP Error 400: Bad Request ENST00000317114.1\n"
     ]
    },
    {
     "name": "stderr",
     "output_type": "stream",
     "text": [
      "\r",
      " 19%|█▉        | 98/508 [00:40<02:43,  2.50it/s]"
     ]
    },
    {
     "name": "stdout",
     "output_type": "stream",
     "text": [
      "HTTP Error 400: Bad Request ENST00000317122.1\n"
     ]
    },
    {
     "name": "stderr",
     "output_type": "stream",
     "text": [
      "\r",
      " 19%|█▉        | 99/508 [00:41<02:39,  2.57it/s]"
     ]
    },
    {
     "name": "stdout",
     "output_type": "stream",
     "text": [
      "HTTP Error 400: Bad Request ENST00000317292.3\n"
     ]
    },
    {
     "name": "stderr",
     "output_type": "stream",
     "text": [
      "\r",
      " 20%|█▉        | 100/508 [00:41<02:38,  2.58it/s]"
     ]
    },
    {
     "name": "stdout",
     "output_type": "stream",
     "text": [
      "HTTP Error 400: Bad Request ENST00000317359.2\n"
     ]
    },
    {
     "name": "stderr",
     "output_type": "stream",
     "text": [
      "\r",
      " 20%|█▉        | 101/508 [00:42<02:37,  2.59it/s]"
     ]
    },
    {
     "name": "stdout",
     "output_type": "stream",
     "text": [
      "HTTP Error 400: Bad Request ENST00000317419.7\n"
     ]
    },
    {
     "name": "stderr",
     "output_type": "stream",
     "text": [
      "\r",
      " 20%|██        | 102/508 [00:42<02:38,  2.57it/s]"
     ]
    },
    {
     "name": "stdout",
     "output_type": "stream",
     "text": [
      "HTTP Error 400: Bad Request ENST00000317596.3\n"
     ]
    },
    {
     "name": "stderr",
     "output_type": "stream",
     "text": [
      "\r",
      " 20%|██        | 103/508 [00:42<02:37,  2.57it/s]"
     ]
    },
    {
     "name": "stdout",
     "output_type": "stream",
     "text": [
      "HTTP Error 400: Bad Request ENST00000317726.4\n"
     ]
    },
    {
     "name": "stderr",
     "output_type": "stream",
     "text": [
      "\r",
      " 20%|██        | 104/508 [00:43<02:33,  2.63it/s]"
     ]
    },
    {
     "name": "stdout",
     "output_type": "stream",
     "text": [
      "HTTP Error 400: Bad Request ENST00000318333.4\n"
     ]
    },
    {
     "name": "stderr",
     "output_type": "stream",
     "text": [
      "\r",
      " 21%|██        | 105/508 [00:43<02:32,  2.64it/s]"
     ]
    },
    {
     "name": "stdout",
     "output_type": "stream",
     "text": [
      "HTTP Error 400: Bad Request ENST00000318460.1\n"
     ]
    },
    {
     "name": "stderr",
     "output_type": "stream",
     "text": [
      "\r",
      " 21%|██        | 106/508 [00:43<02:30,  2.67it/s]"
     ]
    },
    {
     "name": "stdout",
     "output_type": "stream",
     "text": [
      "HTTP Error 400: Bad Request ENST00000319426.3\n"
     ]
    },
    {
     "name": "stderr",
     "output_type": "stream",
     "text": [
      "\r",
      " 21%|██        | 107/508 [00:44<02:30,  2.66it/s]"
     ]
    },
    {
     "name": "stdout",
     "output_type": "stream",
     "text": [
      "HTTP Error 400: Bad Request ENST00000319682.2\n"
     ]
    },
    {
     "name": "stderr",
     "output_type": "stream",
     "text": [
      "\r",
      " 21%|██▏       | 108/508 [00:44<02:29,  2.68it/s]"
     ]
    },
    {
     "name": "stdout",
     "output_type": "stream",
     "text": [
      "HTTP Error 400: Bad Request ENST00000319748.1\n"
     ]
    },
    {
     "name": "stderr",
     "output_type": "stream",
     "text": [
      "\r",
      " 21%|██▏       | 109/508 [00:45<02:30,  2.65it/s]"
     ]
    },
    {
     "name": "stdout",
     "output_type": "stream",
     "text": [
      "HTTP Error 400: Bad Request ENST00000319957.6\n"
     ]
    },
    {
     "name": "stderr",
     "output_type": "stream",
     "text": [
      "\r",
      " 22%|██▏       | 110/508 [00:45<02:41,  2.47it/s]"
     ]
    },
    {
     "name": "stdout",
     "output_type": "stream",
     "text": [
      "HTTP Error 400: Bad Request ENST00000320322.2\n"
     ]
    },
    {
     "name": "stderr",
     "output_type": "stream",
     "text": [
      "\r",
      " 22%|██▏       | 111/508 [00:45<02:35,  2.56it/s]"
     ]
    },
    {
     "name": "stdout",
     "output_type": "stream",
     "text": [
      "HTTP Error 400: Bad Request ENST00000320491.3\n"
     ]
    },
    {
     "name": "stderr",
     "output_type": "stream",
     "text": [
      "\r",
      " 22%|██▏       | 112/508 [00:46<02:33,  2.58it/s]"
     ]
    },
    {
     "name": "stdout",
     "output_type": "stream",
     "text": [
      "HTTP Error 400: Bad Request ENST00000321336.1\n"
     ]
    },
    {
     "name": "stderr",
     "output_type": "stream",
     "text": [
      "\r",
      " 22%|██▏       | 113/508 [00:46<02:30,  2.62it/s]"
     ]
    },
    {
     "name": "stdout",
     "output_type": "stream",
     "text": [
      "HTTP Error 400: Bad Request ENST00000322220.1\n"
     ]
    },
    {
     "name": "stderr",
     "output_type": "stream",
     "text": [
      "\r",
      " 22%|██▏       | 114/508 [00:47<02:30,  2.61it/s]"
     ]
    },
    {
     "name": "stdout",
     "output_type": "stream",
     "text": [
      "HTTP Error 400: Bad Request ENST00000322353.3\n"
     ]
    },
    {
     "name": "stderr",
     "output_type": "stream",
     "text": [
      "\r",
      " 23%|██▎       | 115/508 [00:47<02:31,  2.60it/s]"
     ]
    },
    {
     "name": "stdout",
     "output_type": "stream",
     "text": [
      "HTTP Error 400: Bad Request ENST00000322472.2\n"
     ]
    },
    {
     "name": "stderr",
     "output_type": "stream",
     "text": [
      "\r",
      " 23%|██▎       | 116/508 [00:47<02:30,  2.60it/s]"
     ]
    },
    {
     "name": "stdout",
     "output_type": "stream",
     "text": [
      "HTTP Error 400: Bad Request ENST00000322493.3\n"
     ]
    },
    {
     "name": "stderr",
     "output_type": "stream",
     "text": [
      "\r",
      " 23%|██▎       | 117/508 [00:48<02:29,  2.61it/s]"
     ]
    },
    {
     "name": "stdout",
     "output_type": "stream",
     "text": [
      "HTTP Error 400: Bad Request ENST00000323164.5\n"
     ]
    },
    {
     "name": "stderr",
     "output_type": "stream",
     "text": [
      "\r",
      " 23%|██▎       | 118/508 [00:48<02:28,  2.63it/s]"
     ]
    },
    {
     "name": "stdout",
     "output_type": "stream",
     "text": [
      "HTTP Error 400: Bad Request ENST00000323380.5\n"
     ]
    },
    {
     "name": "stderr",
     "output_type": "stream",
     "text": [
      "\r",
      " 23%|██▎       | 119/508 [00:48<02:27,  2.64it/s]"
     ]
    },
    {
     "name": "stdout",
     "output_type": "stream",
     "text": [
      "HTTP Error 400: Bad Request ENST00000323496.5\n"
     ]
    },
    {
     "name": "stderr",
     "output_type": "stream",
     "text": [
      "\r",
      " 24%|██▎       | 120/508 [00:49<02:27,  2.63it/s]"
     ]
    },
    {
     "name": "stdout",
     "output_type": "stream",
     "text": [
      "HTTP Error 400: Bad Request ENST00000324309.4\n"
     ]
    },
    {
     "name": "stderr",
     "output_type": "stream",
     "text": [
      "\r",
      " 24%|██▍       | 121/508 [00:49<02:46,  2.32it/s]"
     ]
    },
    {
     "name": "stdout",
     "output_type": "stream",
     "text": [
      ">ENST00000324348.7 [Homo sapiens]\n",
      "MQLLVRVPSLPERGELDCNICYRPFNLGCRAPRRLPGTARARCGHTICTACLRELAARGD\n",
      "GGGAAARVVRLRRVVTCPFCRAPSQLPRGGLTEMALDSDLWSRLEEKARAKCERDEAGNP\n",
      "AKESSDADGEAEEEGESEKGAGPRSAGWRALRRLWDRVLGPARRWRRPLPSNVLYCAEIK\n",
      "DIGHLTRCTL\n",
      "\n"
     ]
    },
    {
     "name": "stderr",
     "output_type": "stream",
     "text": [
      "\r",
      " 24%|██▍       | 122/508 [00:50<03:24,  1.89it/s]"
     ]
    },
    {
     "name": "stdout",
     "output_type": "stream",
     "text": [
      ">ENST00000324677.7 [Homo sapiens]\n",
      "MTLSTLARKRKAPLACTCSLGGPDMIPYFSANAVISQNAINQLISESFLTVKGAALFLPR\n",
      "GNGSSTPRISHRRNKHAGDLQQHLQAMFILLRPEDNIRLAVRLESTYQNRTRYMVVVSTN\n",
      "GRQDTEESIVLGMDFSSNDSSTCTMGLVLPLWSDTLIHLDGDGGFSVSTDNRVHIFKPVS\n",
      "VQAMWVDRDSRNKHCDVLLVEE\n",
      "\n"
     ]
    },
    {
     "name": "stderr",
     "output_type": "stream",
     "text": [
      "\r",
      " 24%|██▍       | 123/508 [00:51<03:11,  2.01it/s]"
     ]
    },
    {
     "name": "stdout",
     "output_type": "stream",
     "text": [
      "HTTP Error 400: Bad Request ENST00000325042.2\n"
     ]
    },
    {
     "name": "stderr",
     "output_type": "stream",
     "text": [
      "\r",
      " 24%|██▍       | 124/508 [00:51<03:00,  2.13it/s]"
     ]
    },
    {
     "name": "stdout",
     "output_type": "stream",
     "text": [
      "HTTP Error 400: Bad Request ENST00000325076.5\n"
     ]
    },
    {
     "name": "stderr",
     "output_type": "stream",
     "text": [
      "\r",
      " 25%|██▍       | 125/508 [00:52<03:07,  2.04it/s]"
     ]
    },
    {
     "name": "stdout",
     "output_type": "stream",
     "text": [
      "HTTP Error 400: Bad Request ENST00000325632.1\n"
     ]
    },
    {
     "name": "stderr",
     "output_type": "stream",
     "text": [
      "\r",
      " 25%|██▍       | 126/508 [00:52<03:14,  1.96it/s]"
     ]
    },
    {
     "name": "stdout",
     "output_type": "stream",
     "text": [
      ">ENST00000325723.6 [Homo sapiens]\n",
      "MSLLSLSWLGLRPVAASPWLLLLVVGASWLLARILAWTYAFYHNGRRLRCFPQPRKQNWF\n",
      "LGHLGLEAQ\n",
      "\n"
     ]
    },
    {
     "name": "stderr",
     "output_type": "stream",
     "text": [
      "\r",
      " 25%|██▌       | 127/508 [00:52<02:58,  2.14it/s]"
     ]
    },
    {
     "name": "stdout",
     "output_type": "stream",
     "text": [
      "HTTP Error 400: Bad Request ENST00000325769.3\n"
     ]
    },
    {
     "name": "stderr",
     "output_type": "stream",
     "text": [
      "\r",
      " 25%|██▌       | 128/508 [00:53<02:46,  2.29it/s]"
     ]
    },
    {
     "name": "stdout",
     "output_type": "stream",
     "text": [
      "HTTP Error 400: Bad Request ENST00000325845.7\n"
     ]
    },
    {
     "name": "stderr",
     "output_type": "stream",
     "text": [
      "\r",
      " 25%|██▌       | 129/508 [00:53<02:38,  2.39it/s]"
     ]
    },
    {
     "name": "stdout",
     "output_type": "stream",
     "text": [
      "HTTP Error 400: Bad Request ENST00000326184.6\n"
     ]
    },
    {
     "name": "stderr",
     "output_type": "stream",
     "text": [
      "\r",
      " 26%|██▌       | 130/508 [00:54<02:33,  2.46it/s]"
     ]
    },
    {
     "name": "stdout",
     "output_type": "stream",
     "text": [
      "HTTP Error 400: Bad Request ENST00000326237.3\n"
     ]
    },
    {
     "name": "stderr",
     "output_type": "stream",
     "text": [
      "\r",
      " 26%|██▌       | 131/508 [00:54<02:30,  2.50it/s]"
     ]
    },
    {
     "name": "stdout",
     "output_type": "stream",
     "text": [
      "HTTP Error 400: Bad Request ENST00000326513.4\n"
     ]
    },
    {
     "name": "stderr",
     "output_type": "stream",
     "text": [
      "\r",
      " 26%|██▌       | 132/508 [00:54<02:26,  2.56it/s]"
     ]
    },
    {
     "name": "stdout",
     "output_type": "stream",
     "text": [
      "HTTP Error 400: Bad Request ENST00000326605.4\n"
     ]
    },
    {
     "name": "stderr",
     "output_type": "stream",
     "text": [
      "\r",
      " 26%|██▌       | 133/508 [00:55<02:25,  2.58it/s]"
     ]
    },
    {
     "name": "stdout",
     "output_type": "stream",
     "text": [
      "HTTP Error 400: Bad Request ENST00000326876.2\n"
     ]
    },
    {
     "name": "stderr",
     "output_type": "stream",
     "text": [
      "\r",
      " 26%|██▋       | 134/508 [00:55<02:22,  2.62it/s]"
     ]
    },
    {
     "name": "stdout",
     "output_type": "stream",
     "text": [
      "HTTP Error 400: Bad Request ENST00000326910.1\n"
     ]
    },
    {
     "name": "stderr",
     "output_type": "stream",
     "text": [
      "\r",
      " 27%|██▋       | 135/508 [00:55<02:23,  2.60it/s]"
     ]
    },
    {
     "name": "stdout",
     "output_type": "stream",
     "text": [
      "HTTP Error 400: Bad Request ENST00000326929.4\n"
     ]
    },
    {
     "name": "stderr",
     "output_type": "stream",
     "text": [
      "\r",
      " 27%|██▋       | 136/508 [00:56<02:22,  2.61it/s]"
     ]
    },
    {
     "name": "stdout",
     "output_type": "stream",
     "text": [
      "HTTP Error 400: Bad Request ENST00000326989.5\n"
     ]
    },
    {
     "name": "stderr",
     "output_type": "stream",
     "text": [
      "\r",
      " 27%|██▋       | 137/508 [00:56<02:19,  2.65it/s]"
     ]
    },
    {
     "name": "stdout",
     "output_type": "stream",
     "text": [
      "HTTP Error 400: Bad Request ENST00000326995.5\n"
     ]
    },
    {
     "name": "stderr",
     "output_type": "stream",
     "text": [
      "\r",
      " 27%|██▋       | 138/508 [00:57<02:21,  2.61it/s]"
     ]
    },
    {
     "name": "stdout",
     "output_type": "stream",
     "text": [
      "HTTP Error 400: Bad Request ENST00000327878.3\n"
     ]
    },
    {
     "name": "stderr",
     "output_type": "stream",
     "text": [
      "\r",
      " 27%|██▋       | 139/508 [00:57<02:25,  2.54it/s]"
     ]
    },
    {
     "name": "stdout",
     "output_type": "stream",
     "text": [
      "HTTP Error 400: Bad Request ENST00000328088.5\n"
     ]
    },
    {
     "name": "stderr",
     "output_type": "stream",
     "text": [
      "\r",
      " 28%|██▊       | 140/508 [00:57<02:27,  2.49it/s]"
     ]
    },
    {
     "name": "stdout",
     "output_type": "stream",
     "text": [
      "HTTP Error 400: Bad Request ENST00000328341.2\n"
     ]
    },
    {
     "name": "stderr",
     "output_type": "stream",
     "text": [
      "\r",
      " 28%|██▊       | 141/508 [00:58<02:23,  2.56it/s]"
     ]
    },
    {
     "name": "stdout",
     "output_type": "stream",
     "text": [
      "HTTP Error 400: Bad Request ENST00000328344.2\n"
     ]
    },
    {
     "name": "stderr",
     "output_type": "stream",
     "text": [
      "\r",
      " 28%|██▊       | 142/508 [00:58<02:22,  2.57it/s]"
     ]
    },
    {
     "name": "stdout",
     "output_type": "stream",
     "text": [
      "HTTP Error 400: Bad Request ENST00000328558.3\n"
     ]
    },
    {
     "name": "stderr",
     "output_type": "stream",
     "text": [
      "\r",
      " 28%|██▊       | 143/508 [00:59<02:19,  2.61it/s]"
     ]
    },
    {
     "name": "stdout",
     "output_type": "stream",
     "text": [
      "HTTP Error 400: Bad Request ENST00000329210.3\n"
     ]
    },
    {
     "name": "stderr",
     "output_type": "stream",
     "text": [
      "\r",
      " 28%|██▊       | 144/508 [00:59<02:18,  2.62it/s]"
     ]
    },
    {
     "name": "stdout",
     "output_type": "stream",
     "text": [
      "HTTP Error 400: Bad Request ENST00000329395.8\n"
     ]
    },
    {
     "name": "stderr",
     "output_type": "stream",
     "text": [
      "\r",
      " 29%|██▊       | 145/508 [01:00<02:43,  2.22it/s]"
     ]
    },
    {
     "name": "stdout",
     "output_type": "stream",
     "text": [
      ">ENST00000330020.3 [Homo sapiens]\n",
      "MAERPGSPGSREMRLLTFRDIAIEFSLEEWQCLDCAQQNLYRDVMLENYRNLVSLGIADS\n",
      "KPDLITCLEQNKEAWNIKRNEMVAKHPVTCSHFTQDLHPEQGIKHSLQKVIPRTYGKCGH\n",
      "ENLQFKKCCKSVGECEVHKGGYNEVKQCLSNTQNKIFQTHKCVIVFGKFSNCNRHETRYT\n",
      "GKKHFKCKKYGKSFCMPSHLNQHQIIHTKEKSYKCEECGKSFKRSSNCTTHKRIHTGEKP\n",
      "YRCEECGKAFRWPSNLTRHKRIHTGEKPYTCEECGQAFRRSSTLTNHKRIHTGERPYKCE\n",
      "ECGKAFSVSSTLNDHKRIHTGEKPYTCEECGRAFNCSSTLKTHKRIHTGEKPYKCEECDK\n",
      "AFKRHSSLAKHKIIHTGEKPYKSK\n",
      "\n"
     ]
    },
    {
     "name": "stderr",
     "output_type": "stream",
     "text": [
      "\r",
      " 29%|██▊       | 146/508 [01:00<02:40,  2.25it/s]"
     ]
    },
    {
     "name": "stdout",
     "output_type": "stream",
     "text": [
      "HTTP Error 400: Bad Request ENST00000330148.2\n"
     ]
    },
    {
     "name": "stderr",
     "output_type": "stream",
     "text": [
      "\r",
      " 29%|██▉       | 147/508 [01:00<02:36,  2.31it/s]"
     ]
    },
    {
     "name": "stdout",
     "output_type": "stream",
     "text": [
      "HTTP Error 400: Bad Request ENST00000330155.3\n"
     ]
    },
    {
     "name": "stderr",
     "output_type": "stream",
     "text": [
      "\r",
      " 29%|██▉       | 148/508 [01:01<02:31,  2.38it/s]"
     ]
    },
    {
     "name": "stdout",
     "output_type": "stream",
     "text": [
      "HTTP Error 400: Bad Request ENST00000330492.4\n"
     ]
    },
    {
     "name": "stderr",
     "output_type": "stream",
     "text": [
      "\r",
      " 29%|██▉       | 149/508 [01:01<02:28,  2.41it/s]"
     ]
    },
    {
     "name": "stdout",
     "output_type": "stream",
     "text": [
      "HTTP Error 400: Bad Request ENST00000330554.4\n"
     ]
    },
    {
     "name": "stderr",
     "output_type": "stream",
     "text": [
      "\r",
      " 30%|██▉       | 150/508 [01:02<02:24,  2.48it/s]"
     ]
    },
    {
     "name": "stdout",
     "output_type": "stream",
     "text": [
      "HTTP Error 400: Bad Request ENST00000330816.5\n"
     ]
    },
    {
     "name": "stderr",
     "output_type": "stream",
     "text": [
      "\r",
      " 30%|██▉       | 151/508 [01:02<02:20,  2.54it/s]"
     ]
    },
    {
     "name": "stdout",
     "output_type": "stream",
     "text": [
      "HTTP Error 400: Bad Request ENST00000330888.2\n"
     ]
    },
    {
     "name": "stderr",
     "output_type": "stream",
     "text": [
      "\r",
      " 30%|██▉       | 152/508 [01:02<02:19,  2.55it/s]"
     ]
    },
    {
     "name": "stdout",
     "output_type": "stream",
     "text": [
      "HTTP Error 400: Bad Request ENST00000331096.2\n"
     ]
    },
    {
     "name": "stderr",
     "output_type": "stream",
     "text": [
      "\r",
      " 30%|███       | 153/508 [01:03<02:19,  2.55it/s]"
     ]
    },
    {
     "name": "stdout",
     "output_type": "stream",
     "text": [
      "HTTP Error 400: Bad Request ENST00000331301.4\n"
     ]
    },
    {
     "name": "stderr",
     "output_type": "stream",
     "text": [
      "\r",
      " 30%|███       | 154/508 [01:03<02:17,  2.57it/s]"
     ]
    },
    {
     "name": "stdout",
     "output_type": "stream",
     "text": [
      "HTTP Error 400: Bad Request ENST00000331497.3\n"
     ]
    },
    {
     "name": "stderr",
     "output_type": "stream",
     "text": [
      "\r",
      " 31%|███       | 155/508 [01:03<02:14,  2.63it/s]"
     ]
    },
    {
     "name": "stdout",
     "output_type": "stream",
     "text": [
      "HTTP Error 400: Bad Request ENST00000331596.3\n"
     ]
    },
    {
     "name": "stderr",
     "output_type": "stream",
     "text": [
      "\r",
      " 31%|███       | 156/508 [01:04<02:13,  2.64it/s]"
     ]
    },
    {
     "name": "stdout",
     "output_type": "stream",
     "text": [
      "HTTP Error 400: Bad Request ENST00000331736.2\n"
     ]
    },
    {
     "name": "stderr",
     "output_type": "stream",
     "text": [
      "\r",
      " 31%|███       | 157/508 [01:04<02:11,  2.68it/s]"
     ]
    },
    {
     "name": "stdout",
     "output_type": "stream",
     "text": [
      "HTTP Error 400: Bad Request ENST00000331842.4\n"
     ]
    },
    {
     "name": "stderr",
     "output_type": "stream",
     "text": [
      "\r",
      " 31%|███       | 158/508 [01:05<02:10,  2.69it/s]"
     ]
    },
    {
     "name": "stdout",
     "output_type": "stream",
     "text": [
      "HTTP Error 400: Bad Request ENST00000331856.2\n"
     ]
    },
    {
     "name": "stderr",
     "output_type": "stream",
     "text": [
      "\r",
      " 31%|███▏      | 159/508 [01:05<02:09,  2.69it/s]"
     ]
    },
    {
     "name": "stdout",
     "output_type": "stream",
     "text": [
      "HTTP Error 400: Bad Request ENST00000331871.3\n"
     ]
    },
    {
     "name": "stderr",
     "output_type": "stream",
     "text": [
      "\r",
      " 31%|███▏      | 160/508 [01:05<02:09,  2.68it/s]"
     ]
    },
    {
     "name": "stdout",
     "output_type": "stream",
     "text": [
      "HTTP Error 400: Bad Request ENST00000331979.5\n"
     ]
    },
    {
     "name": "stderr",
     "output_type": "stream",
     "text": [
      "\r",
      " 32%|███▏      | 161/508 [01:06<02:09,  2.69it/s]"
     ]
    },
    {
     "name": "stdout",
     "output_type": "stream",
     "text": [
      "HTTP Error 400: Bad Request ENST00000331998.1\n"
     ]
    },
    {
     "name": "stderr",
     "output_type": "stream",
     "text": [
      "\r",
      " 32%|███▏      | 162/508 [01:06<02:08,  2.69it/s]"
     ]
    },
    {
     "name": "stdout",
     "output_type": "stream",
     "text": [
      "HTTP Error 400: Bad Request ENST00000332012.5\n"
     ]
    },
    {
     "name": "stderr",
     "output_type": "stream",
     "text": [
      "\r",
      " 32%|███▏      | 163/508 [01:06<02:08,  2.68it/s]"
     ]
    },
    {
     "name": "stdout",
     "output_type": "stream",
     "text": [
      "HTTP Error 400: Bad Request ENST00000332088.6\n"
     ]
    },
    {
     "name": "stderr",
     "output_type": "stream",
     "text": [
      "\r",
      " 32%|███▏      | 164/508 [01:07<02:12,  2.59it/s]"
     ]
    },
    {
     "name": "stdout",
     "output_type": "stream",
     "text": [
      "HTTP Error 400: Bad Request ENST00000332100.4\n"
     ]
    },
    {
     "name": "stderr",
     "output_type": "stream",
     "text": [
      "\r",
      " 32%|███▏      | 165/508 [01:08<02:52,  1.98it/s]"
     ]
    },
    {
     "name": "stdout",
     "output_type": "stream",
     "text": [
      ">ENST00000332468.4 [Homo sapiens]\n",
      "HRDCVDPWLMLQQTCPLCKFNVLGEHQGWGPSAYSACSSPDASLPVLLPLPCREPLLR\n",
      "\n"
     ]
    },
    {
     "name": "stderr",
     "output_type": "stream",
     "text": [
      "\r",
      " 33%|███▎      | 166/508 [01:08<02:39,  2.15it/s]"
     ]
    },
    {
     "name": "stdout",
     "output_type": "stream",
     "text": [
      "HTTP Error 400: Bad Request ENST00000332473.2\n"
     ]
    },
    {
     "name": "stderr",
     "output_type": "stream",
     "text": [
      "\r",
      " 33%|███▎      | 167/508 [01:08<02:29,  2.29it/s]"
     ]
    },
    {
     "name": "stdout",
     "output_type": "stream",
     "text": [
      "HTTP Error 400: Bad Request ENST00000333145.5\n"
     ]
    },
    {
     "name": "stderr",
     "output_type": "stream",
     "text": [
      "\r",
      " 33%|███▎      | 168/508 [01:09<02:23,  2.37it/s]"
     ]
    },
    {
     "name": "stdout",
     "output_type": "stream",
     "text": [
      "HTTP Error 400: Bad Request ENST00000333482.4\n"
     ]
    },
    {
     "name": "stderr",
     "output_type": "stream",
     "text": [
      "\r",
      " 33%|███▎      | 169/508 [01:09<02:18,  2.45it/s]"
     ]
    },
    {
     "name": "stdout",
     "output_type": "stream",
     "text": [
      "HTTP Error 400: Bad Request ENST00000333487.2\n"
     ]
    },
    {
     "name": "stderr",
     "output_type": "stream",
     "text": [
      "\r",
      " 33%|███▎      | 170/508 [01:10<02:15,  2.49it/s]"
     ]
    },
    {
     "name": "stdout",
     "output_type": "stream",
     "text": [
      "HTTP Error 400: Bad Request ENST00000333854.2\n"
     ]
    },
    {
     "name": "stderr",
     "output_type": "stream",
     "text": [
      "\r",
      " 34%|███▎      | 171/508 [01:10<02:13,  2.53it/s]"
     ]
    },
    {
     "name": "stdout",
     "output_type": "stream",
     "text": [
      "HTTP Error 400: Bad Request ENST00000333984.3\n"
     ]
    },
    {
     "name": "stderr",
     "output_type": "stream",
     "text": [
      "\r",
      " 34%|███▍      | 172/508 [01:10<02:21,  2.37it/s]"
     ]
    },
    {
     "name": "stdout",
     "output_type": "stream",
     "text": [
      ">ENST00000334095.4 [Homo sapiens]\n",
      "XVEIHLDLLSSRDPPQSPK\n",
      "\n"
     ]
    },
    {
     "name": "stderr",
     "output_type": "stream",
     "text": [
      "\r",
      " 34%|███▍      | 173/508 [01:11<02:15,  2.46it/s]"
     ]
    },
    {
     "name": "stdout",
     "output_type": "stream",
     "text": [
      "HTTP Error 400: Bad Request ENST00000334148.7\n"
     ]
    },
    {
     "name": "stderr",
     "output_type": "stream",
     "text": [
      "\r",
      " 34%|███▍      | 174/508 [01:11<02:11,  2.54it/s]"
     ]
    },
    {
     "name": "stdout",
     "output_type": "stream",
     "text": [
      "HTTP Error 400: Bad Request ENST00000334208.4\n"
     ]
    },
    {
     "name": "stderr",
     "output_type": "stream",
     "text": [
      "\r",
      " 34%|███▍      | 175/508 [01:12<02:09,  2.58it/s]"
     ]
    },
    {
     "name": "stdout",
     "output_type": "stream",
     "text": [
      "HTTP Error 400: Bad Request ENST00000334288.5\n"
     ]
    },
    {
     "name": "stderr",
     "output_type": "stream",
     "text": [
      "\r",
      " 35%|███▍      | 176/508 [01:12<02:06,  2.63it/s]"
     ]
    },
    {
     "name": "stdout",
     "output_type": "stream",
     "text": [
      "HTTP Error 400: Bad Request ENST00000334298.3\n"
     ]
    },
    {
     "name": "stderr",
     "output_type": "stream",
     "text": [
      "\r",
      " 35%|███▍      | 177/508 [01:12<02:04,  2.65it/s]"
     ]
    },
    {
     "name": "stdout",
     "output_type": "stream",
     "text": [
      "HTTP Error 400: Bad Request ENST00000334328.5\n"
     ]
    },
    {
     "name": "stderr",
     "output_type": "stream",
     "text": [
      "\r",
      " 35%|███▌      | 178/508 [01:13<02:03,  2.67it/s]"
     ]
    },
    {
     "name": "stdout",
     "output_type": "stream",
     "text": [
      "HTTP Error 400: Bad Request ENST00000334389.4\n"
     ]
    },
    {
     "name": "stderr",
     "output_type": "stream",
     "text": [
      "\r",
      " 35%|███▌      | 179/508 [01:13<02:04,  2.64it/s]"
     ]
    },
    {
     "name": "stdout",
     "output_type": "stream",
     "text": [
      "HTTP Error 400: Bad Request ENST00000334429.5\n"
     ]
    },
    {
     "name": "stderr",
     "output_type": "stream",
     "text": [
      "\r",
      " 35%|███▌      | 180/508 [01:13<02:10,  2.52it/s]"
     ]
    },
    {
     "name": "stdout",
     "output_type": "stream",
     "text": [
      "HTTP Error 400: Bad Request ENST00000334566.5\n"
     ]
    },
    {
     "name": "stderr",
     "output_type": "stream",
     "text": [
      "\r",
      " 36%|███▌      | 181/508 [01:14<02:07,  2.57it/s]"
     ]
    },
    {
     "name": "stdout",
     "output_type": "stream",
     "text": [
      "HTTP Error 400: Bad Request ENST00000334716.3\n"
     ]
    },
    {
     "name": "stderr",
     "output_type": "stream",
     "text": [
      "\r",
      " 36%|███▌      | 182/508 [01:14<02:06,  2.57it/s]"
     ]
    },
    {
     "name": "stdout",
     "output_type": "stream",
     "text": [
      "HTTP Error 400: Bad Request ENST00000334821.3\n"
     ]
    },
    {
     "name": "stderr",
     "output_type": "stream",
     "text": [
      "\r",
      " 36%|███▌      | 183/508 [01:15<02:03,  2.63it/s]"
     ]
    },
    {
     "name": "stdout",
     "output_type": "stream",
     "text": [
      "HTTP Error 400: Bad Request ENST00000335106.1\n"
     ]
    },
    {
     "name": "stderr",
     "output_type": "stream",
     "text": [
      "\r",
      " 36%|███▌      | 184/508 [01:15<02:08,  2.52it/s]"
     ]
    },
    {
     "name": "stdout",
     "output_type": "stream",
     "text": [
      "HTTP Error 400: Bad Request ENST00000335142.5\n"
     ]
    },
    {
     "name": "stderr",
     "output_type": "stream",
     "text": [
      "\r",
      " 36%|███▋      | 185/508 [01:15<02:05,  2.58it/s]"
     ]
    },
    {
     "name": "stdout",
     "output_type": "stream",
     "text": [
      "HTTP Error 400: Bad Request ENST00000335388.5\n"
     ]
    },
    {
     "name": "stderr",
     "output_type": "stream",
     "text": [
      "\r",
      " 37%|███▋      | 186/508 [01:16<02:03,  2.61it/s]"
     ]
    },
    {
     "name": "stdout",
     "output_type": "stream",
     "text": [
      "HTTP Error 400: Bad Request ENST00000335500.4\n"
     ]
    },
    {
     "name": "stderr",
     "output_type": "stream",
     "text": [
      "\r",
      " 37%|███▋      | 187/508 [01:16<02:01,  2.63it/s]"
     ]
    },
    {
     "name": "stdout",
     "output_type": "stream",
     "text": [
      "HTTP Error 400: Bad Request ENST00000335507.5\n"
     ]
    },
    {
     "name": "stderr",
     "output_type": "stream",
     "text": [
      "\r",
      " 37%|███▋      | 188/508 [01:16<02:00,  2.65it/s]"
     ]
    },
    {
     "name": "stdout",
     "output_type": "stream",
     "text": [
      "HTTP Error 400: Bad Request ENST00000335580.5\n"
     ]
    },
    {
     "name": "stderr",
     "output_type": "stream",
     "text": [
      "\r",
      " 37%|███▋      | 189/508 [01:17<02:01,  2.62it/s]"
     ]
    },
    {
     "name": "stdout",
     "output_type": "stream",
     "text": [
      "HTTP Error 400: Bad Request ENST00000336486.5\n"
     ]
    },
    {
     "name": "stderr",
     "output_type": "stream",
     "text": [
      "\r",
      " 37%|███▋      | 190/508 [01:17<02:03,  2.57it/s]"
     ]
    },
    {
     "name": "stdout",
     "output_type": "stream",
     "text": [
      "HTTP Error 400: Bad Request ENST00000337471.4\n"
     ]
    },
    {
     "name": "stderr",
     "output_type": "stream",
     "text": [
      "\r",
      " 38%|███▊      | 191/508 [01:18<02:02,  2.58it/s]"
     ]
    },
    {
     "name": "stdout",
     "output_type": "stream",
     "text": [
      "HTTP Error 400: Bad Request ENST00000338192.6\n"
     ]
    },
    {
     "name": "stderr",
     "output_type": "stream",
     "text": [
      "\r",
      " 38%|███▊      | 192/508 [01:18<02:02,  2.57it/s]"
     ]
    },
    {
     "name": "stdout",
     "output_type": "stream",
     "text": [
      "HTTP Error 400: Bad Request ENST00000338231.3\n"
     ]
    },
    {
     "name": "stderr",
     "output_type": "stream",
     "text": [
      "\r",
      " 38%|███▊      | 193/508 [01:18<02:00,  2.61it/s]"
     ]
    },
    {
     "name": "stdout",
     "output_type": "stream",
     "text": [
      "HTTP Error 400: Bad Request ENST00000338236.1\n"
     ]
    },
    {
     "name": "stderr",
     "output_type": "stream",
     "text": [
      "\r",
      " 38%|███▊      | 194/508 [01:19<02:01,  2.59it/s]"
     ]
    },
    {
     "name": "stdout",
     "output_type": "stream",
     "text": [
      "HTTP Error 400: Bad Request ENST00000338573.5\n"
     ]
    },
    {
     "name": "stderr",
     "output_type": "stream",
     "text": [
      "\r",
      " 38%|███▊      | 195/508 [01:19<01:58,  2.63it/s]"
     ]
    },
    {
     "name": "stdout",
     "output_type": "stream",
     "text": [
      "HTTP Error 400: Bad Request ENST00000338709.3\n"
     ]
    },
    {
     "name": "stderr",
     "output_type": "stream",
     "text": [
      "\r",
      " 39%|███▊      | 196/508 [01:20<01:57,  2.65it/s]"
     ]
    },
    {
     "name": "stdout",
     "output_type": "stream",
     "text": [
      "HTTP Error 400: Bad Request ENST00000338711.5\n"
     ]
    },
    {
     "name": "stderr",
     "output_type": "stream",
     "text": [
      "\r",
      " 39%|███▉      | 197/508 [01:20<01:57,  2.65it/s]"
     ]
    },
    {
     "name": "stdout",
     "output_type": "stream",
     "text": [
      "HTTP Error 400: Bad Request ENST00000338790.4\n"
     ]
    },
    {
     "name": "stderr",
     "output_type": "stream",
     "text": [
      "\r",
      " 39%|███▉      | 198/508 [01:20<01:56,  2.67it/s]"
     ]
    },
    {
     "name": "stdout",
     "output_type": "stream",
     "text": [
      "HTTP Error 400: Bad Request ENST00000338885.3\n"
     ]
    },
    {
     "name": "stderr",
     "output_type": "stream",
     "text": [
      "\r",
      " 39%|███▉      | 199/508 [01:21<01:54,  2.70it/s]"
     ]
    },
    {
     "name": "stdout",
     "output_type": "stream",
     "text": [
      "HTTP Error 400: Bad Request ENST00000339092.2\n"
     ]
    },
    {
     "name": "stderr",
     "output_type": "stream",
     "text": [
      "\r",
      " 39%|███▉      | 200/508 [01:21<01:59,  2.57it/s]"
     ]
    },
    {
     "name": "stdout",
     "output_type": "stream",
     "text": [
      "HTTP Error 400: Bad Request ENST00000339367.4\n"
     ]
    },
    {
     "name": "stderr",
     "output_type": "stream",
     "text": [
      "\r",
      " 40%|███▉      | 201/508 [01:22<02:03,  2.49it/s]"
     ]
    },
    {
     "name": "stdout",
     "output_type": "stream",
     "text": [
      "HTTP Error 400: Bad Request ENST00000339569.5\n"
     ]
    },
    {
     "name": "stderr",
     "output_type": "stream",
     "text": [
      "\r",
      " 40%|███▉      | 202/508 [01:22<02:02,  2.50it/s]"
     ]
    },
    {
     "name": "stdout",
     "output_type": "stream",
     "text": [
      "HTTP Error 400: Bad Request ENST00000339898.5\n"
     ]
    },
    {
     "name": "stderr",
     "output_type": "stream",
     "text": [
      "\r",
      " 40%|███▉      | 203/508 [01:22<02:00,  2.53it/s]"
     ]
    },
    {
     "name": "stdout",
     "output_type": "stream",
     "text": [
      "HTTP Error 400: Bad Request ENST00000340118.3\n"
     ]
    },
    {
     "name": "stderr",
     "output_type": "stream",
     "text": [
      "\r",
      " 40%|████      | 204/508 [01:23<01:57,  2.58it/s]"
     ]
    },
    {
     "name": "stdout",
     "output_type": "stream",
     "text": [
      "HTTP Error 400: Bad Request ENST00000340286.6\n"
     ]
    },
    {
     "name": "stderr",
     "output_type": "stream",
     "text": [
      "\r",
      " 40%|████      | 205/508 [01:23<01:57,  2.58it/s]"
     ]
    },
    {
     "name": "stdout",
     "output_type": "stream",
     "text": [
      "HTTP Error 400: Bad Request ENST00000340350.2\n"
     ]
    },
    {
     "name": "stderr",
     "output_type": "stream",
     "text": [
      "\r",
      " 41%|████      | 206/508 [01:23<01:56,  2.59it/s]"
     ]
    },
    {
     "name": "stdout",
     "output_type": "stream",
     "text": [
      "HTTP Error 400: Bad Request ENST00000340510.4\n"
     ]
    },
    {
     "name": "stderr",
     "output_type": "stream",
     "text": [
      "\r",
      " 41%|████      | 207/508 [01:24<01:57,  2.57it/s]"
     ]
    },
    {
     "name": "stdout",
     "output_type": "stream",
     "text": [
      "HTTP Error 400: Bad Request ENST00000340697.3\n"
     ]
    },
    {
     "name": "stderr",
     "output_type": "stream",
     "text": [
      "\r",
      " 41%|████      | 208/508 [01:24<01:57,  2.55it/s]"
     ]
    },
    {
     "name": "stdout",
     "output_type": "stream",
     "text": [
      "HTTP Error 400: Bad Request ENST00000340708.6\n"
     ]
    },
    {
     "name": "stderr",
     "output_type": "stream",
     "text": [
      "\r",
      " 41%|████      | 209/508 [01:25<01:58,  2.53it/s]"
     ]
    },
    {
     "name": "stdout",
     "output_type": "stream",
     "text": [
      "HTTP Error 400: Bad Request ENST00000340731.3\n"
     ]
    },
    {
     "name": "stderr",
     "output_type": "stream",
     "text": [
      "\r",
      " 41%|████▏     | 210/508 [01:25<01:55,  2.59it/s]"
     ]
    },
    {
     "name": "stdout",
     "output_type": "stream",
     "text": [
      "HTTP Error 400: Bad Request ENST00000340779.3\n"
     ]
    },
    {
     "name": "stderr",
     "output_type": "stream",
     "text": [
      "\r",
      " 42%|████▏     | 211/508 [01:25<01:57,  2.53it/s]"
     ]
    },
    {
     "name": "stdout",
     "output_type": "stream",
     "text": [
      ">ENST00000340783.6 [Homo sapiens]\n",
      "MLSPTFVLWDVGYPLYTYGSICIIALIIWQVKKSCQKLSLVPNRSCCRCHRRVQQKSGDR\n",
      "TSRARRTSQEEAEKLWKLLFLMKSQGWLPQEGSVRRILCADPCCQICNVMALEIKQLLAA\n",
      "PEVGLDNKMKLFLHWINPEMKDRRHEESILLSKAETVTQDRTKNIEKSPTVTKDHVWGAT\n",
      "TQKTTEDPEAQPPSTEEEGLIFCDAPSA\n",
      "\n"
     ]
    },
    {
     "name": "stderr",
     "output_type": "stream",
     "text": [
      "\r",
      " 42%|████▏     | 212/508 [01:26<01:54,  2.60it/s]"
     ]
    },
    {
     "name": "stdout",
     "output_type": "stream",
     "text": [
      "HTTP Error 400: Bad Request ENST00000340794.3\n"
     ]
    },
    {
     "name": "stderr",
     "output_type": "stream",
     "text": [
      "\r",
      " 42%|████▏     | 213/508 [01:26<01:52,  2.61it/s]"
     ]
    },
    {
     "name": "stdout",
     "output_type": "stream",
     "text": [
      "HTTP Error 400: Bad Request ENST00000340858.4\n"
     ]
    },
    {
     "name": "stderr",
     "output_type": "stream",
     "text": [
      "\r",
      " 42%|████▏     | 214/508 [01:27<01:53,  2.59it/s]"
     ]
    },
    {
     "name": "stdout",
     "output_type": "stream",
     "text": [
      "HTTP Error 400: Bad Request ENST00000341011.7\n"
     ]
    },
    {
     "name": "stderr",
     "output_type": "stream",
     "text": [
      "\r",
      " 42%|████▏     | 215/508 [01:27<01:50,  2.65it/s]"
     ]
    },
    {
     "name": "stdout",
     "output_type": "stream",
     "text": [
      "HTTP Error 400: Bad Request ENST00000341155.7\n"
     ]
    },
    {
     "name": "stderr",
     "output_type": "stream",
     "text": [
      "\r",
      " 43%|████▎     | 216/508 [01:27<01:52,  2.60it/s]"
     ]
    },
    {
     "name": "stdout",
     "output_type": "stream",
     "text": [
      "HTTP Error 400: Bad Request ENST00000342073.4\n"
     ]
    },
    {
     "name": "stderr",
     "output_type": "stream",
     "text": [
      "\r",
      " 43%|████▎     | 217/508 [01:28<01:50,  2.62it/s]"
     ]
    },
    {
     "name": "stdout",
     "output_type": "stream",
     "text": [
      "HTTP Error 400: Bad Request ENST00000342887.1\n"
     ]
    },
    {
     "name": "stderr",
     "output_type": "stream",
     "text": [
      "\r",
      " 43%|████▎     | 218/508 [01:28<01:48,  2.67it/s]"
     ]
    },
    {
     "name": "stdout",
     "output_type": "stream",
     "text": [
      "HTTP Error 400: Bad Request ENST00000342938.4\n"
     ]
    },
    {
     "name": "stderr",
     "output_type": "stream",
     "text": [
      "\r",
      " 43%|████▎     | 219/508 [01:28<01:49,  2.65it/s]"
     ]
    },
    {
     "name": "stdout",
     "output_type": "stream",
     "text": [
      "HTTP Error 400: Bad Request ENST00000342943.3\n"
     ]
    },
    {
     "name": "stderr",
     "output_type": "stream",
     "text": [
      "\r",
      " 43%|████▎     | 220/508 [01:29<02:04,  2.31it/s]"
     ]
    },
    {
     "name": "stdout",
     "output_type": "stream",
     "text": [
      "HTTP Error 400: Bad Request ENST00000343987.2\n"
     ]
    },
    {
     "name": "stderr",
     "output_type": "stream",
     "text": [
      "\r",
      " 44%|████▎     | 221/508 [01:29<01:59,  2.41it/s]"
     ]
    },
    {
     "name": "stdout",
     "output_type": "stream",
     "text": [
      "HTTP Error 400: Bad Request ENST00000344049.1\n"
     ]
    },
    {
     "name": "stderr",
     "output_type": "stream",
     "text": [
      "\r",
      " 44%|████▎     | 222/508 [01:30<01:54,  2.50it/s]"
     ]
    },
    {
     "name": "stdout",
     "output_type": "stream",
     "text": [
      "HTTP Error 400: Bad Request ENST00000344067.2\n"
     ]
    },
    {
     "name": "stderr",
     "output_type": "stream",
     "text": [
      "\r",
      " 44%|████▍     | 223/508 [01:30<01:51,  2.55it/s]"
     ]
    },
    {
     "name": "stdout",
     "output_type": "stream",
     "text": [
      "HTTP Error 400: Bad Request ENST00000344693.5\n"
     ]
    },
    {
     "name": "stderr",
     "output_type": "stream",
     "text": [
      "\r",
      " 44%|████▍     | 224/508 [01:30<01:49,  2.59it/s]"
     ]
    },
    {
     "name": "stdout",
     "output_type": "stream",
     "text": [
      "HTTP Error 400: Bad Request ENST00000344893.3\n"
     ]
    },
    {
     "name": "stderr",
     "output_type": "stream",
     "text": [
      "\r",
      " 44%|████▍     | 225/508 [01:31<01:53,  2.49it/s]"
     ]
    },
    {
     "name": "stdout",
     "output_type": "stream",
     "text": [
      "HTTP Error 400: Bad Request ENST00000350356.3\n"
     ]
    },
    {
     "name": "stderr",
     "output_type": "stream",
     "text": [
      "\r",
      " 44%|████▍     | 226/508 [01:31<01:52,  2.51it/s]"
     ]
    },
    {
     "name": "stdout",
     "output_type": "stream",
     "text": [
      "HTTP Error 400: Bad Request ENST00000352103.6\n"
     ]
    },
    {
     "name": "stderr",
     "output_type": "stream",
     "text": [
      "\r",
      " 45%|████▍     | 227/508 [01:32<01:48,  2.58it/s]"
     ]
    },
    {
     "name": "stdout",
     "output_type": "stream",
     "text": [
      "HTTP Error 400: Bad Request ENST00000354432.3\n"
     ]
    },
    {
     "name": "stderr",
     "output_type": "stream",
     "text": [
      "\r",
      " 45%|████▍     | 228/508 [01:32<01:48,  2.59it/s]"
     ]
    },
    {
     "name": "stdout",
     "output_type": "stream",
     "text": [
      "HTTP Error 400: Bad Request ENST00000354485.5\n"
     ]
    },
    {
     "name": "stderr",
     "output_type": "stream",
     "text": [
      "\r",
      " 45%|████▌     | 229/508 [01:32<01:48,  2.57it/s]"
     ]
    },
    {
     "name": "stdout",
     "output_type": "stream",
     "text": [
      "HTTP Error 400: Bad Request ENST00000354530.2\n"
     ]
    },
    {
     "name": "stderr",
     "output_type": "stream",
     "text": [
      "\r",
      " 45%|████▌     | 230/508 [01:33<01:47,  2.59it/s]"
     ]
    },
    {
     "name": "stdout",
     "output_type": "stream",
     "text": [
      "HTTP Error 400: Bad Request ENST00000354576.4\n"
     ]
    },
    {
     "name": "stderr",
     "output_type": "stream",
     "text": [
      "\r",
      " 45%|████▌     | 231/508 [01:33<01:44,  2.65it/s]"
     ]
    },
    {
     "name": "stdout",
     "output_type": "stream",
     "text": [
      "HTTP Error 400: Bad Request ENST00000355177.4\n"
     ]
    },
    {
     "name": "stderr",
     "output_type": "stream",
     "text": [
      "\r",
      " 46%|████▌     | 232/508 [01:34<01:47,  2.58it/s]"
     ]
    },
    {
     "name": "stdout",
     "output_type": "stream",
     "text": [
      "HTTP Error 400: Bad Request ENST00000355343.2\n"
     ]
    },
    {
     "name": "stderr",
     "output_type": "stream",
     "text": [
      "\r",
      " 46%|████▌     | 233/508 [01:34<01:44,  2.62it/s]"
     ]
    },
    {
     "name": "stdout",
     "output_type": "stream",
     "text": [
      "HTTP Error 400: Bad Request ENST00000355345.4\n"
     ]
    },
    {
     "name": "stderr",
     "output_type": "stream",
     "text": [
      "\r",
      " 46%|████▌     | 234/508 [01:34<01:43,  2.65it/s]"
     ]
    },
    {
     "name": "stdout",
     "output_type": "stream",
     "text": [
      "HTTP Error 400: Bad Request ENST00000355358.1\n"
     ]
    },
    {
     "name": "stderr",
     "output_type": "stream",
     "text": [
      "\r",
      " 46%|████▋     | 235/508 [01:35<01:41,  2.68it/s]"
     ]
    },
    {
     "name": "stdout",
     "output_type": "stream",
     "text": [
      "HTTP Error 400: Bad Request ENST00000355436.2\n"
     ]
    },
    {
     "name": "stderr",
     "output_type": "stream",
     "text": [
      "\r",
      " 46%|████▋     | 236/508 [01:35<01:42,  2.65it/s]"
     ]
    },
    {
     "name": "stdout",
     "output_type": "stream",
     "text": [
      "HTTP Error 400: Bad Request ENST00000355486.3\n"
     ]
    },
    {
     "name": "stderr",
     "output_type": "stream",
     "text": [
      "\r",
      " 47%|████▋     | 237/508 [01:35<01:42,  2.63it/s]"
     ]
    },
    {
     "name": "stdout",
     "output_type": "stream",
     "text": [
      "HTTP Error 400: Bad Request ENST00000355500.1\n"
     ]
    },
    {
     "name": "stderr",
     "output_type": "stream",
     "text": [
      "\r",
      " 47%|████▋     | 238/508 [01:36<01:43,  2.60it/s]"
     ]
    },
    {
     "name": "stdout",
     "output_type": "stream",
     "text": [
      "HTTP Error 400: Bad Request ENST00000355745.3\n"
     ]
    },
    {
     "name": "stderr",
     "output_type": "stream",
     "text": [
      "\r",
      " 47%|████▋     | 239/508 [01:36<01:46,  2.53it/s]"
     ]
    },
    {
     "name": "stdout",
     "output_type": "stream",
     "text": [
      "HTTP Error 400: Bad Request ENST00000355837.4\n"
     ]
    },
    {
     "name": "stderr",
     "output_type": "stream",
     "text": [
      "\r",
      " 47%|████▋     | 240/508 [01:37<01:44,  2.56it/s]"
     ]
    },
    {
     "name": "stdout",
     "output_type": "stream",
     "text": [
      "HTTP Error 400: Bad Request ENST00000355909.3\n"
     ]
    },
    {
     "name": "stderr",
     "output_type": "stream",
     "text": [
      "\r",
      " 47%|████▋     | 241/508 [01:37<01:43,  2.58it/s]"
     ]
    },
    {
     "name": "stdout",
     "output_type": "stream",
     "text": [
      "HTTP Error 400: Bad Request ENST00000356023.5\n"
     ]
    },
    {
     "name": "stderr",
     "output_type": "stream",
     "text": [
      "\r",
      " 48%|████▊     | 242/508 [01:37<01:45,  2.52it/s]"
     ]
    },
    {
     "name": "stdout",
     "output_type": "stream",
     "text": [
      "HTTP Error 400: Bad Request ENST00000356328.3\n"
     ]
    },
    {
     "name": "stderr",
     "output_type": "stream",
     "text": [
      "\r",
      " 48%|████▊     | 243/508 [01:38<01:41,  2.60it/s]"
     ]
    },
    {
     "name": "stdout",
     "output_type": "stream",
     "text": [
      "HTTP Error 400: Bad Request ENST00000356559.1\n"
     ]
    },
    {
     "name": "stderr",
     "output_type": "stream",
     "text": [
      "\r",
      " 48%|████▊     | 244/508 [01:38<01:40,  2.63it/s]"
     ]
    },
    {
     "name": "stdout",
     "output_type": "stream",
     "text": [
      "HTTP Error 400: Bad Request ENST00000356567.5\n"
     ]
    },
    {
     "name": "stderr",
     "output_type": "stream",
     "text": [
      "\r",
      " 48%|████▊     | 245/508 [01:39<01:39,  2.63it/s]"
     ]
    },
    {
     "name": "stdout",
     "output_type": "stream",
     "text": [
      "HTTP Error 400: Bad Request ENST00000356684.3\n"
     ]
    },
    {
     "name": "stderr",
     "output_type": "stream",
     "text": [
      "\r",
      " 48%|████▊     | 246/508 [01:39<01:40,  2.62it/s]"
     ]
    },
    {
     "name": "stdout",
     "output_type": "stream",
     "text": [
      "HTTP Error 400: Bad Request ENST00000356906.3\n"
     ]
    },
    {
     "name": "stderr",
     "output_type": "stream",
     "text": [
      "\r",
      " 49%|████▊     | 247/508 [01:39<01:38,  2.64it/s]"
     ]
    },
    {
     "name": "stdout",
     "output_type": "stream",
     "text": [
      "HTTP Error 400: Bad Request ENST00000356911.4\n"
     ]
    },
    {
     "name": "stderr",
     "output_type": "stream",
     "text": [
      "\r",
      " 49%|████▉     | 248/508 [01:40<01:40,  2.60it/s]"
     ]
    },
    {
     "name": "stdout",
     "output_type": "stream",
     "text": [
      "HTTP Error 400: Bad Request ENST00000357061.3\n"
     ]
    },
    {
     "name": "stderr",
     "output_type": "stream",
     "text": [
      "\r",
      " 49%|████▉     | 249/508 [01:40<01:42,  2.52it/s]"
     ]
    },
    {
     "name": "stdout",
     "output_type": "stream",
     "text": [
      "HTTP Error 400: Bad Request ENST00000357564.4\n"
     ]
    },
    {
     "name": "stderr",
     "output_type": "stream",
     "text": [
      "\r",
      " 49%|████▉     | 250/508 [01:41<01:43,  2.48it/s]"
     ]
    },
    {
     "name": "stdout",
     "output_type": "stream",
     "text": [
      "HTTP Error 400: Bad Request ENST00000357591.2\n"
     ]
    },
    {
     "name": "stderr",
     "output_type": "stream",
     "text": [
      "\r",
      " 49%|████▉     | 251/508 [01:41<01:40,  2.56it/s]"
     ]
    },
    {
     "name": "stdout",
     "output_type": "stream",
     "text": [
      "HTTP Error 400: Bad Request ENST00000357764.1\n"
     ]
    },
    {
     "name": "stderr",
     "output_type": "stream",
     "text": [
      "\r",
      " 50%|████▉     | 252/508 [01:41<01:42,  2.49it/s]"
     ]
    },
    {
     "name": "stdout",
     "output_type": "stream",
     "text": [
      "HTTP Error 400: Bad Request ENST00000357802.2\n"
     ]
    },
    {
     "name": "stderr",
     "output_type": "stream",
     "text": [
      "\r",
      " 50%|████▉     | 253/508 [01:42<01:40,  2.55it/s]"
     ]
    },
    {
     "name": "stdout",
     "output_type": "stream",
     "text": [
      "HTTP Error 400: Bad Request ENST00000358133.5\n"
     ]
    },
    {
     "name": "stderr",
     "output_type": "stream",
     "text": [
      "\r",
      " 50%|█████     | 254/508 [01:42<01:39,  2.56it/s]"
     ]
    },
    {
     "name": "stdout",
     "output_type": "stream",
     "text": [
      "HTTP Error 400: Bad Request ENST00000358206.4\n"
     ]
    },
    {
     "name": "stderr",
     "output_type": "stream",
     "text": [
      "\r",
      " 50%|█████     | 255/508 [01:42<01:38,  2.57it/s]"
     ]
    },
    {
     "name": "stdout",
     "output_type": "stream",
     "text": [
      "HTTP Error 400: Bad Request ENST00000358234.4\n"
     ]
    },
    {
     "name": "stderr",
     "output_type": "stream",
     "text": [
      "\r",
      " 50%|█████     | 256/508 [01:43<01:36,  2.62it/s]"
     ]
    },
    {
     "name": "stdout",
     "output_type": "stream",
     "text": [
      "HTTP Error 400: Bad Request ENST00000358374.3\n"
     ]
    },
    {
     "name": "stderr",
     "output_type": "stream",
     "text": [
      "\r",
      " 51%|█████     | 257/508 [01:43<01:34,  2.65it/s]"
     ]
    },
    {
     "name": "stdout",
     "output_type": "stream",
     "text": [
      "HTTP Error 400: Bad Request ENST00000358393.1\n"
     ]
    },
    {
     "name": "stderr",
     "output_type": "stream",
     "text": [
      "\r",
      " 51%|█████     | 258/508 [01:44<01:33,  2.68it/s]"
     ]
    },
    {
     "name": "stdout",
     "output_type": "stream",
     "text": [
      "HTTP Error 400: Bad Request ENST00000358455.4\n"
     ]
    },
    {
     "name": "stderr",
     "output_type": "stream",
     "text": [
      "\r",
      " 51%|█████     | 259/508 [01:44<01:32,  2.68it/s]"
     ]
    },
    {
     "name": "stdout",
     "output_type": "stream",
     "text": [
      "HTTP Error 400: Bad Request ENST00000358469.4\n"
     ]
    },
    {
     "name": "stderr",
     "output_type": "stream",
     "text": [
      "\r",
      " 51%|█████     | 260/508 [01:44<01:32,  2.69it/s]"
     ]
    },
    {
     "name": "stdout",
     "output_type": "stream",
     "text": [
      "HTTP Error 400: Bad Request ENST00000358481.5\n"
     ]
    },
    {
     "name": "stderr",
     "output_type": "stream",
     "text": [
      "\r",
      " 51%|█████▏    | 261/508 [01:45<01:32,  2.67it/s]"
     ]
    },
    {
     "name": "stdout",
     "output_type": "stream",
     "text": [
      "HTTP Error 400: Bad Request ENST00000358533.2\n"
     ]
    },
    {
     "name": "stderr",
     "output_type": "stream",
     "text": [
      "\r",
      " 52%|█████▏    | 262/508 [01:45<01:32,  2.66it/s]"
     ]
    },
    {
     "name": "stdout",
     "output_type": "stream",
     "text": [
      "HTTP Error 400: Bad Request ENST00000358546.3\n"
     ]
    },
    {
     "name": "stderr",
     "output_type": "stream",
     "text": [
      "\r",
      " 52%|█████▏    | 263/508 [01:45<01:32,  2.66it/s]"
     ]
    },
    {
     "name": "stdout",
     "output_type": "stream",
     "text": [
      "HTTP Error 400: Bad Request ENST00000358576.4\n"
     ]
    },
    {
     "name": "stderr",
     "output_type": "stream",
     "text": [
      "\r",
      " 52%|█████▏    | 264/508 [01:46<01:31,  2.67it/s]"
     ]
    },
    {
     "name": "stdout",
     "output_type": "stream",
     "text": [
      "HTTP Error 400: Bad Request ENST00000358708.3\n"
     ]
    },
    {
     "name": "stderr",
     "output_type": "stream",
     "text": [
      "\r",
      " 52%|█████▏    | 265/508 [01:46<01:30,  2.69it/s]"
     ]
    },
    {
     "name": "stdout",
     "output_type": "stream",
     "text": [
      "HTTP Error 400: Bad Request ENST00000358815.3\n"
     ]
    },
    {
     "name": "stderr",
     "output_type": "stream",
     "text": [
      "\r",
      " 52%|█████▏    | 266/508 [01:47<01:29,  2.70it/s]"
     ]
    },
    {
     "name": "stdout",
     "output_type": "stream",
     "text": [
      "HTTP Error 400: Bad Request ENST00000359165.5\n"
     ]
    },
    {
     "name": "stderr",
     "output_type": "stream",
     "text": [
      "\r",
      " 53%|█████▎    | 267/508 [01:47<01:36,  2.50it/s]"
     ]
    },
    {
     "name": "stdout",
     "output_type": "stream",
     "text": [
      ">ENST00000359253.2 [Homo sapiens]\n",
      "MAAMDTGQRADPSNPGDKEGDLQGLWQELYQLQAKQKKLKREVEKHKLFEDYLIKVLEKI\n",
      "PEGCTGWEEPEEVLVEATVKHYGKLFTASQDTQKRLEAFCQMIQAVHRSLESLEEDHRAL\n",
      "IASRSGCVSCRRSATASRSSGGS\n",
      "\n"
     ]
    },
    {
     "name": "stderr",
     "output_type": "stream",
     "text": [
      "\r",
      " 53%|█████▎    | 268/508 [01:47<01:38,  2.45it/s]"
     ]
    },
    {
     "name": "stdout",
     "output_type": "stream",
     "text": [
      "HTTP Error 400: Bad Request ENST00000359512.3\n"
     ]
    },
    {
     "name": "stderr",
     "output_type": "stream",
     "text": [
      "\r",
      " 53%|█████▎    | 269/508 [01:48<01:34,  2.54it/s]"
     ]
    },
    {
     "name": "stdout",
     "output_type": "stream",
     "text": [
      "HTTP Error 400: Bad Request ENST00000359659.4\n"
     ]
    },
    {
     "name": "stderr",
     "output_type": "stream",
     "text": [
      "\r",
      " 53%|█████▎    | 270/508 [01:48<01:31,  2.60it/s]"
     ]
    },
    {
     "name": "stdout",
     "output_type": "stream",
     "text": [
      "HTTP Error 400: Bad Request ENST00000359720.3\n"
     ]
    },
    {
     "name": "stderr",
     "output_type": "stream",
     "text": [
      "\r",
      " 53%|█████▎    | 271/508 [01:49<01:30,  2.63it/s]"
     ]
    },
    {
     "name": "stdout",
     "output_type": "stream",
     "text": [
      "HTTP Error 400: Bad Request ENST00000359760.5\n"
     ]
    },
    {
     "name": "stderr",
     "output_type": "stream",
     "text": [
      "\r",
      " 54%|█████▎    | 272/508 [01:49<01:29,  2.64it/s]"
     ]
    },
    {
     "name": "stdout",
     "output_type": "stream",
     "text": [
      "HTTP Error 400: Bad Request ENST00000359790.5\n"
     ]
    },
    {
     "name": "stderr",
     "output_type": "stream",
     "text": [
      "\r",
      " 54%|█████▎    | 273/508 [01:49<01:28,  2.67it/s]"
     ]
    },
    {
     "name": "stdout",
     "output_type": "stream",
     "text": [
      "HTTP Error 400: Bad Request ENST00000359888.2\n"
     ]
    },
    {
     "name": "stderr",
     "output_type": "stream",
     "text": [
      "\r",
      " 54%|█████▍    | 274/508 [01:50<01:27,  2.66it/s]"
     ]
    },
    {
     "name": "stdout",
     "output_type": "stream",
     "text": [
      "HTTP Error 400: Bad Request ENST00000359906.2\n"
     ]
    },
    {
     "name": "stderr",
     "output_type": "stream",
     "text": [
      "\r",
      " 54%|█████▍    | 275/508 [01:50<01:27,  2.65it/s]"
     ]
    },
    {
     "name": "stdout",
     "output_type": "stream",
     "text": [
      "HTTP Error 400: Bad Request ENST00000360056.3\n"
     ]
    },
    {
     "name": "stderr",
     "output_type": "stream",
     "text": [
      "\r",
      " 54%|█████▍    | 276/508 [01:50<01:26,  2.68it/s]"
     ]
    },
    {
     "name": "stdout",
     "output_type": "stream",
     "text": [
      "HTTP Error 400: Bad Request ENST00000360245.3\n"
     ]
    },
    {
     "name": "stderr",
     "output_type": "stream",
     "text": [
      "\r",
      " 55%|█████▍    | 277/508 [01:51<01:26,  2.68it/s]"
     ]
    },
    {
     "name": "stdout",
     "output_type": "stream",
     "text": [
      "HTTP Error 400: Bad Request ENST00000360752.4\n"
     ]
    },
    {
     "name": "stderr",
     "output_type": "stream",
     "text": [
      "\r",
      " 55%|█████▍    | 278/508 [01:51<01:25,  2.68it/s]"
     ]
    },
    {
     "name": "stdout",
     "output_type": "stream",
     "text": [
      "HTTP Error 400: Bad Request ENST00000360944.4\n"
     ]
    },
    {
     "name": "stderr",
     "output_type": "stream",
     "text": [
      "\r",
      " 55%|█████▍    | 279/508 [01:52<01:24,  2.69it/s]"
     ]
    },
    {
     "name": "stdout",
     "output_type": "stream",
     "text": [
      "HTTP Error 400: Bad Request ENST00000361014.3\n"
     ]
    },
    {
     "name": "stderr",
     "output_type": "stream",
     "text": [
      "\r",
      " 55%|█████▌    | 280/508 [01:52<01:27,  2.61it/s]"
     ]
    },
    {
     "name": "stdout",
     "output_type": "stream",
     "text": [
      "HTTP Error 400: Bad Request ENST00000361585.5\n"
     ]
    },
    {
     "name": "stderr",
     "output_type": "stream",
     "text": [
      "\r",
      " 55%|█████▌    | 281/508 [01:52<01:26,  2.62it/s]"
     ]
    },
    {
     "name": "stdout",
     "output_type": "stream",
     "text": [
      "HTTP Error 400: Bad Request ENST00000361928.2\n"
     ]
    },
    {
     "name": "stderr",
     "output_type": "stream",
     "text": [
      "\r",
      " 56%|█████▌    | 282/508 [01:53<01:26,  2.62it/s]"
     ]
    },
    {
     "name": "stdout",
     "output_type": "stream",
     "text": [
      "HTTP Error 400: Bad Request ENST00000362058.2\n"
     ]
    },
    {
     "name": "stderr",
     "output_type": "stream",
     "text": [
      "\r",
      " 56%|█████▌    | 283/508 [01:53<01:25,  2.64it/s]"
     ]
    },
    {
     "name": "stdout",
     "output_type": "stream",
     "text": [
      "HTTP Error 400: Bad Request ENST00000366492.1\n"
     ]
    },
    {
     "name": "stderr",
     "output_type": "stream",
     "text": [
      "\r",
      " 56%|█████▌    | 284/508 [01:54<01:29,  2.51it/s]"
     ]
    },
    {
     "name": "stdout",
     "output_type": "stream",
     "text": [
      "HTTP Error 400: Bad Request ENST00000366809.2\n"
     ]
    },
    {
     "name": "stderr",
     "output_type": "stream",
     "text": [
      "\r",
      " 56%|█████▌    | 285/508 [01:54<01:32,  2.42it/s]"
     ]
    },
    {
     "name": "stdout",
     "output_type": "stream",
     "text": [
      "HTTP Error 400: Bad Request ENST00000367355.1\n"
     ]
    },
    {
     "name": "stderr",
     "output_type": "stream",
     "text": [
      "\r",
      " 56%|█████▋    | 286/508 [01:54<01:28,  2.50it/s]"
     ]
    },
    {
     "name": "stdout",
     "output_type": "stream",
     "text": [
      "HTTP Error 400: Bad Request ENST00000367356.1\n"
     ]
    },
    {
     "name": "stderr",
     "output_type": "stream",
     "text": [
      "\r",
      " 56%|█████▋    | 287/508 [01:55<01:26,  2.55it/s]"
     ]
    },
    {
     "name": "stdout",
     "output_type": "stream",
     "text": [
      "HTTP Error 400: Bad Request ENST00000367514.3\n"
     ]
    },
    {
     "name": "stderr",
     "output_type": "stream",
     "text": [
      "\r",
      " 57%|█████▋    | 288/508 [01:55<01:25,  2.56it/s]"
     ]
    },
    {
     "name": "stdout",
     "output_type": "stream",
     "text": [
      "HTTP Error 400: Bad Request ENST00000367593.1\n"
     ]
    },
    {
     "name": "stderr",
     "output_type": "stream",
     "text": [
      "\r",
      " 57%|█████▋    | 289/508 [01:55<01:25,  2.56it/s]"
     ]
    },
    {
     "name": "stdout",
     "output_type": "stream",
     "text": [
      "HTTP Error 400: Bad Request ENST00000367716.3\n"
     ]
    },
    {
     "name": "stderr",
     "output_type": "stream",
     "text": [
      "\r",
      " 57%|█████▋    | 290/508 [01:56<01:23,  2.60it/s]"
     ]
    },
    {
     "name": "stdout",
     "output_type": "stream",
     "text": [
      "HTTP Error 400: Bad Request ENST00000367865.1\n"
     ]
    },
    {
     "name": "stderr",
     "output_type": "stream",
     "text": [
      "\r",
      " 57%|█████▋    | 291/508 [01:56<01:22,  2.63it/s]"
     ]
    },
    {
     "name": "stdout",
     "output_type": "stream",
     "text": [
      "HTTP Error 400: Bad Request ENST00000368047.3\n"
     ]
    },
    {
     "name": "stderr",
     "output_type": "stream",
     "text": [
      "\r",
      " 57%|█████▋    | 292/508 [01:57<01:21,  2.66it/s]"
     ]
    },
    {
     "name": "stdout",
     "output_type": "stream",
     "text": [
      "HTTP Error 400: Bad Request ENST00000368674.1\n"
     ]
    },
    {
     "name": "stderr",
     "output_type": "stream",
     "text": [
      "\r",
      " 58%|█████▊    | 293/508 [01:57<01:23,  2.57it/s]"
     ]
    },
    {
     "name": "stdout",
     "output_type": "stream",
     "text": [
      "HTTP Error 400: Bad Request ENST00000368677.2\n"
     ]
    },
    {
     "name": "stderr",
     "output_type": "stream",
     "text": [
      "\r",
      " 58%|█████▊    | 294/508 [01:57<01:24,  2.53it/s]"
     ]
    },
    {
     "name": "stdout",
     "output_type": "stream",
     "text": [
      "HTTP Error 400: Bad Request ENST00000368854.3\n"
     ]
    },
    {
     "name": "stderr",
     "output_type": "stream",
     "text": [
      "\r",
      " 58%|█████▊    | 295/508 [01:58<01:22,  2.58it/s]"
     ]
    },
    {
     "name": "stdout",
     "output_type": "stream",
     "text": [
      "HTTP Error 400: Bad Request ENST00000369053.3\n"
     ]
    },
    {
     "name": "stderr",
     "output_type": "stream",
     "text": [
      "\r",
      " 58%|█████▊    | 296/508 [01:58<01:21,  2.60it/s]"
     ]
    },
    {
     "name": "stdout",
     "output_type": "stream",
     "text": [
      "HTTP Error 400: Bad Request ENST00000369492.4\n"
     ]
    },
    {
     "name": "stderr",
     "output_type": "stream",
     "text": [
      "\r",
      " 58%|█████▊    | 297/508 [01:59<01:24,  2.51it/s]"
     ]
    },
    {
     "name": "stdout",
     "output_type": "stream",
     "text": [
      "HTTP Error 400: Bad Request ENST00000369574.2\n"
     ]
    },
    {
     "name": "stderr",
     "output_type": "stream",
     "text": [
      "\r",
      " 59%|█████▊    | 298/508 [01:59<01:22,  2.55it/s]"
     ]
    },
    {
     "name": "stdout",
     "output_type": "stream",
     "text": [
      "HTTP Error 400: Bad Request ENST00000369586.2\n"
     ]
    },
    {
     "name": "stderr",
     "output_type": "stream",
     "text": [
      "\r",
      " 59%|█████▉    | 299/508 [01:59<01:19,  2.62it/s]"
     ]
    },
    {
     "name": "stdout",
     "output_type": "stream",
     "text": [
      "HTTP Error 400: Bad Request ENST00000370696.3\n"
     ]
    },
    {
     "name": "stderr",
     "output_type": "stream",
     "text": [
      "\r",
      " 59%|█████▉    | 300/508 [02:00<01:22,  2.51it/s]"
     ]
    },
    {
     "name": "stdout",
     "output_type": "stream",
     "text": [
      "HTTP Error 400: Bad Request ENST00000371162.4\n"
     ]
    },
    {
     "name": "stderr",
     "output_type": "stream",
     "text": [
      "\r",
      " 59%|█████▉    | 301/508 [02:00<01:20,  2.56it/s]"
     ]
    },
    {
     "name": "stdout",
     "output_type": "stream",
     "text": [
      "HTTP Error 400: Bad Request ENST00000371178.1\n"
     ]
    },
    {
     "name": "stderr",
     "output_type": "stream",
     "text": [
      "\r",
      " 59%|█████▉    | 302/508 [02:01<01:19,  2.59it/s]"
     ]
    },
    {
     "name": "stdout",
     "output_type": "stream",
     "text": [
      "HTTP Error 400: Bad Request ENST00000371192.1\n"
     ]
    },
    {
     "name": "stderr",
     "output_type": "stream",
     "text": [
      "\r",
      " 60%|█████▉    | 303/508 [02:01<01:18,  2.63it/s]"
     ]
    },
    {
     "name": "stdout",
     "output_type": "stream",
     "text": [
      "HTTP Error 400: Bad Request ENST00000371206.2\n"
     ]
    },
    {
     "name": "stderr",
     "output_type": "stream",
     "text": [
      "\r",
      " 60%|█████▉    | 304/508 [02:01<01:17,  2.63it/s]"
     ]
    },
    {
     "name": "stdout",
     "output_type": "stream",
     "text": [
      "HTTP Error 400: Bad Request ENST00000371287.3\n"
     ]
    },
    {
     "name": "stderr",
     "output_type": "stream",
     "text": [
      "\r",
      " 60%|██████    | 305/508 [02:02<01:16,  2.65it/s]"
     ]
    },
    {
     "name": "stdout",
     "output_type": "stream",
     "text": [
      "HTTP Error 400: Bad Request ENST00000372155.2\n"
     ]
    },
    {
     "name": "stderr",
     "output_type": "stream",
     "text": [
      "\r",
      " 60%|██████    | 306/508 [02:02<01:15,  2.67it/s]"
     ]
    },
    {
     "name": "stdout",
     "output_type": "stream",
     "text": [
      "HTTP Error 400: Bad Request ENST00000373524.1\n"
     ]
    },
    {
     "name": "stderr",
     "output_type": "stream",
     "text": [
      "\r",
      " 60%|██████    | 307/508 [02:02<01:14,  2.70it/s]"
     ]
    },
    {
     "name": "stdout",
     "output_type": "stream",
     "text": [
      "HTTP Error 400: Bad Request ENST00000373551.4\n"
     ]
    },
    {
     "name": "stderr",
     "output_type": "stream",
     "text": [
      "\r",
      " 61%|██████    | 308/508 [02:03<01:14,  2.68it/s]"
     ]
    },
    {
     "name": "stdout",
     "output_type": "stream",
     "text": [
      "HTTP Error 400: Bad Request ENST00000373845.2\n"
     ]
    },
    {
     "name": "stderr",
     "output_type": "stream",
     "text": [
      "\r",
      " 61%|██████    | 309/508 [02:03<01:16,  2.60it/s]"
     ]
    },
    {
     "name": "stdout",
     "output_type": "stream",
     "text": [
      "HTTP Error 400: Bad Request ENST00000373851.2\n"
     ]
    },
    {
     "name": "stderr",
     "output_type": "stream",
     "text": [
      "\r",
      " 61%|██████    | 310/508 [02:04<01:15,  2.62it/s]"
     ]
    },
    {
     "name": "stdout",
     "output_type": "stream",
     "text": [
      "HTTP Error 400: Bad Request ENST00000373903.1\n"
     ]
    },
    {
     "name": "stderr",
     "output_type": "stream",
     "text": [
      "\r",
      " 61%|██████    | 311/508 [02:04<01:14,  2.65it/s]"
     ]
    },
    {
     "name": "stdout",
     "output_type": "stream",
     "text": [
      "HTTP Error 400: Bad Request ENST00000374757.3\n"
     ]
    },
    {
     "name": "stderr",
     "output_type": "stream",
     "text": [
      "\r",
      " 61%|██████▏   | 312/508 [02:04<01:13,  2.66it/s]"
     ]
    },
    {
     "name": "stdout",
     "output_type": "stream",
     "text": [
      "HTTP Error 400: Bad Request ENST00000374801.3\n"
     ]
    },
    {
     "name": "stderr",
     "output_type": "stream",
     "text": [
      "\r",
      " 62%|██████▏   | 313/508 [02:05<01:13,  2.67it/s]"
     ]
    },
    {
     "name": "stdout",
     "output_type": "stream",
     "text": [
      "HTTP Error 400: Bad Request ENST00000375140.3\n"
     ]
    },
    {
     "name": "stderr",
     "output_type": "stream",
     "text": [
      "\r",
      " 62%|██████▏   | 314/508 [02:05<01:14,  2.60it/s]"
     ]
    },
    {
     "name": "stdout",
     "output_type": "stream",
     "text": [
      "HTTP Error 400: Bad Request ENST00000375206.2\n"
     ]
    },
    {
     "name": "stderr",
     "output_type": "stream",
     "text": [
      "\r",
      " 62%|██████▏   | 315/508 [02:05<01:15,  2.54it/s]"
     ]
    },
    {
     "name": "stdout",
     "output_type": "stream",
     "text": [
      "HTTP Error 400: Bad Request ENST00000375210.2\n"
     ]
    },
    {
     "name": "stderr",
     "output_type": "stream",
     "text": [
      "\r",
      " 62%|██████▏   | 316/508 [02:06<01:19,  2.41it/s]"
     ]
    },
    {
     "name": "stdout",
     "output_type": "stream",
     "text": [
      "HTTP Error 400: Bad Request ENST00000375572.4\n"
     ]
    },
    {
     "name": "stderr",
     "output_type": "stream",
     "text": [
      "\r",
      " 62%|██████▏   | 317/508 [02:06<01:17,  2.46it/s]"
     ]
    },
    {
     "name": "stdout",
     "output_type": "stream",
     "text": [
      "HTTP Error 400: Bad Request ENST00000376256.2\n"
     ]
    },
    {
     "name": "stderr",
     "output_type": "stream",
     "text": [
      "\r",
      " 63%|██████▎   | 318/508 [02:07<01:15,  2.52it/s]"
     ]
    },
    {
     "name": "stdout",
     "output_type": "stream",
     "text": [
      "HTTP Error 400: Bad Request ENST00000376458.2\n"
     ]
    },
    {
     "name": "stderr",
     "output_type": "stream",
     "text": [
      "\r",
      " 63%|██████▎   | 319/508 [02:07<01:14,  2.55it/s]"
     ]
    },
    {
     "name": "stdout",
     "output_type": "stream",
     "text": [
      "HTTP Error 400: Bad Request ENST00000376494.1\n"
     ]
    },
    {
     "name": "stderr",
     "output_type": "stream",
     "text": [
      "\r",
      " 63%|██████▎   | 320/508 [02:07<01:12,  2.59it/s]"
     ]
    },
    {
     "name": "stdout",
     "output_type": "stream",
     "text": [
      "HTTP Error 400: Bad Request ENST00000376655.1\n"
     ]
    },
    {
     "name": "stderr",
     "output_type": "stream",
     "text": [
      "\r",
      " 63%|██████▎   | 321/508 [02:08<01:10,  2.63it/s]"
     ]
    },
    {
     "name": "stdout",
     "output_type": "stream",
     "text": [
      "HTTP Error 400: Bad Request ENST00000376664.6\n"
     ]
    },
    {
     "name": "stderr",
     "output_type": "stream",
     "text": [
      "\r",
      " 63%|██████▎   | 322/508 [02:08<01:11,  2.61it/s]"
     ]
    },
    {
     "name": "stdout",
     "output_type": "stream",
     "text": [
      "HTTP Error 400: Bad Request ENST00000376800.3\n"
     ]
    },
    {
     "name": "stderr",
     "output_type": "stream",
     "text": [
      "\r",
      " 64%|██████▎   | 323/508 [02:09<01:10,  2.63it/s]"
     ]
    },
    {
     "name": "stdout",
     "output_type": "stream",
     "text": [
      "HTTP Error 400: Bad Request ENST00000376987.1\n"
     ]
    },
    {
     "name": "stderr",
     "output_type": "stream",
     "text": [
      "\r",
      " 64%|██████▍   | 324/508 [02:09<01:09,  2.64it/s]"
     ]
    },
    {
     "name": "stdout",
     "output_type": "stream",
     "text": [
      "HTTP Error 400: Bad Request ENST00000377164.1\n"
     ]
    },
    {
     "name": "stderr",
     "output_type": "stream",
     "text": [
      "\r",
      " 64%|██████▍   | 325/508 [02:09<01:08,  2.68it/s]"
     ]
    },
    {
     "name": "stdout",
     "output_type": "stream",
     "text": [
      "HTTP Error 400: Bad Request ENST00000377300.3\n"
     ]
    },
    {
     "name": "stderr",
     "output_type": "stream",
     "text": [
      "\r",
      " 64%|██████▍   | 326/508 [02:10<01:07,  2.68it/s]"
     ]
    },
    {
     "name": "stdout",
     "output_type": "stream",
     "text": [
      "HTTP Error 400: Bad Request ENST00000377445.5\n"
     ]
    },
    {
     "name": "stderr",
     "output_type": "stream",
     "text": [
      "\r",
      " 64%|██████▍   | 327/508 [02:11<02:08,  1.41it/s]"
     ]
    },
    {
     "name": "stdout",
     "output_type": "stream",
     "text": [
      ">ENST00000377540.1 [Homo sapiens]\n",
      "MSDPEGETLRSTFPSYMAEGERLYLCGEFSKAAQSFSNALYLQDGDKNCLVARSKCFLKM\n",
      "GDLERSLKDAEASLQSDPAFCKGILQKAETLYTMGDFEFALVFYHRGYKLRPDREFRVGI\n",
      "QKAQEAINNSVGSPSSIKLENKGDLSFLSKQAENIKAQQKPQPMKHLLHPTKGEPKWKAS\n",
      "LKSEKTVRQLLGELYVDKEYLEKLLLDEDLIKGTMKGGLTVEDLIMTGINYLDTHSNFWR\n",
      "QQKPIYARERDRKLMQEKWLRDHKRRPSQTAHYILKSLEDIDMLLTSGSAEGSLQKAEKV\n",
      "LKKVLEWNKEEVPNKDELVGNLYSCIGNAQIELGQMEAALQSHRKDLEIAKEYDLPDAKS\n",
      "RALDNIGRVFARVGKFQQAIDTWEEKIPLAKTTLEKTWLFHEIGRCYLELDQAWQAQNYG\n",
      "EKSQQCAEEEGDIEWQLNASVLVAQAQVKLRDFESAVNNFEKALERAKLVHNNEAQQAII\n",
      "SALDDANKGIIRELRKTNYVENLKEKSEGEASLYEDRIITREKDMRRVRDEPEKVVKQWD\n",
      "HSEDEKETDEDDEAFGEALQSPASGKQSVEAGKARSDLGAVAKGLSGELGTRSGETGRKL\n",
      "LEAGRRESREIYRRPSGELEQRLSGEFSRQEPEELKKLSEVGRREPEELGKTQFGEIGET\n",
      "KKTGNEMEKEYE\n",
      "\n"
     ]
    },
    {
     "name": "stderr",
     "output_type": "stream",
     "text": [
      "\r",
      " 65%|██████▍   | 328/508 [02:12<02:05,  1.44it/s]"
     ]
    },
    {
     "name": "stdout",
     "output_type": "stream",
     "text": [
      ">ENST00000377561.2 [Homo sapiens]\n",
      "MASVAWAVLKVLLLLPTQTWSPVGAGNPPDCDSPLASALPRSSFSSSSELSSSHGPGFSR\n",
      "LNRRDGAGGWTPLVSNKYQWLQIDLGERMEVTAVATQGGYGSSDWVTSYLLMFSDGGRNW\n",
      "KQYRREESIWGFPGNTNADSVVHYRLQPPFEARFLRFLPLAWNPRGRIGMRIEVYGCAYK\n",
      "SEVVYFDGQSALLYTLDKKPLKPIRDVISLKFKAMQSNGILLHREGQHGNHITLELIKGK\n",
      "LVFFLNSGNAKLPSTIAPVTLTLGSLLDDQHWHSVLIELLDTQVNFTVDKHTHHFQAKGD\n",
      "SSNLDLNFEISFGGILSPGRSRAFTRKSFHGCLENLYYNGVDVTELAKKHKPQILMMGNV\n",
      "SFSCPQPQTVPVTFLSSRSYLALPGNSGEDKVSVTFQFRTWNRAGHLLFGELQRGSGSFV\n",
      "LFLKDGKLKLSLFQAGQSPRNVTAGAGLNDGQWHSVSFSAKWSHMNVVVDDDTAVQPLVA\n",
      "VLIDSGDTYYFGGCLGNSSGSGCKSPLGGFQGCLRLITIGDKAVDPILVQQGALGSFRDL\n",
      "QIDSCGITDRCLPSYCEHGGECSQSWDTFSCDCLGTGYTGETCHSSLYEQSCEAHKHRGN\n",
      "PSGLYYIDADGSGPLGPFLVYCNMTADSAWTVVRHGGPDAVTLRGAPSGHPLSAVSFAYA\n",
      "AGAGQLRAAVNLAERCEQRLALRCGTARRPDSRDGTPLSWWVGRTNETHTSWGGSLPDAQ\n",
      "KCTCGLEGNCIDSQYYCNCDAGQNEWTSDTIVLSQKEHLPVTQIVMTDTGQPHSEADYTL\n",
      "GPLLCRGDKSFWNSASFNTETSYLHFPAFHGELTADVCFFFKTTVSSGVFMENLGITDFI\n",
      "RIELRAPTEVTFSFDVGNGPCEVTVQSPTPFNDNQWHHVRAERNVKGASLQVDQLPQKMQ\n",
      "PAPADGHVRLQLNSQLFIGGTATRQRGFLGCIRSLQLNGVALDLEERATVTPGVEPGCAG\n",
      "HCSTYGHLCRNGGRCREKRRGVTCDCAFSAYDGPFCSNEISAYFATGSSMTYHFQEHYTL\n",
      "SENSSSLVSSLHRDVTLTREMITLSFRTTRTPSLLLYVSSFYEEYLSVILANNGSLQIRY\n",
      "KLDRHQNPDAFTFDFKNMADGQLHQVKINREEAVVMVEVNQSAKKQVILSSGTEFNAVKS\n",
      "LILGKVLEAAGADPDTRRAATSGFTGCLSAVRFGCAAPLKAALRPSGPSRVTVRGHVAPM\n",
      "ARCAAGAASGSPARELAPRLAGGAGRSGPVDEGEPLVNADRRDSAVIGGVIAVEIFILLC\n",
      "ITAIAIRIYQQRKLRKENESKVSKKEEC\n",
      "\n"
     ]
    },
    {
     "name": "stderr",
     "output_type": "stream",
     "text": [
      "\r",
      " 65%|██████▍   | 329/508 [02:12<01:50,  1.62it/s]"
     ]
    },
    {
     "name": "stdout",
     "output_type": "stream",
     "text": [
      "HTTP Error 400: Bad Request ENST00000377618.4\n"
     ]
    },
    {
     "name": "stderr",
     "output_type": "stream",
     "text": [
      "\r",
      " 65%|██████▍   | 330/508 [02:13<01:37,  1.83it/s]"
     ]
    },
    {
     "name": "stdout",
     "output_type": "stream",
     "text": [
      "HTTP Error 400: Bad Request ENST00000377653.2\n"
     ]
    },
    {
     "name": "stderr",
     "output_type": "stream",
     "text": [
      "\r",
      " 65%|██████▌   | 331/508 [02:13<01:28,  2.00it/s]"
     ]
    },
    {
     "name": "stdout",
     "output_type": "stream",
     "text": [
      "HTTP Error 400: Bad Request ENST00000377680.3\n"
     ]
    },
    {
     "name": "stderr",
     "output_type": "stream",
     "text": [
      "\r",
      " 65%|██████▌   | 332/508 [02:13<01:23,  2.10it/s]"
     ]
    },
    {
     "name": "stdout",
     "output_type": "stream",
     "text": [
      "HTTP Error 400: Bad Request ENST00000377689.2\n"
     ]
    },
    {
     "name": "stderr",
     "output_type": "stream",
     "text": [
      "\r",
      " 66%|██████▌   | 333/508 [02:14<01:18,  2.24it/s]"
     ]
    },
    {
     "name": "stdout",
     "output_type": "stream",
     "text": [
      "HTTP Error 400: Bad Request ENST00000377824.4\n"
     ]
    },
    {
     "name": "stderr",
     "output_type": "stream",
     "text": [
      "\r",
      " 66%|██████▌   | 334/508 [02:14<01:14,  2.34it/s]"
     ]
    },
    {
     "name": "stdout",
     "output_type": "stream",
     "text": [
      "HTTP Error 400: Bad Request ENST00000377989.4\n"
     ]
    },
    {
     "name": "stderr",
     "output_type": "stream",
     "text": [
      "\r",
      " 66%|██████▌   | 335/508 [02:15<01:11,  2.43it/s]"
     ]
    },
    {
     "name": "stdout",
     "output_type": "stream",
     "text": [
      "HTTP Error 400: Bad Request ENST00000377993.2\n"
     ]
    },
    {
     "name": "stderr",
     "output_type": "stream",
     "text": [
      "\r",
      " 66%|██████▌   | 336/508 [02:15<01:08,  2.52it/s]"
     ]
    },
    {
     "name": "stdout",
     "output_type": "stream",
     "text": [
      "HTTP Error 400: Bad Request ENST00000378007.1\n"
     ]
    },
    {
     "name": "stderr",
     "output_type": "stream",
     "text": [
      "\r",
      " 66%|██████▋   | 337/508 [02:15<01:06,  2.58it/s]"
     ]
    },
    {
     "name": "stdout",
     "output_type": "stream",
     "text": [
      "HTTP Error 400: Bad Request ENST00000378175.1\n"
     ]
    },
    {
     "name": "stderr",
     "output_type": "stream",
     "text": [
      "\r",
      " 67%|██████▋   | 338/508 [02:16<01:04,  2.62it/s]"
     ]
    },
    {
     "name": "stdout",
     "output_type": "stream",
     "text": [
      "HTTP Error 400: Bad Request ENST00000378243.4\n"
     ]
    },
    {
     "name": "stderr",
     "output_type": "stream",
     "text": [
      "\r",
      " 67%|██████▋   | 339/508 [02:16<01:04,  2.63it/s]"
     ]
    },
    {
     "name": "stdout",
     "output_type": "stream",
     "text": [
      "HTTP Error 400: Bad Request ENST00000379256.3\n"
     ]
    },
    {
     "name": "stderr",
     "output_type": "stream",
     "text": [
      "\r",
      " 67%|██████▋   | 340/508 [02:16<01:03,  2.66it/s]"
     ]
    },
    {
     "name": "stdout",
     "output_type": "stream",
     "text": [
      "HTTP Error 400: Bad Request ENST00000379278.3\n"
     ]
    },
    {
     "name": "stderr",
     "output_type": "stream",
     "text": [
      "\r",
      " 67%|██████▋   | 341/508 [02:17<01:02,  2.67it/s]"
     ]
    },
    {
     "name": "stdout",
     "output_type": "stream",
     "text": [
      "HTTP Error 400: Bad Request ENST00000379421.3\n"
     ]
    },
    {
     "name": "stderr",
     "output_type": "stream",
     "text": [
      "\r",
      " 67%|██████▋   | 342/508 [02:17<01:02,  2.67it/s]"
     ]
    },
    {
     "name": "stdout",
     "output_type": "stream",
     "text": [
      "HTTP Error 400: Bad Request ENST00000379640.1\n"
     ]
    },
    {
     "name": "stderr",
     "output_type": "stream",
     "text": [
      "\r",
      " 68%|██████▊   | 343/508 [02:18<01:01,  2.69it/s]"
     ]
    },
    {
     "name": "stdout",
     "output_type": "stream",
     "text": [
      "HTTP Error 400: Bad Request ENST00000380369.2\n"
     ]
    },
    {
     "name": "stderr",
     "output_type": "stream",
     "text": [
      "\r",
      " 68%|██████▊   | 344/508 [02:18<01:00,  2.72it/s]"
     ]
    },
    {
     "name": "stdout",
     "output_type": "stream",
     "text": [
      "HTTP Error 400: Bad Request ENST00000380437.4\n"
     ]
    },
    {
     "name": "stderr",
     "output_type": "stream",
     "text": [
      "\r",
      " 68%|██████▊   | 345/508 [02:18<01:00,  2.70it/s]"
     ]
    },
    {
     "name": "stdout",
     "output_type": "stream",
     "text": [
      "HTTP Error 400: Bad Request ENST00000380640.2\n"
     ]
    },
    {
     "name": "stderr",
     "output_type": "stream",
     "text": [
      "\r",
      " 68%|██████▊   | 346/508 [02:19<01:00,  2.68it/s]"
     ]
    },
    {
     "name": "stdout",
     "output_type": "stream",
     "text": [
      "HTTP Error 400: Bad Request ENST00000381010.3\n"
     ]
    },
    {
     "name": "stderr",
     "output_type": "stream",
     "text": [
      "\r",
      " 68%|██████▊   | 347/508 [02:19<01:00,  2.67it/s]"
     ]
    },
    {
     "name": "stdout",
     "output_type": "stream",
     "text": [
      "HTTP Error 400: Bad Request ENST00000381363.4\n"
     ]
    },
    {
     "name": "stderr",
     "output_type": "stream",
     "text": [
      "\r",
      " 69%|██████▊   | 348/508 [02:19<01:01,  2.59it/s]"
     ]
    },
    {
     "name": "stdout",
     "output_type": "stream",
     "text": [
      "HTTP Error 400: Bad Request ENST00000381630.2\n"
     ]
    },
    {
     "name": "stderr",
     "output_type": "stream",
     "text": [
      "\r",
      " 69%|██████▊   | 349/508 [02:20<01:01,  2.59it/s]"
     ]
    },
    {
     "name": "stdout",
     "output_type": "stream",
     "text": [
      "HTTP Error 400: Bad Request ENST00000381648.3\n"
     ]
    },
    {
     "name": "stderr",
     "output_type": "stream",
     "text": [
      "\r",
      " 69%|██████▉   | 350/508 [02:20<01:00,  2.62it/s]"
     ]
    },
    {
     "name": "stdout",
     "output_type": "stream",
     "text": [
      "HTTP Error 400: Bad Request ENST00000381852.4\n"
     ]
    },
    {
     "name": "stderr",
     "output_type": "stream",
     "text": [
      "\r",
      " 69%|██████▉   | 351/508 [02:21<01:00,  2.61it/s]"
     ]
    },
    {
     "name": "stdout",
     "output_type": "stream",
     "text": [
      "HTTP Error 400: Bad Request ENST00000382045.3\n"
     ]
    },
    {
     "name": "stderr",
     "output_type": "stream",
     "text": [
      "\r",
      " 69%|██████▉   | 352/508 [02:21<00:58,  2.65it/s]"
     ]
    },
    {
     "name": "stdout",
     "output_type": "stream",
     "text": [
      "HTTP Error 400: Bad Request ENST00000382426.3\n"
     ]
    },
    {
     "name": "stderr",
     "output_type": "stream",
     "text": [
      "\r",
      " 69%|██████▉   | 353/508 [02:21<00:57,  2.68it/s]"
     ]
    },
    {
     "name": "stdout",
     "output_type": "stream",
     "text": [
      "HTTP Error 400: Bad Request ENST00000382832.3\n"
     ]
    },
    {
     "name": "stderr",
     "output_type": "stream",
     "text": [
      "\r",
      " 70%|██████▉   | 354/508 [02:22<00:57,  2.67it/s]"
     ]
    },
    {
     "name": "stdout",
     "output_type": "stream",
     "text": [
      "HTTP Error 400: Bad Request ENST00000382949.3\n"
     ]
    },
    {
     "name": "stderr",
     "output_type": "stream",
     "text": [
      "\r",
      " 70%|██████▉   | 355/508 [02:22<00:57,  2.67it/s]"
     ]
    },
    {
     "name": "stdout",
     "output_type": "stream",
     "text": [
      "HTTP Error 400: Bad Request ENST00000382965.2\n"
     ]
    },
    {
     "name": "stderr",
     "output_type": "stream",
     "text": [
      "\r",
      " 70%|███████   | 356/508 [02:22<00:56,  2.68it/s]"
     ]
    },
    {
     "name": "stdout",
     "output_type": "stream",
     "text": [
      "HTTP Error 400: Bad Request ENST00000382966.1\n"
     ]
    },
    {
     "name": "stderr",
     "output_type": "stream",
     "text": [
      "\r",
      " 70%|███████   | 357/508 [02:23<00:56,  2.69it/s]"
     ]
    },
    {
     "name": "stdout",
     "output_type": "stream",
     "text": [
      "HTTP Error 400: Bad Request ENST00000383808.2\n"
     ]
    },
    {
     "name": "stderr",
     "output_type": "stream",
     "text": [
      "\r",
      " 70%|███████   | 358/508 [02:23<00:55,  2.70it/s]"
     ]
    },
    {
     "name": "stdout",
     "output_type": "stream",
     "text": [
      "HTTP Error 400: Bad Request ENST00000383834.2\n"
     ]
    },
    {
     "name": "stderr",
     "output_type": "stream",
     "text": [
      "\r",
      " 71%|███████   | 359/508 [02:24<00:54,  2.72it/s]"
     ]
    },
    {
     "name": "stdout",
     "output_type": "stream",
     "text": [
      "HTTP Error 400: Bad Request ENST00000389184.2\n"
     ]
    },
    {
     "name": "stderr",
     "output_type": "stream",
     "text": [
      "\r",
      " 71%|███████   | 360/508 [02:24<00:54,  2.73it/s]"
     ]
    },
    {
     "name": "stdout",
     "output_type": "stream",
     "text": [
      "HTTP Error 400: Bad Request ENST00000389821.4\n"
     ]
    },
    {
     "name": "stderr",
     "output_type": "stream",
     "text": [
      "\r",
      " 71%|███████   | 361/508 [02:24<00:54,  2.71it/s]"
     ]
    },
    {
     "name": "stdout",
     "output_type": "stream",
     "text": [
      "HTTP Error 400: Bad Request ENST00000390401.2\n"
     ]
    },
    {
     "name": "stderr",
     "output_type": "stream",
     "text": [
      "\r",
      " 71%|███████▏  | 362/508 [02:25<00:56,  2.58it/s]"
     ]
    },
    {
     "name": "stdout",
     "output_type": "stream",
     "text": [
      "HTTP Error 400: Bad Request ENST00000391405.2\n"
     ]
    },
    {
     "name": "stderr",
     "output_type": "stream",
     "text": [
      "\r",
      " 71%|███████▏  | 363/508 [02:25<00:57,  2.52it/s]"
     ]
    },
    {
     "name": "stdout",
     "output_type": "stream",
     "text": [
      "HTTP Error 400: Bad Request ENST00000391409.1\n"
     ]
    },
    {
     "name": "stderr",
     "output_type": "stream",
     "text": [
      "\r",
      " 72%|███████▏  | 364/508 [02:26<00:56,  2.56it/s]"
     ]
    },
    {
     "name": "stdout",
     "output_type": "stream",
     "text": [
      "HTTP Error 400: Bad Request ENST00000393811.2\n"
     ]
    },
    {
     "name": "stderr",
     "output_type": "stream",
     "text": [
      "\r",
      " 72%|███████▏  | 365/508 [02:26<00:55,  2.59it/s]"
     ]
    },
    {
     "name": "stdout",
     "output_type": "stream",
     "text": [
      "HTTP Error 400: Bad Request ENST00000394982.2\n"
     ]
    },
    {
     "name": "stderr",
     "output_type": "stream",
     "text": [
      "\r",
      " 72%|███████▏  | 366/508 [02:26<00:54,  2.61it/s]"
     ]
    },
    {
     "name": "stdout",
     "output_type": "stream",
     "text": [
      "HTTP Error 400: Bad Request ENST00000395215.3\n"
     ]
    },
    {
     "name": "stderr",
     "output_type": "stream",
     "text": [
      "\r",
      " 72%|███████▏  | 367/508 [02:27<00:53,  2.64it/s]"
     ]
    },
    {
     "name": "stdout",
     "output_type": "stream",
     "text": [
      "HTTP Error 400: Bad Request ENST00000395900.1\n"
     ]
    },
    {
     "name": "stderr",
     "output_type": "stream",
     "text": [
      "\r",
      " 72%|███████▏  | 368/508 [02:27<00:55,  2.54it/s]"
     ]
    },
    {
     "name": "stdout",
     "output_type": "stream",
     "text": [
      "HTTP Error 400: Bad Request ENST00000395988.1\n"
     ]
    },
    {
     "name": "stderr",
     "output_type": "stream",
     "text": [
      "\r",
      " 73%|███████▎  | 369/508 [02:27<00:53,  2.59it/s]"
     ]
    },
    {
     "name": "stdout",
     "output_type": "stream",
     "text": [
      "HTTP Error 400: Bad Request ENST00000397630.3\n"
     ]
    },
    {
     "name": "stderr",
     "output_type": "stream",
     "text": [
      "\r",
      " 73%|███████▎  | 370/508 [02:28<00:52,  2.64it/s]"
     ]
    },
    {
     "name": "stdout",
     "output_type": "stream",
     "text": [
      "HTTP Error 400: Bad Request ENST00000397787.1\n"
     ]
    },
    {
     "name": "stderr",
     "output_type": "stream",
     "text": [
      "\r",
      " 73%|███████▎  | 371/508 [02:28<00:51,  2.64it/s]"
     ]
    },
    {
     "name": "stdout",
     "output_type": "stream",
     "text": [
      "HTTP Error 400: Bad Request ENST00000397864.2\n"
     ]
    },
    {
     "name": "stderr",
     "output_type": "stream",
     "text": [
      "\r",
      " 73%|███████▎  | 372/508 [02:29<00:50,  2.67it/s]"
     ]
    },
    {
     "name": "stdout",
     "output_type": "stream",
     "text": [
      "HTTP Error 400: Bad Request ENST00000397994.4\n"
     ]
    },
    {
     "name": "stderr",
     "output_type": "stream",
     "text": [
      "\r",
      " 73%|███████▎  | 373/508 [02:29<00:52,  2.56it/s]"
     ]
    },
    {
     "name": "stdout",
     "output_type": "stream",
     "text": [
      "HTTP Error 400: Bad Request ENST00000398120.2\n"
     ]
    },
    {
     "name": "stderr",
     "output_type": "stream",
     "text": [
      "\r",
      " 74%|███████▎  | 374/508 [02:29<00:51,  2.62it/s]"
     ]
    },
    {
     "name": "stdout",
     "output_type": "stream",
     "text": [
      "HTTP Error 400: Bad Request ENST00000398121.4\n"
     ]
    },
    {
     "name": "stderr",
     "output_type": "stream",
     "text": [
      "\r",
      " 74%|███████▍  | 375/508 [02:30<00:49,  2.66it/s]"
     ]
    },
    {
     "name": "stdout",
     "output_type": "stream",
     "text": [
      "HTTP Error 400: Bad Request ENST00000398240.2\n"
     ]
    },
    {
     "name": "stderr",
     "output_type": "stream",
     "text": [
      "\r",
      " 74%|███████▍  | 376/508 [02:30<00:49,  2.69it/s]"
     ]
    },
    {
     "name": "stdout",
     "output_type": "stream",
     "text": [
      "HTTP Error 400: Bad Request ENST00000398792.3\n"
     ]
    },
    {
     "name": "stderr",
     "output_type": "stream",
     "text": [
      "\r",
      " 74%|███████▍  | 377/508 [02:30<00:48,  2.72it/s]"
     ]
    },
    {
     "name": "stdout",
     "output_type": "stream",
     "text": [
      "HTTP Error 400: Bad Request ENST00000398840.2\n"
     ]
    },
    {
     "name": "stderr",
     "output_type": "stream",
     "text": [
      "\r",
      " 74%|███████▍  | 378/508 [02:31<00:47,  2.72it/s]"
     ]
    },
    {
     "name": "stdout",
     "output_type": "stream",
     "text": [
      "HTTP Error 400: Bad Request ENST00000398957.1\n"
     ]
    },
    {
     "name": "stderr",
     "output_type": "stream",
     "text": [
      "\r",
      " 75%|███████▍  | 379/508 [02:31<00:47,  2.72it/s]"
     ]
    },
    {
     "name": "stdout",
     "output_type": "stream",
     "text": [
      "HTTP Error 400: Bad Request ENST00000399070.3\n"
     ]
    },
    {
     "name": "stderr",
     "output_type": "stream",
     "text": [
      "\r",
      " 75%|███████▍  | 380/508 [02:32<00:47,  2.72it/s]"
     ]
    },
    {
     "name": "stdout",
     "output_type": "stream",
     "text": [
      "HTTP Error 400: Bad Request ENST00000399211.3\n"
     ]
    },
    {
     "name": "stderr",
     "output_type": "stream",
     "text": [
      "\r",
      " 75%|███████▌  | 381/508 [02:32<00:46,  2.71it/s]"
     ]
    },
    {
     "name": "stdout",
     "output_type": "stream",
     "text": [
      "HTTP Error 400: Bad Request ENST00000399773.6\n"
     ]
    },
    {
     "name": "stderr",
     "output_type": "stream",
     "text": [
      "\r",
      " 75%|███████▌  | 382/508 [02:32<00:46,  2.72it/s]"
     ]
    },
    {
     "name": "stdout",
     "output_type": "stream",
     "text": [
      "HTTP Error 400: Bad Request ENST00000399868.2\n"
     ]
    },
    {
     "name": "stderr",
     "output_type": "stream",
     "text": [
      "\r",
      " 75%|███████▌  | 383/508 [02:33<00:45,  2.75it/s]"
     ]
    },
    {
     "name": "stdout",
     "output_type": "stream",
     "text": [
      "HTTP Error 400: Bad Request ENST00000399893.3\n"
     ]
    },
    {
     "name": "stderr",
     "output_type": "stream",
     "text": [
      "\r",
      " 76%|███████▌  | 384/508 [02:33<00:45,  2.75it/s]"
     ]
    },
    {
     "name": "stdout",
     "output_type": "stream",
     "text": [
      "HTTP Error 400: Bad Request ENST00000401014.1\n"
     ]
    },
    {
     "name": "stderr",
     "output_type": "stream",
     "text": [
      "\r",
      " 76%|███████▌  | 385/508 [02:33<00:45,  2.68it/s]"
     ]
    },
    {
     "name": "stdout",
     "output_type": "stream",
     "text": [
      "HTTP Error 400: Bad Request ENST00000401798.3\n"
     ]
    },
    {
     "name": "stderr",
     "output_type": "stream",
     "text": [
      "\r",
      " 76%|███████▌  | 386/508 [02:34<00:47,  2.59it/s]"
     ]
    },
    {
     "name": "stdout",
     "output_type": "stream",
     "text": [
      "HTTP Error 400: Bad Request ENST00000407030.3\n"
     ]
    },
    {
     "name": "stderr",
     "output_type": "stream",
     "text": [
      "\r",
      " 76%|███████▌  | 387/508 [02:34<00:45,  2.63it/s]"
     ]
    },
    {
     "name": "stdout",
     "output_type": "stream",
     "text": [
      "HTTP Error 400: Bad Request ENST00000407081.2\n"
     ]
    },
    {
     "name": "stderr",
     "output_type": "stream",
     "text": [
      "\r",
      " 76%|███████▋  | 388/508 [02:35<00:45,  2.65it/s]"
     ]
    },
    {
     "name": "stdout",
     "output_type": "stream",
     "text": [
      "HTTP Error 400: Bad Request ENST00000409172.3\n"
     ]
    },
    {
     "name": "stderr",
     "output_type": "stream",
     "text": [
      "\r",
      " 77%|███████▋  | 389/508 [02:35<00:44,  2.67it/s]"
     ]
    },
    {
     "name": "stdout",
     "output_type": "stream",
     "text": [
      "HTTP Error 400: Bad Request ENST00000409686.2\n"
     ]
    },
    {
     "name": "stderr",
     "output_type": "stream",
     "text": [
      "\r",
      " 77%|███████▋  | 390/508 [02:35<00:43,  2.69it/s]"
     ]
    },
    {
     "name": "stdout",
     "output_type": "stream",
     "text": [
      "HTTP Error 400: Bad Request ENST00000411702.3\n"
     ]
    },
    {
     "name": "stderr",
     "output_type": "stream",
     "text": [
      "\r",
      " 77%|███████▋  | 391/508 [02:36<00:45,  2.59it/s]"
     ]
    },
    {
     "name": "stdout",
     "output_type": "stream",
     "text": [
      "HTTP Error 400: Bad Request ENST00000412250.3\n"
     ]
    },
    {
     "name": "stderr",
     "output_type": "stream",
     "text": [
      "\r",
      " 77%|███████▋  | 392/508 [02:36<00:45,  2.53it/s]"
     ]
    },
    {
     "name": "stdout",
     "output_type": "stream",
     "text": [
      "HTTP Error 400: Bad Request ENST00000412510.2\n"
     ]
    },
    {
     "name": "stderr",
     "output_type": "stream",
     "text": [
      "\r",
      " 77%|███████▋  | 393/508 [02:36<00:44,  2.58it/s]"
     ]
    },
    {
     "name": "stdout",
     "output_type": "stream",
     "text": [
      "HTTP Error 400: Bad Request ENST00000412872.3\n"
     ]
    },
    {
     "name": "stderr",
     "output_type": "stream",
     "text": [
      "\r",
      " 78%|███████▊  | 394/508 [02:37<00:43,  2.62it/s]"
     ]
    },
    {
     "name": "stdout",
     "output_type": "stream",
     "text": [
      "HTTP Error 400: Bad Request ENST00000413681.3\n"
     ]
    },
    {
     "name": "stderr",
     "output_type": "stream",
     "text": [
      "\r",
      " 78%|███████▊  | 395/508 [02:37<00:42,  2.66it/s]"
     ]
    },
    {
     "name": "stdout",
     "output_type": "stream",
     "text": [
      "HTTP Error 400: Bad Request ENST00000414523.2\n"
     ]
    },
    {
     "name": "stderr",
     "output_type": "stream",
     "text": [
      "\r",
      " 78%|███████▊  | 396/508 [02:38<00:41,  2.67it/s]"
     ]
    },
    {
     "name": "stdout",
     "output_type": "stream",
     "text": [
      "HTTP Error 400: Bad Request ENST00000415411.1\n"
     ]
    },
    {
     "name": "stderr",
     "output_type": "stream",
     "text": [
      "\r",
      " 78%|███████▊  | 397/508 [02:38<00:41,  2.70it/s]"
     ]
    },
    {
     "name": "stdout",
     "output_type": "stream",
     "text": [
      "HTTP Error 400: Bad Request ENST00000415882.1\n"
     ]
    },
    {
     "name": "stderr",
     "output_type": "stream",
     "text": [
      "\r",
      " 78%|███████▊  | 398/508 [02:38<00:40,  2.69it/s]"
     ]
    },
    {
     "name": "stdout",
     "output_type": "stream",
     "text": [
      "HTTP Error 400: Bad Request ENST00000417324.1\n"
     ]
    },
    {
     "name": "stderr",
     "output_type": "stream",
     "text": [
      "\r",
      " 79%|███████▊  | 399/508 [02:39<00:40,  2.68it/s]"
     ]
    },
    {
     "name": "stdout",
     "output_type": "stream",
     "text": [
      "HTTP Error 400: Bad Request ENST00000417858.1\n"
     ]
    },
    {
     "name": "stderr",
     "output_type": "stream",
     "text": [
      "\r",
      " 79%|███████▊  | 400/508 [02:39<00:40,  2.67it/s]"
     ]
    },
    {
     "name": "stdout",
     "output_type": "stream",
     "text": [
      "HTTP Error 400: Bad Request ENST00000418795.2\n"
     ]
    },
    {
     "name": "stderr",
     "output_type": "stream",
     "text": [
      "\r",
      " 79%|███████▉  | 401/508 [02:39<00:40,  2.65it/s]"
     ]
    },
    {
     "name": "stdout",
     "output_type": "stream",
     "text": [
      "HTTP Error 400: Bad Request ENST00000419533.1\n"
     ]
    },
    {
     "name": "stderr",
     "output_type": "stream",
     "text": [
      "\r",
      " 79%|███████▉  | 402/508 [02:40<00:40,  2.64it/s]"
     ]
    },
    {
     "name": "stdout",
     "output_type": "stream",
     "text": [
      "HTTP Error 400: Bad Request ENST00000422321.1\n"
     ]
    },
    {
     "name": "stderr",
     "output_type": "stream",
     "text": [
      "\r",
      " 79%|███████▉  | 403/508 [02:40<00:39,  2.65it/s]"
     ]
    },
    {
     "name": "stdout",
     "output_type": "stream",
     "text": [
      "HTTP Error 400: Bad Request ENST00000422992.2\n"
     ]
    },
    {
     "name": "stderr",
     "output_type": "stream",
     "text": [
      "\r",
      " 80%|███████▉  | 404/508 [02:41<00:38,  2.68it/s]"
     ]
    },
    {
     "name": "stdout",
     "output_type": "stream",
     "text": [
      "HTTP Error 400: Bad Request ENST00000423459.2\n"
     ]
    },
    {
     "name": "stderr",
     "output_type": "stream",
     "text": [
      "\r",
      " 80%|███████▉  | 405/508 [02:41<00:38,  2.68it/s]"
     ]
    },
    {
     "name": "stdout",
     "output_type": "stream",
     "text": [
      "HTTP Error 400: Bad Request ENST00000423736.1\n"
     ]
    },
    {
     "name": "stderr",
     "output_type": "stream",
     "text": [
      "\r",
      " 80%|███████▉  | 406/508 [02:41<00:38,  2.68it/s]"
     ]
    },
    {
     "name": "stdout",
     "output_type": "stream",
     "text": [
      "HTTP Error 400: Bad Request ENST00000424015.2\n"
     ]
    },
    {
     "name": "stderr",
     "output_type": "stream",
     "text": [
      "\r",
      " 80%|████████  | 407/508 [02:42<00:38,  2.61it/s]"
     ]
    },
    {
     "name": "stdout",
     "output_type": "stream",
     "text": [
      "HTTP Error 400: Bad Request ENST00000424282.2\n"
     ]
    },
    {
     "name": "stderr",
     "output_type": "stream",
     "text": [
      "\r",
      " 80%|████████  | 408/508 [02:42<00:37,  2.63it/s]"
     ]
    },
    {
     "name": "stdout",
     "output_type": "stream",
     "text": [
      "HTTP Error 400: Bad Request ENST00000424981.1\n"
     ]
    },
    {
     "name": "stderr",
     "output_type": "stream",
     "text": [
      "\r",
      " 81%|████████  | 409/508 [02:42<00:37,  2.65it/s]"
     ]
    },
    {
     "name": "stdout",
     "output_type": "stream",
     "text": [
      "HTTP Error 400: Bad Request ENST00000425051.1\n"
     ]
    },
    {
     "name": "stderr",
     "output_type": "stream",
     "text": [
      "\r",
      " 81%|████████  | 410/508 [02:43<00:36,  2.69it/s]"
     ]
    },
    {
     "name": "stdout",
     "output_type": "stream",
     "text": [
      "HTTP Error 400: Bad Request ENST00000425519.1\n"
     ]
    },
    {
     "name": "stderr",
     "output_type": "stream",
     "text": [
      "\r",
      " 81%|████████  | 411/508 [02:43<00:35,  2.70it/s]"
     ]
    },
    {
     "name": "stdout",
     "output_type": "stream",
     "text": [
      "HTTP Error 400: Bad Request ENST00000425592.2\n"
     ]
    },
    {
     "name": "stderr",
     "output_type": "stream",
     "text": [
      "\r",
      " 81%|████████  | 412/508 [02:44<00:35,  2.69it/s]"
     ]
    },
    {
     "name": "stdout",
     "output_type": "stream",
     "text": [
      "HTTP Error 400: Bad Request ENST00000425916.3\n"
     ]
    },
    {
     "name": "stderr",
     "output_type": "stream",
     "text": [
      "\r",
      " 81%|████████▏ | 413/508 [02:44<00:35,  2.68it/s]"
     ]
    },
    {
     "name": "stdout",
     "output_type": "stream",
     "text": [
      "HTTP Error 400: Bad Request ENST00000426361.2\n"
     ]
    },
    {
     "name": "stderr",
     "output_type": "stream",
     "text": [
      "\r",
      " 81%|████████▏ | 414/508 [02:44<00:34,  2.70it/s]"
     ]
    },
    {
     "name": "stdout",
     "output_type": "stream",
     "text": [
      "HTTP Error 400: Bad Request ENST00000426433.2\n"
     ]
    },
    {
     "name": "stderr",
     "output_type": "stream",
     "text": [
      "\r",
      " 82%|████████▏ | 415/508 [02:45<00:34,  2.69it/s]"
     ]
    },
    {
     "name": "stdout",
     "output_type": "stream",
     "text": [
      "HTTP Error 400: Bad Request ENST00000426869.3\n"
     ]
    },
    {
     "name": "stderr",
     "output_type": "stream",
     "text": [
      "\r",
      " 82%|████████▏ | 416/508 [02:45<00:34,  2.70it/s]"
     ]
    },
    {
     "name": "stdout",
     "output_type": "stream",
     "text": [
      "HTTP Error 400: Bad Request ENST00000427006.2\n"
     ]
    },
    {
     "name": "stderr",
     "output_type": "stream",
     "text": [
      "\r",
      " 82%|████████▏ | 417/508 [02:45<00:33,  2.68it/s]"
     ]
    },
    {
     "name": "stdout",
     "output_type": "stream",
     "text": [
      "HTTP Error 400: Bad Request ENST00000427965.2\n"
     ]
    },
    {
     "name": "stderr",
     "output_type": "stream",
     "text": [
      "\r",
      " 82%|████████▏ | 418/508 [02:46<00:33,  2.68it/s]"
     ]
    },
    {
     "name": "stdout",
     "output_type": "stream",
     "text": [
      "HTTP Error 400: Bad Request ENST00000428722.1\n"
     ]
    },
    {
     "name": "stderr",
     "output_type": "stream",
     "text": [
      "\r",
      " 82%|████████▏ | 419/508 [02:46<00:33,  2.69it/s]"
     ]
    },
    {
     "name": "stdout",
     "output_type": "stream",
     "text": [
      "HTTP Error 400: Bad Request ENST00000429274.2\n"
     ]
    },
    {
     "name": "stderr",
     "output_type": "stream",
     "text": [
      "\r",
      " 83%|████████▎ | 420/508 [02:47<00:32,  2.68it/s]"
     ]
    },
    {
     "name": "stdout",
     "output_type": "stream",
     "text": [
      "HTTP Error 400: Bad Request ENST00000429306.2\n"
     ]
    },
    {
     "name": "stderr",
     "output_type": "stream",
     "text": [
      "\r",
      " 83%|████████▎ | 421/508 [02:47<00:33,  2.61it/s]"
     ]
    },
    {
     "name": "stdout",
     "output_type": "stream",
     "text": [
      "HTTP Error 400: Bad Request ENST00000429672.2\n"
     ]
    },
    {
     "name": "stderr",
     "output_type": "stream",
     "text": [
      "\r",
      " 83%|████████▎ | 422/508 [02:47<00:33,  2.55it/s]"
     ]
    },
    {
     "name": "stdout",
     "output_type": "stream",
     "text": [
      "HTTP Error 400: Bad Request ENST00000429810.2\n"
     ]
    },
    {
     "name": "stderr",
     "output_type": "stream",
     "text": [
      "\r",
      " 83%|████████▎ | 423/508 [02:48<00:32,  2.60it/s]"
     ]
    },
    {
     "name": "stdout",
     "output_type": "stream",
     "text": [
      "HTTP Error 400: Bad Request ENST00000431461.1\n"
     ]
    },
    {
     "name": "stderr",
     "output_type": "stream",
     "text": [
      "\r",
      " 83%|████████▎ | 424/508 [02:48<00:31,  2.66it/s]"
     ]
    },
    {
     "name": "stdout",
     "output_type": "stream",
     "text": [
      "HTTP Error 400: Bad Request ENST00000431569.1\n"
     ]
    },
    {
     "name": "stderr",
     "output_type": "stream",
     "text": [
      "\r",
      " 84%|████████▎ | 425/508 [02:48<00:31,  2.67it/s]"
     ]
    },
    {
     "name": "stdout",
     "output_type": "stream",
     "text": [
      "HTTP Error 400: Bad Request ENST00000432610.1\n"
     ]
    },
    {
     "name": "stderr",
     "output_type": "stream",
     "text": [
      "\r",
      " 84%|████████▍ | 426/508 [02:49<00:30,  2.66it/s]"
     ]
    },
    {
     "name": "stdout",
     "output_type": "stream",
     "text": [
      "HTTP Error 400: Bad Request ENST00000432996.2\n"
     ]
    },
    {
     "name": "stderr",
     "output_type": "stream",
     "text": [
      "\r",
      " 84%|████████▍ | 427/508 [02:49<00:30,  2.66it/s]"
     ]
    },
    {
     "name": "stdout",
     "output_type": "stream",
     "text": [
      "HTTP Error 400: Bad Request ENST00000434519.2\n"
     ]
    },
    {
     "name": "stderr",
     "output_type": "stream",
     "text": [
      "\r",
      " 84%|████████▍ | 428/508 [02:50<00:30,  2.63it/s]"
     ]
    },
    {
     "name": "stdout",
     "output_type": "stream",
     "text": [
      "HTTP Error 400: Bad Request ENST00000435383.1\n"
     ]
    },
    {
     "name": "stderr",
     "output_type": "stream",
     "text": [
      "\r",
      " 84%|████████▍ | 429/508 [02:50<00:29,  2.64it/s]"
     ]
    },
    {
     "name": "stdout",
     "output_type": "stream",
     "text": [
      "HTTP Error 400: Bad Request ENST00000435864.2\n"
     ]
    },
    {
     "name": "stderr",
     "output_type": "stream",
     "text": [
      "\r",
      " 85%|████████▍ | 430/508 [02:50<00:30,  2.52it/s]"
     ]
    },
    {
     "name": "stdout",
     "output_type": "stream",
     "text": [
      "HTTP Error 400: Bad Request ENST00000436115.2\n"
     ]
    },
    {
     "name": "stderr",
     "output_type": "stream",
     "text": [
      "\r",
      " 85%|████████▍ | 431/508 [02:51<00:29,  2.59it/s]"
     ]
    },
    {
     "name": "stdout",
     "output_type": "stream",
     "text": [
      "HTTP Error 400: Bad Request ENST00000436832.2\n"
     ]
    },
    {
     "name": "stderr",
     "output_type": "stream",
     "text": [
      "\r",
      " 85%|████████▌ | 432/508 [02:51<00:29,  2.58it/s]"
     ]
    },
    {
     "name": "stdout",
     "output_type": "stream",
     "text": [
      "HTTP Error 400: Bad Request ENST00000438417.2\n"
     ]
    },
    {
     "name": "stderr",
     "output_type": "stream",
     "text": [
      "\r",
      " 85%|████████▌ | 433/508 [02:52<00:28,  2.63it/s]"
     ]
    },
    {
     "name": "stdout",
     "output_type": "stream",
     "text": [
      "HTTP Error 400: Bad Request ENST00000438638.1\n"
     ]
    },
    {
     "name": "stderr",
     "output_type": "stream",
     "text": [
      "\r",
      " 85%|████████▌ | 434/508 [02:52<00:28,  2.63it/s]"
     ]
    },
    {
     "name": "stdout",
     "output_type": "stream",
     "text": [
      "HTTP Error 400: Bad Request ENST00000440197.2\n"
     ]
    },
    {
     "name": "stderr",
     "output_type": "stream",
     "text": [
      "\r",
      " 86%|████████▌ | 435/508 [02:52<00:27,  2.64it/s]"
     ]
    },
    {
     "name": "stdout",
     "output_type": "stream",
     "text": [
      "HTTP Error 400: Bad Request ENST00000440800.2\n"
     ]
    },
    {
     "name": "stderr",
     "output_type": "stream",
     "text": [
      "\r",
      " 86%|████████▌ | 436/508 [02:53<00:27,  2.62it/s]"
     ]
    },
    {
     "name": "stdout",
     "output_type": "stream",
     "text": [
      "HTTP Error 400: Bad Request ENST00000441191.1\n"
     ]
    },
    {
     "name": "stderr",
     "output_type": "stream",
     "text": [
      "\r",
      " 86%|████████▌ | 437/508 [02:53<00:26,  2.66it/s]"
     ]
    },
    {
     "name": "stdout",
     "output_type": "stream",
     "text": [
      "HTTP Error 400: Bad Request ENST00000442128.1\n"
     ]
    },
    {
     "name": "stderr",
     "output_type": "stream",
     "text": [
      "\r",
      " 86%|████████▌ | 438/508 [02:53<00:26,  2.67it/s]"
     ]
    },
    {
     "name": "stdout",
     "output_type": "stream",
     "text": [
      "HTTP Error 400: Bad Request ENST00000442385.1\n"
     ]
    },
    {
     "name": "stderr",
     "output_type": "stream",
     "text": [
      "\r",
      " 86%|████████▋ | 439/508 [02:54<00:25,  2.67it/s]"
     ]
    },
    {
     "name": "stdout",
     "output_type": "stream",
     "text": [
      "HTTP Error 400: Bad Request ENST00000444171.1\n"
     ]
    },
    {
     "name": "stderr",
     "output_type": "stream",
     "text": [
      "\r",
      " 87%|████████▋ | 440/508 [02:54<00:25,  2.69it/s]"
     ]
    },
    {
     "name": "stdout",
     "output_type": "stream",
     "text": [
      "HTTP Error 400: Bad Request ENST00000445286.3\n"
     ]
    },
    {
     "name": "stderr",
     "output_type": "stream",
     "text": [
      "\r",
      " 87%|████████▋ | 441/508 [02:55<00:24,  2.69it/s]"
     ]
    },
    {
     "name": "stdout",
     "output_type": "stream",
     "text": [
      "HTTP Error 400: Bad Request ENST00000445466.2\n"
     ]
    },
    {
     "name": "stderr",
     "output_type": "stream",
     "text": [
      "\r",
      " 87%|████████▋ | 442/508 [02:55<00:24,  2.71it/s]"
     ]
    },
    {
     "name": "stdout",
     "output_type": "stream",
     "text": [
      "HTTP Error 400: Bad Request ENST00000446144.2\n"
     ]
    },
    {
     "name": "stderr",
     "output_type": "stream",
     "text": [
      "\r",
      " 87%|████████▋ | 443/508 [02:55<00:24,  2.68it/s]"
     ]
    },
    {
     "name": "stdout",
     "output_type": "stream",
     "text": [
      "HTTP Error 400: Bad Request ENST00000446478.1\n"
     ]
    },
    {
     "name": "stderr",
     "output_type": "stream",
     "text": [
      "\r",
      " 87%|████████▋ | 444/508 [02:56<00:23,  2.70it/s]"
     ]
    },
    {
     "name": "stdout",
     "output_type": "stream",
     "text": [
      "HTTP Error 400: Bad Request ENST00000446546.2\n"
     ]
    },
    {
     "name": "stderr",
     "output_type": "stream",
     "text": [
      "\r",
      " 88%|████████▊ | 445/508 [02:56<00:23,  2.68it/s]"
     ]
    },
    {
     "name": "stdout",
     "output_type": "stream",
     "text": [
      "HTTP Error 400: Bad Request ENST00000447375.1\n"
     ]
    },
    {
     "name": "stderr",
     "output_type": "stream",
     "text": [
      "\r",
      " 88%|████████▊ | 446/508 [02:56<00:24,  2.56it/s]"
     ]
    },
    {
     "name": "stdout",
     "output_type": "stream",
     "text": [
      "HTTP Error 400: Bad Request ENST00000449442.2\n"
     ]
    },
    {
     "name": "stderr",
     "output_type": "stream",
     "text": [
      "\r",
      " 88%|████████▊ | 447/508 [02:57<00:23,  2.61it/s]"
     ]
    },
    {
     "name": "stdout",
     "output_type": "stream",
     "text": [
      "HTTP Error 400: Bad Request ENST00000452401.2\n"
     ]
    },
    {
     "name": "stderr",
     "output_type": "stream",
     "text": [
      "\r",
      " 88%|████████▊ | 448/508 [02:57<00:22,  2.64it/s]"
     ]
    },
    {
     "name": "stdout",
     "output_type": "stream",
     "text": [
      "HTTP Error 400: Bad Request ENST00000453185.1\n"
     ]
    },
    {
     "name": "stderr",
     "output_type": "stream",
     "text": [
      "\r",
      " 88%|████████▊ | 449/508 [02:58<00:22,  2.66it/s]"
     ]
    },
    {
     "name": "stdout",
     "output_type": "stream",
     "text": [
      "HTTP Error 400: Bad Request ENST00000453888.3\n"
     ]
    },
    {
     "name": "stderr",
     "output_type": "stream",
     "text": [
      "\r",
      " 89%|████████▊ | 450/508 [02:58<00:22,  2.53it/s]"
     ]
    },
    {
     "name": "stdout",
     "output_type": "stream",
     "text": [
      "HTTP Error 400: Bad Request ENST00000455773.3\n"
     ]
    },
    {
     "name": "stderr",
     "output_type": "stream",
     "text": [
      "\r",
      " 89%|████████▉ | 451/508 [02:58<00:22,  2.59it/s]"
     ]
    },
    {
     "name": "stdout",
     "output_type": "stream",
     "text": [
      "HTTP Error 400: Bad Request ENST00000456956.1\n"
     ]
    },
    {
     "name": "stderr",
     "output_type": "stream",
     "text": [
      "\r",
      " 89%|████████▉ | 452/508 [02:59<00:21,  2.64it/s]"
     ]
    },
    {
     "name": "stdout",
     "output_type": "stream",
     "text": [
      "HTTP Error 400: Bad Request ENST00000457631.3\n"
     ]
    },
    {
     "name": "stderr",
     "output_type": "stream",
     "text": [
      "\r",
      " 89%|████████▉ | 453/508 [02:59<00:21,  2.59it/s]"
     ]
    },
    {
     "name": "stdout",
     "output_type": "stream",
     "text": [
      "HTTP Error 400: Bad Request ENST00000469064.2\n"
     ]
    },
    {
     "name": "stderr",
     "output_type": "stream",
     "text": [
      "\r",
      " 89%|████████▉ | 454/508 [02:59<00:20,  2.60it/s]"
     ]
    },
    {
     "name": "stdout",
     "output_type": "stream",
     "text": [
      "HTTP Error 400: Bad Request ENST00000485269.1\n"
     ]
    },
    {
     "name": "stderr",
     "output_type": "stream",
     "text": [
      "\r",
      " 90%|████████▉ | 455/508 [03:00<00:20,  2.64it/s]"
     ]
    },
    {
     "name": "stdout",
     "output_type": "stream",
     "text": [
      "HTTP Error 400: Bad Request ENST00000491285.1\n"
     ]
    },
    {
     "name": "stderr",
     "output_type": "stream",
     "text": [
      "\r",
      " 90%|████████▉ | 456/508 [03:00<00:20,  2.59it/s]"
     ]
    },
    {
     "name": "stdout",
     "output_type": "stream",
     "text": [
      "HTTP Error 400: Bad Request ENST00000491552.1\n"
     ]
    },
    {
     "name": "stderr",
     "output_type": "stream",
     "text": [
      "\r",
      " 90%|████████▉ | 457/508 [03:01<00:19,  2.63it/s]"
     ]
    },
    {
     "name": "stdout",
     "output_type": "stream",
     "text": [
      "HTTP Error 400: Bad Request ENST00000496001.1\n"
     ]
    },
    {
     "name": "stderr",
     "output_type": "stream",
     "text": [
      "\r",
      " 90%|█████████ | 458/508 [03:01<00:18,  2.66it/s]"
     ]
    },
    {
     "name": "stdout",
     "output_type": "stream",
     "text": [
      "HTTP Error 400: Bad Request ENST00000505256.2\n"
     ]
    },
    {
     "name": "stderr",
     "output_type": "stream",
     "text": [
      "\r",
      " 90%|█████████ | 459/508 [03:01<00:18,  2.67it/s]"
     ]
    },
    {
     "name": "stdout",
     "output_type": "stream",
     "text": [
      "HTTP Error 400: Bad Request ENST00000507381.1\n"
     ]
    },
    {
     "name": "stderr",
     "output_type": "stream",
     "text": [
      "\r",
      " 91%|█████████ | 460/508 [03:02<00:18,  2.66it/s]"
     ]
    },
    {
     "name": "stdout",
     "output_type": "stream",
     "text": [
      "HTTP Error 400: Bad Request ENST00000532298.1\n"
     ]
    },
    {
     "name": "stderr",
     "output_type": "stream",
     "text": [
      "\r",
      " 91%|█████████ | 461/508 [03:02<00:17,  2.67it/s]"
     ]
    },
    {
     "name": "stdout",
     "output_type": "stream",
     "text": [
      "HTTP Error 400: Bad Request ENST00000534799.2\n"
     ]
    },
    {
     "name": "stderr",
     "output_type": "stream",
     "text": [
      "\r",
      " 91%|█████████ | 462/508 [03:02<00:17,  2.66it/s]"
     ]
    },
    {
     "name": "stdout",
     "output_type": "stream",
     "text": [
      "HTTP Error 400: Bad Request ENST00000535852.2\n"
     ]
    },
    {
     "name": "stderr",
     "output_type": "stream",
     "text": [
      "\r",
      " 91%|█████████ | 463/508 [03:03<00:16,  2.68it/s]"
     ]
    },
    {
     "name": "stdout",
     "output_type": "stream",
     "text": [
      "HTTP Error 400: Bad Request ENST00000536432.2\n"
     ]
    },
    {
     "name": "stderr",
     "output_type": "stream",
     "text": [
      "\r",
      " 91%|█████████▏| 464/508 [03:03<00:16,  2.71it/s]"
     ]
    },
    {
     "name": "stdout",
     "output_type": "stream",
     "text": [
      "HTTP Error 400: Bad Request ENST00000539811.1\n"
     ]
    },
    {
     "name": "stderr",
     "output_type": "stream",
     "text": [
      "\r",
      " 92%|█████████▏| 465/508 [03:04<00:15,  2.69it/s]"
     ]
    },
    {
     "name": "stdout",
     "output_type": "stream",
     "text": [
      "HTTP Error 400: Bad Request ENST00000539813.1\n"
     ]
    },
    {
     "name": "stderr",
     "output_type": "stream",
     "text": [
      "\r",
      " 92%|█████████▏| 466/508 [03:04<00:15,  2.68it/s]"
     ]
    },
    {
     "name": "stdout",
     "output_type": "stream",
     "text": [
      "HTTP Error 400: Bad Request ENST00000540645.1\n"
     ]
    },
    {
     "name": "stderr",
     "output_type": "stream",
     "text": [
      "\r",
      " 92%|█████████▏| 467/508 [03:04<00:15,  2.70it/s]"
     ]
    },
    {
     "name": "stdout",
     "output_type": "stream",
     "text": [
      "HTTP Error 400: Bad Request ENST00000543438.1\n"
     ]
    },
    {
     "name": "stderr",
     "output_type": "stream",
     "text": [
      "\r",
      " 92%|█████████▏| 468/508 [03:05<00:14,  2.70it/s]"
     ]
    },
    {
     "name": "stdout",
     "output_type": "stream",
     "text": [
      "HTTP Error 400: Bad Request ENST00000545759.1\n"
     ]
    },
    {
     "name": "stderr",
     "output_type": "stream",
     "text": [
      "\r",
      " 92%|█████████▏| 469/508 [03:05<00:15,  2.45it/s]"
     ]
    },
    {
     "name": "stdout",
     "output_type": "stream",
     "text": [
      ">ENST00000551025.1 [Homo sapiens]\n",
      "MAADDDNGDGTSLFDVFSASPLKNNDEGSLDIYAGLDSAVSDSASKSCVPSRNCLDLYEE\n",
      "ILTEEGTAKEATYNDLQVEYGKCQLQMKELMKKFKEIQTQNFSLINENQSLKKNISALIK\n",
      "TARVEINRKDEEISNLHQRLSEFPHFRNNHKTARTFDTVKTKDLKSRSPHLDDCSKTDHR\n",
      "AKSDVSKDVHHSTSLPNLEKEGKPHSDKRSTSHLPTSVEKHCTNGVWSRSHYQVGEGSSN\n",
      "EDSRRGRKDIRHSQFNRGTERVRKDLSTGCGDGEPRILEASQRLQGHPEKYGKGEPKTES\n",
      "KSSKFKSNSDSDYKGERINSSWEKETPGERSHSRVDSQSDKKLERQSERSQNINRKEVKS\n",
      "QDKEERKVDQKPKSVVKDQDHWRRSERASLPHSKNEITFSHNSSKYHLEERRGWEDCKRD\n",
      "KSVNSHSFQDGRCPSSLSNSRTHKNIDSKEVDAMHQWENTPLKAERHRTEDKRKREQESK\n",
      "EENRHIRNEKRVPTEHLQKTNKETKKTTTDLKKQNEPKTDKGEVLDNGVSEGADNKELAM\n",
      "KAESGPNETKNKDLKLSFMKKLNLTLSPAKKQPVSQDNQHKITDIPKSSGVCDSESSMQV\n",
      "KTVAYVPSISEHILGEAAVSEHTMGETKSTLLEPKVALLAVTEPRIGISETNKEDENSLL\n",
      "VRSVDNTMHCEEPICGTETSFPSPMEIQQTESLFPSTGMKQTINNGRAAAPVVMDVLQTD\n",
      "VSQNFGLELDTKRNDNSDYCGISEGMEMKVALSTTVSETTESILQPSIEEADILPIMLSE\n",
      "DNNPKFEPSVIVTPLVESKSCHLEPCLPKETLDSSLQQTELMDHRMATGETNSVYHDDDN\n",
      "SVLSIDLNHLRPIPEAISPLNSPVRPVAKVLRNESPPQVPVYNNSHKDVFLPNSAHSTSK\n",
      "SQSDLNKENQKPIYKSDKCTEADTCKNSPLDELEEGEIRSDSETSKPQESFEKNSKRRVS\n",
      "ADVRKSKTIPRRGKSTVCLDKDSRKTHVRIHQTNNKWNKRPDKSSRSSKTEKKDKVMSTS\n",
      "SLEKIVPIIAVPSSEQEIMHMLRMIRKHVRKNYMKFKAKFSLIQFHRIIESAILSFTSLI\n",
      "KHLNLHKISKSVTTLQKNLCDIIESKLKQVKKNGIVDRLFEQQLPDMKKKLWKFVDDQLD\n",
      "YLFAKLKKILVCDSKSFGRDSDEGKLEKTSKQNAQYSNSQKRSVDNSNRELLKEKLSKSE\n",
      "DPVHYKSLVGCKKSEENYQDQNNSSINTVKHDIKKNFNICFDNIKNSQSEERSLEVHCPS\n",
      "TPKSEKNEGSSIEDAQTSQHATLKPERSFEILTEQQASSLTFNLVSDAQMGEIFKSLLQG\n",
      "SDLLDSSVNCTEKSEWELKTPEKQLLETLKCESIPACTTEELVSGVASPCPKMISDDNWS\n",
      "LLSSEKGPSLSSGLSLPVHPDVLDESCMFEVSTNLPLSKDNVCSVEKSKPCVSSILLEDL\n",
      "AVSLTVPSPLKSDGHLSFLKPDMSSSSTPEEVISAHFSEDALLEEEDASEQDIHLALESD\n",
      "NSSSKSSCSSSWTSRSVAPGFQYHPNLPMHAVIMEKSNDHFIVKIRRATPSTSSGLKQSM\n",
      "MPDELLTSLPRHGKEADEGPEKEYISCQNTVFKSVEELENSNKNVDGSKSTHEEQSSMIQ\n",
      "TQVPDIYEFLKDASDKMGHSDEVADECFKLHQVWETKVPESIEELPSMEEISHSVGEHLP\n",
      "NTYVDLTKDPVTETKNLGEFIEVTVLHIDQLGCSGGNLNQSAQILDNSLQADTVGAFIDL\n",
      "TQDASSEAKSEGNHPALAVEDLGCGVIQVDEDNCKEEKAQVANRPLKCIVEETYIDLTTE\n",
      "SPSSCEVKKDELKSEPGSNCDNSELPGTLHNSHKKRRNISDLNHPHKKQRKETDLTNKEK\n",
      "TKKPTQDSCENTEAHQKKASKKKAPPVTKDPSSLKATPGIKDSSAALATSTSLSAKNVIK\n",
      "KKGEIIILWTRNDDREILLECQKRGPSFKTFAYLAAKLDKNPNQVTTQFLHL\n",
      "\n"
     ]
    },
    {
     "name": "stderr",
     "output_type": "stream",
     "text": [
      "\r",
      " 93%|█████████▎| 470/508 [03:06<00:15,  2.52it/s]"
     ]
    },
    {
     "name": "stdout",
     "output_type": "stream",
     "text": [
      "HTTP Error 400: Bad Request ENST00000561679.1\n"
     ]
    },
    {
     "name": "stderr",
     "output_type": "stream",
     "text": [
      "\r",
      " 93%|█████████▎| 471/508 [03:06<00:14,  2.57it/s]"
     ]
    },
    {
     "name": "stdout",
     "output_type": "stream",
     "text": [
      "HTTP Error 400: Bad Request ENST00000587084.1\n"
     ]
    },
    {
     "name": "stderr",
     "output_type": "stream",
     "text": [
      "\r",
      " 93%|█████████▎| 472/508 [03:06<00:13,  2.60it/s]"
     ]
    },
    {
     "name": "stdout",
     "output_type": "stream",
     "text": [
      "HTTP Error 400: Bad Request ENST00000590278.1\n"
     ]
    },
    {
     "name": "stderr",
     "output_type": "stream",
     "text": [
      "\r",
      " 93%|█████████▎| 473/508 [03:07<00:13,  2.63it/s]"
     ]
    },
    {
     "name": "stdout",
     "output_type": "stream",
     "text": [
      "HTTP Error 400: Bad Request ENST00000593843.1\n"
     ]
    },
    {
     "name": "stderr",
     "output_type": "stream",
     "text": [
      "\r",
      " 93%|█████████▎| 474/508 [03:07<00:13,  2.60it/s]"
     ]
    },
    {
     "name": "stdout",
     "output_type": "stream",
     "text": [
      "HTTP Error 400: Bad Request ENST00000594836.1\n"
     ]
    },
    {
     "name": "stderr",
     "output_type": "stream",
     "text": [
      "\r",
      " 94%|█████████▎| 475/508 [03:07<00:12,  2.64it/s]"
     ]
    },
    {
     "name": "stdout",
     "output_type": "stream",
     "text": [
      "HTTP Error 400: Bad Request ENST00000599781.1\n"
     ]
    },
    {
     "name": "stderr",
     "output_type": "stream",
     "text": [
      "\r",
      " 94%|█████████▎| 476/508 [03:08<00:11,  2.67it/s]"
     ]
    },
    {
     "name": "stdout",
     "output_type": "stream",
     "text": [
      "HTTP Error 400: Bad Request ENST00000600041.1\n"
     ]
    },
    {
     "name": "stderr",
     "output_type": "stream",
     "text": [
      "\r",
      " 94%|█████████▍| 477/508 [03:08<00:11,  2.67it/s]"
     ]
    },
    {
     "name": "stdout",
     "output_type": "stream",
     "text": [
      "HTTP Error 400: Bad Request ENST00000600652.1\n"
     ]
    },
    {
     "name": "stderr",
     "output_type": "stream",
     "text": [
      "\r",
      " 94%|█████████▍| 478/508 [03:09<00:11,  2.65it/s]"
     ]
    },
    {
     "name": "stdout",
     "output_type": "stream",
     "text": [
      "HTTP Error 400: Bad Request ENST00000600723.1\n"
     ]
    },
    {
     "name": "stderr",
     "output_type": "stream",
     "text": [
      "\r",
      " 94%|█████████▍| 479/508 [03:09<00:14,  1.99it/s]"
     ]
    },
    {
     "name": "stdout",
     "output_type": "stream",
     "text": [
      ">NP_001177945 [Homo sapiens]\n",
      "MADEKPSNGVLVHMVKLLIKTFLDGIFDDLMENNVLNTDEIHLIGKCLKFVVSNAENLVDDITETAQIAG\n",
      "KIFREHLWNSKKQLSSDISSDGEREANMPGLNIRNKEFNYLHNRNGSELDLLGMRDLLENLGYSVVIKEN\n",
      "LTAQEMETALRQFAAHPEHQSSDSTFLVFMSHSILNGICGTKHWDQEPDVLHDDTIFEIFNNRNCQSLKD\n",
      "KPKVIIMQACRGNGAGIVWFTTDSGKASADTHGRLLQGNICNDAVTKAHVEKDFIAFKSSTPHNVSWRHE\n",
      "TNGSVFISQIIYYFREYSWSHHLEEIFQKVQHSFETPNILTQLPTIERLSMTRYFYLFPGN\n",
      "\n",
      "\n"
     ]
    },
    {
     "name": "stderr",
     "output_type": "stream",
     "text": [
      "\r",
      " 94%|█████████▍| 480/508 [03:10<00:15,  1.81it/s]"
     ]
    },
    {
     "name": "stdout",
     "output_type": "stream",
     "text": [
      ">NP_001307572 [Homo sapiens]\n",
      "MVIMSEFSADPAGQGQGQQKPLRVGFYDIERTLGKGNFAVVKLARHRVTKTQVAIKIIDKTRLDSSNLEK\n",
      "IYREVQLMKLLNHPHIIKLYQVMETKDMLYIVTEFAKNGEMFDYLTSNGHLSENEARKKFWQILSAVEYC\n",
      "HDHHIVHRDLKTENLLLDGNMDIKLADFGFGNFYKSGEPLSTWCGSPPYAAPEVFEGKEYEGPQLDIWSL\n",
      "GVVLYVLVCGSLPFDGPNLPTLRQRVLEGRFRIPFFMSQDCESLIRRMLVVDPARRITIAQIRQHRWMRA\n",
      "EPCLPGPACPAFSAHSYTSNLGDYDEQALGIMQTLGVDRQRTVESLQNSSYNHFAAIYYLLLERLKEYRN\n",
      "AQCARPGPARQPRPRSSDLSGLEVPQEGLSTDPFRPALLCPQPQTLVQSVLQAEMDCELQSSLQWPLFFP\n",
      "VDASCSGVFRPRPVSPSSLLDTAISEEARQGPGLEEEQDTQESLPSSTGRRHTLAEVSTRLSPLTAPCIV\n",
      "VSPSTTASPAEGTSSDSCLTFSASKSPAGLSGTPATQGLLGACSPVRLASPFLGSQSATPVLQAQGGLGG\n",
      "AVLLPVSFQEGRRASDTSLTQGLKAFRQQLRKTTRTKGFLGLNKIKGLARQVCQVPASRASRGGLSPFHA\n",
      "PAQSPGLHGGAAGSREGWSLLEEVLEQQRLLQLQHHPAAAPGCSQAPQPAPAPFVIAPCDGPGAAPLPST\n",
      "LLTSGLPLLPPPLLQTGASPVASAAQLLDTHLHIGTGPTALPAVPPPRLARLAPGCEPLGLLQGDCEMED\n",
      "LMPCSLGTFVLVQ\n",
      "\n",
      "\n"
     ]
    },
    {
     "name": "stderr",
     "output_type": "stream",
     "text": [
      "\r",
      " 95%|█████████▍| 481/508 [03:11<00:15,  1.70it/s]"
     ]
    },
    {
     "name": "stdout",
     "output_type": "stream",
     "text": [
      ">NP_001335667 [Homo sapiens]\n",
      "MSVLISQSVINYVEEENIPALKALLEKCKDVDERNECGQTPLMIAAEQGNLEIVKELIKNGANCNLEDLD\n",
      "NWTALISASKEGHVHIVEELLKCGVNLEHRDMGGWTALMWACYKGRTDVVELLLSHGANPSVTGLYSVYP\n",
      "IIWAAGRGHADIVHLLLQNGAKVNCSDKYGTTPLVWAARKGHLECVKHLLAMGADVDQEGANSMTALIVA\n",
      "VKGGYTQSVKEILKRNPNVNLTDKDGNTALMIASKEGHTEIVQDLLDAGTYVNIPDRSGDTVLIGAVRGG\n",
      "HVEIVRALLQKYADIDIRGQDNKTALYWAVEKGNATMVRDILQCNPDTEICTKDGETPLIKATKMRNIEV\n",
      "VELLLDKGAKVSAVDKKGDTPLHIAIRGRSRKLAELLLRNPKDGRLLYRPNKAGETPYNIDCSHQKSILT\n",
      "QIFGARHLSPTETDGDMLGYDLYSSALADILSEPTMQPPICVGLYAQWGSGKSFLLKKLEDEMKTFAGQQ\n",
      "IEPLFQFSWLIVFLTLLLCGGLGLLFAFTVHPNLGIAVSLSFLALLYIFFIVIYFGGRREGESWNWAWVL\n",
      "STRLARHIGYLELLLKLMFVNPPELPEQTTKALPVRFLFTDYNRLSSVGGETSLAEMIATLSDACEREFG\n",
      "FLATRLFRVFKTEDTQGKKKWKKTCCLPSFVIFLFIIGCIISGITLLAIFRVDPKHLTVNAVLISIASVV\n",
      "GLAFVLNCRTWWQVLDSLLNSQRKRLHNAASKLHKLKSEGFMKVLKCEVELMARMAKTIDSFTQNQTRLV\n",
      "VIIDGLDACEQDKVLQMLDTVRVLFSKGPFIAIFASDPHIIIKAINQNLNSVLRDSNINGHDYMRNIVHL\n",
      "PVFLNSRGLSNARKFLVTSATNGDVPCSDTTGIQEDADRRVSQNSLGEMTKLGSKTALNRRDTYRRRQMQ\n",
      "RTITRQMSFDLTKLLVTEDWFSDISPQTMRRLLNIVSVTGRLLRANQISFNWDRLASWINLTEQWPYRTS\n",
      "WLILYLEETEGIPDQMTLKTIYERISKNIPTTKDVEPLLEIDGDIRNFEVFLSSRTPVLVARDVKVFLPC\n",
      "TVNLDPKLREIIADVRAAREQISIGGLAYPPLPLHEGPPRAPSGYSQPPSVCSSTSFNGPFAGGVVSPQP\n",
      "HSSYYSGMTGPQHPFYNRPFFAPYLYTPRYYPGGSQHLISRPSVKTSLPRDQNNGLGSGPAPGPVVLLNS\n",
      "LNVDAVCEKLKQIEGLDQSMLPQYCTTIKKANINGRVLAQCNIDELKKEMNMNFGDWHLFRSTVLEMRNA\n",
      "ESHVVPEDPRFLSESSSGPAPHGEPARRASHNELPHTELSSQTPYTLNFSFEELNTLGLDEGAPRHSNLS\n",
      "WQEENAGLEIDSSSEDPD\n",
      "\n",
      "\n"
     ]
    },
    {
     "name": "stderr",
     "output_type": "stream",
     "text": [
      "\r",
      " 95%|█████████▍| 482/508 [03:11<00:16,  1.61it/s]"
     ]
    },
    {
     "name": "stdout",
     "output_type": "stream",
     "text": [
      ">NP_001335697 [Homo sapiens]\n",
      "MASSAREHLLFVRRRNPQMRYTLSPENLQSLAAQSSMPENMTLQRANSDTDLVTSESRSSLTASMYEYTL\n",
      "GQAQNLIIFWDIKEEVDPSDWIGLYHIDENSPANFWDSKNRGVTGTQKGQIVWRIEPGPYFMEPEIKICF\n",
      "KYYHGISGALRATTPCITVKNPAVMMGAEGMEGGASGNLHSRKLVSFTLSDLRAVGLKKGMFFNPDPYLK\n",
      "MSIQPGKKSSFPTCAHHGQERRSTIISNTTNPIWHREKYSFFALLTDVLEIEIKDKFAKSRPIIKRFLGK\n",
      "LTIPVQRLLERQAIGDQMLSYNLGRRLPADHVSGYLQFKVEVTSSVHEDASPEAVGTILGVNSVNGDLGS\n",
      "PSDDEDMPGSHHDSQVCSNGPVSEDSAADGTPKHSFRTSSTLEIDTEELTSTSSRTSPPRGRQDSLNDYL\n",
      "DAIEHNGHSRPGTATCSERSMGASPKLRSSFPTDTRLNAMLHIDSDEEDHEFQQDLGYPSSLEEEGGLIM\n",
      "FSRASRADDGSLTSQTKLEDNPVENEEASTHEAASFEDKPENLPELAESSLPAGPAPEEGEGGPEPQPSA\n",
      "DQGSAELCGSQEVDQPTSGADTGTSDASGGSRRAVSETESLDQGSEPSQVSSETEPSDPARTESVSEAST\n",
      "RPEGESDLECADSSCNESVTTQLSSVDTRCSSLESARFPETPAFSSQEEEDGACAAEPTSSGPAEGSQES\n",
      "VCTAGSLPVVQVPSGEDEGPGAESATVPDQEELGEVWQRRGSLEGAAAAAESPPQEEGSAGEAQGTCEGA\n",
      "TAQEEGATGGSQANGHQPLRSLPSVRQDVSRYQRVDEALPPNWEARIDSHGRIFYVDHVNRTTTWQRPTA\n",
      "PPAPQVLQRSNSIQQMEQLNRRYQSIRRTMTNERPEENTNAIDGAGEEADFHQASADFRRENILPHSTSR\n",
      "SRITLLLQSPPVKFLISPEFFTVLHSNPSAYRMFTNNTCLKHMITKVRRDTHHFERYQHNRDLVGFLNMF\n",
      "ANKQLELPRGWEMKHDHQGKAFFVDHNSRTTTFIDPRLPLQSSRPTSALVHRQHLTRQRSHSAGEVGEDS\n",
      "RHAGPPVLPRPSSTFNTVSRPQYQDMVPVAYNDKIVAFLRQPNIFEILQERQPDLTRNHSLREKIQFIRT\n",
      "EGTPGLVRLSSDADLVMLLSLFEEEIMSYVPPHALLHPSYCQSPRGSPVSSPQNSPGTQRANARAPAPYK\n",
      "RDFEAKLRNFYRKLETKGYGQGPGKLKLIIRRDHLLEDAFNQIMGYSRKDLQRNKLYVTFVGEEGLDYSG\n",
      "PSREFFFLVSRELFNPYYGLFEYSANDTYTVQISPMSAFVDNHHEWFRFSGRILGLALIHQYLLDAFFTR\n",
      "PFYKALLRILCDLSDLEYLDEEFHQSLQWMKDNDIHDILDLTFTVNEEVFGQITERELKPGGANIPVTEK\n",
      "NKKEYIERMVKWRIERGVVQQTESLVRGFYEVVDARLVSVFDARELELVIAGTAEIDLSDWRNNTEYRGG\n",
      "YHDNHIVIRWFWAAVERFNNEQRLRLLQFVTGTSSIPYEGFASLRGSNGPRRFCVEKWGKITALPRAHTC\n",
      "FNRLDLPPYPSFSMLYEKLLTAVEETSTFGLE\n",
      "\n",
      "\n"
     ]
    },
    {
     "name": "stderr",
     "output_type": "stream",
     "text": [
      "\r",
      " 95%|█████████▌| 483/508 [03:12<00:15,  1.57it/s]"
     ]
    },
    {
     "name": "stdout",
     "output_type": "stream",
     "text": [
      ">NP_001335880 [Homo sapiens]\n",
      "MSCQKAVLELNIGSQLGPKSPERTEGVTAFEDYGTGLLENQLSVGDFVKIQKAFESPQPRKIICMSREDF\n",
      "TQKMTEIVGWGTKEEYGELFDKVDVAQDGFINWDKLTSFILLELYEQDERAKATVVPQWKDLEFLPVKHK\n",
      "DTIQKVIFLKNSSHYLTISKEGLLAIWGEHLKLQETFPITSDATKLKHLWVTSLVSLENVNKIAVAFTSK\n",
      "EVCFYDLLSKEEFACQYKLQGLKGTPICMDYWYDPLDANESILSFGDITGKVQAIAFTAALISLFERPAS\n",
      "ACEDGEATMTINWAELLSGCHKCCHILEHKLHQGDWVRQVTYNASLDAIISSTTSNTNSVVMAWREKSKK\n",
      "RLNMTSFNIAQGIHAFDYHSRLNLIATAGINNKVCLWNPYVVSKPVGVLWGHSASVIAVQFFVERKQLFS\n",
      "FSKDKVLRLWDIQHQLSIQRIACSFPKSQDFRCLFHFDEAHGRLFISFNNQLALLAMKSEASKRVKSHEK\n",
      "AVTCVLYNSILKQVISSDTGSTVSFWMIDTGQKIKQFTGCHGNAEISTMALDANETRLLTGSTDGTVKIW\n",
      "DFNGYCHHTLNVGQDGAVDISQILILKKKILVTGWERAITVFRPQNFNQFFIQPEEWKGGIQHHDDILCA\n",
      "AFLPPQTLVTGSYDGEIVLWNNSTENAHHVLHPDYQRLLKSKLDTKPQKLLSAGRSQPSHPMADHSTTGV\n",
      "RNFEIDTEGKNAVMRLCFLKARKNTAVTGGANLVSCGGSGYVRFWDIYKKQLLAEFLAHSGVGSIIMSTD\n",
      "KMNRYLTTGDLDGWLKIWNIEEYCLNSSKNKITKAPTLIRSFQPHEDRISSLEMCEPGGQLLIISSSADC\n",
      "SICVTGVCNAPVWIFGQAKHWHIENCLFLPKRDTNLVESEIQKEISLFSKEESCLDPTEHSLLNKKNKDD\n",
      "STYNVRPSEDINLDIKYKERSTCMKETQKPYYGEVIKKSFSTFRSLNIGALEELPEVNKPAFLLDPEKYF\n",
      "RKEPEEERPQILEAPSLFKTLKAVFDEKNLFPKEILHHERKAKQLCQEKSCEVKKNKK\n",
      "\n",
      "\n"
     ]
    },
    {
     "name": "stderr",
     "output_type": "stream",
     "text": [
      "\r",
      " 95%|█████████▌| 484/508 [03:13<00:15,  1.52it/s]"
     ]
    },
    {
     "name": "stdout",
     "output_type": "stream",
     "text": [
      ">NP_001336182 [Homo sapiens]\n",
      "MDDRCYPVIFPDERNFRPFTSDSLAAIEKRIAIQKEKKKSKDQTGEVPQPRPQLDLKASRKLPKLYGDIP\n",
      "RELIGKPLEDLDPFYRNHKTFMVLNRKRTIYRFSAKHALFIFGPFNSIRSLAIRVSVHSLFSMFIIGTVI\n",
      "INCVFMATGPAKNSNSNNTDIAECVFTGIYIFEALIKILARGFILDEFSFLRDPWNWLDSIVIGIAIVSY\n",
      "IPGITIKLLPLRTFRVFRALKAISVVSRLKVIVGALLRSVKKLVNVIILTFFCLSIFALVGQQLFMGSLN\n",
      "LKCISRDCKNISNPEAYDHCFEKKENSPEFKMCGIWMGNSACSIQYECKHTKINPDYNYTNFDNFGWSFL\n",
      "AMFRLMTQDSWEKLYQQTLRTTGLYSVFFFIVVIFLGSFYLINLTLAVVTMAYEEQNKNVAAEIEAKEKM\n",
      "FQEAQQLLKEEKEALVAMGIDRSSLTSLETSYFTPKKRKLFGNKKRKSFFLRESGKDQPPGSDSDEDCQK\n",
      "KPQLLEQTKRLSQNLSLDHFDEHGDPLQRQRALSAVSILTITMKEQEKSQEPCLPCGENLASKYLVWNCC\n",
      "PQWLCVKKVLRTVMTDPFTELAITICIIINTVFLAMEHHKMEASFEKMLNIGNLVFTSIFIAEMCLKIIA\n",
      "LDPYHYFRRGWNIFDSIVALLSFADVMNCVLQKRSWPFLRSFRVLRVFKLAKSWPTLNTLIKIIGNSVGA\n",
      "LGSLTVVLVIVIFIFSVVGMQLFGRSFNSQKSPKLCNPTGPTVSCLRHWHMGDFWHSFLVVFRILCGEWI\n",
      "ENMWECMQEANASSSLCVIVFILITVIGKLVVLNLFIALLLNSFSNEERNGNLEGEARKTKVQLALDRFR\n",
      "RAFCFVRHTLEHFCHKWCRKQNLPQQKEVAGGCAAQSKDIIPLVMEMKRGSETQEELGILTSVPKTLGVR\n",
      "HDWTWLAPLAEEEDDVEFSGEDNAQRITQPEPEQQAYELHQENKKPTSQRVQSVEIDMFSEDEPHLTIQD\n",
      "PRKKSDVTSILSECSTIDLQDGFGWLPEMVPKKQPERCLPKGFGCCFPCCSVDKRKPPWVIWWNLRKTCY\n",
      "QIVKHSWFESFIIFVILLSSGALIFEDVHLENQPKIQELLNCTDIIFTHIFILEMVLKWVAFGFGKYFTS\n",
      "AWCCLDFIIVIVSVTTLINLMELKSFRTLRALRPLRALSQFEGMKVVVNALIGAIPAILNVLLVCLIFWL\n",
      "VFCILGVYFFSGKFGKCINGTDSVINYTIITNKSQCESGNFSWINQKVNFDNVGNAYLALLQVATFKGWM\n",
      "DIIYAAVDSTEKEQQPEFESNSLGYIYFVVFIIFGSFFTLNLFIGVIIDNFNQQQKKLGGQDIFMTEEQK\n",
      "KYYNAMKKLGSKKPQKPIPRPLNKCQGLVFDIVTSQIFDIIIISLIILNMISMMAESYNQPKAMKSILDH\n",
      "LNWVFVVIFTLECLIKIFALRQYYFTNGWNLFDCVVVLLSIVSTMISTLENQEHIPFPPTLFRIVRLARI\n",
      "GRILRLVRAARGIRTLLFALMMSLPSLFNIGLLLFLIMFIYAILGMNWFSKVNPESGIDDIFNFKTFASS\n",
      "MLCLFQISTSAGWDSLLSPMLRSKESCNSSSENCHLPGIATSYFVSYIIISFLIVVNMYIAVILENFNTA\n",
      "TEESEDPLGEDDFDIFYEVWEKFDPEATQFIKYSALSDFADALPEPLRVAKPNKYQFLVMDLPMVSEDRL\n",
      "HCMDILFAFTARVLGGSDGLDSMKAMMEEKFMEANPLKKLYEPIVTTTKRKEEERGAAIIQKAFRKYMMK\n",
      "VTKGDQGDQNDLENGPHSPLQTLCNGDLSSFGVAKGKVHCD\n",
      "\n",
      "\n"
     ]
    },
    {
     "name": "stderr",
     "output_type": "stream",
     "text": [
      "\r",
      " 95%|█████████▌| 485/508 [03:13<00:15,  1.50it/s]"
     ]
    },
    {
     "name": "stdout",
     "output_type": "stream",
     "text": [
      ">NP_001336727 [Homo sapiens]\n",
      "MNQELLSVGSKRRRTGGSLRGNPSSSQVDEEQMNRVVEEEQQQQLRQQEEEHTARNGEVVGVEPRPGGQN\n",
      "DSQQGQLEENNNRFISVDEDSSGNQEEQEEDEEHAGEQDEEDEEEEEMDQESDDFDQSDDSSREDEHTHT\n",
      "NSVTNSSSIVDLPVHQLSSPFYTKTTKMKRKLDHGSEVRSFSLGKKPCKVSEYTSTTGLVPCSATPTTFG\n",
      "DLRAANGQGQQRRRITSVQPPTGLQEWLKMFQSWSGPEKLLALDELIDSCEPTQVKHMMQVIEPQFQRDF\n",
      "ISLLPKELALYVLSFLEPKDLLQAAQTCRYWRILAEDNLLWREKCKEEGIDEPLHIKRRKVIKPGFIHSP\n",
      "WKSAYIRQHRIDTNWRRGELKSPKVLKGHDDHVITCLQFCGNRIVSGSDDNTLKVWSAVTGKCLRTLVGH\n",
      "TGGVWSSQMRDNIIISGSTDRTLKVWNAETGECIHTLYGHTSTVRCMHLHEKRVVSGSRDATLRVWDIET\n",
      "GQCLHVLMGHVAAVRCVQYDGRRVVSGAYDFMVKVWDPETETCLHTLQGHTNRVYSLQFDGIHVVSGSLD\n",
      "TSIRVWDVETGNCIHTLTGHQSLTSGMELKDNILVSGNADSTVKIWDIKTGQCLQTLQGPNKHQSAVTCL\n",
      "QFNKNFVITSSDDGTVKLWDLKTGEFIRNLVTLESGGSGGVVWRIRASNTKLVCAVGSRNGTEETKLLVL\n",
      "DFDVDMK\n",
      "\n",
      "\n"
     ]
    },
    {
     "name": "stderr",
     "output_type": "stream",
     "text": [
      "\r",
      " 96%|█████████▌| 486/508 [03:14<00:14,  1.49it/s]"
     ]
    },
    {
     "name": "stdout",
     "output_type": "stream",
     "text": [
      ">NP_001337091 [Homo sapiens]\n",
      "MEMKETAKQDTLWQMSSTSKPVLNTREVNPLKKFTIPKIRRTAEKVYLSPCYTNSREYSFIHDTLNQCRL\n",
      "DVNCDLQSLWQFGDTKLVHNEELEKNFTAKRSEMRESGRHCRELEEQFCFLALPQSDVAQIYQNGISTRA\n",
      "STLKILGNPLLGIYMFRHVDIALNYSHSQSITVESILIFKVLFGKVKKIQPSVDKNKVSLDPSPNFDCHM\n",
      "SRNAPSLKDTIELQAYSSAVYFYEYSVLSKPVDKPRQCLPYAVVTVKFLGSKVDNGRLMTSLRFLSTGFP\n",
      "KRAERTCSLNNCTVAKRFGKGKDATVTFVHFKKPVDPFVQENCLCNALNSEINPFISNISNSYGNVQNGN\n",
      "ISIPETYSGQTEHSLAEIRDTSQVLAHDSDISLMPSDAKDSVNGDLLLNWTSLKNILSGLNASFPLHNNT\n",
      "GSSTVTTSKSIKDPRLMRREESMGEQSSTAGLNEVLQFEKSSDNVNSEIKSTPSNSASSSEVVPGDCAVL\n",
      "TNGLDTPCFKTSVNDSQSWAHNMGSEDYDCIPPNKVTMAGQCKDQGNFSFPISVSNVVSEVENQNHSEEK\n",
      "AQRAQQESGNAYTKEYSSHIFQDSQSSDLKTIYQTGCQTSTVFPLKKKVSIDEYLQNTGKMKNFADLEDS\n",
      "SKHEEKQTSWKEIDNDFTNETKISPIDNYIVLHQEYKESESHNSFGKSCDKILITQELEITKSSTSTIKD\n",
      "KDELDHLALEWQITPSFESLSQKHPQHSVEYEGNIHTSLAIAQKLMELKLGKINQNYASIITEAFPKPKD\n",
      "IPQAKEMFIDTVISSYNIETAHDSSNCSITREHICVHRKNENEPVSLENIQRDYKETAYVEDRGQDHNLF\n",
      "CNSQLSNDIWLNVNFKKQTDRENQNEAKENSASCVENNIENIYGDKKQDSHTNENFSNIDEKEDKNYHNI\n",
      "EILSSEEFSTKFNLICREDNAVSAATALLESEEDTISAVKQKDTENTGRSVEHLASTTFPKTASSSVCVA\n",
      "SNAAIQIASATMPALSLNNDDHQIYQFKETCSSESPDFGLLVKHRVSDCEIDTDKNKSQESFHQSINENL\n",
      "VLQSIELESEIEIELEDCDDAFIFQQDTHSHENMLCEEFVTSYKALKSRISWEGLLALDNGEMEVLESTT\n",
      "GRENSDQHYSKESNYFYSSTQNNETELTSPILLPDLQIKITNIFRPGFSPTADSLALKDSFCTHVTEATK\n",
      "PEINKEDGEILGFDIYSQPFGENADYPCEDKVDNIRQESGPVSNSEISLSFDLSRNTDVNHTSENQNSES\n",
      "LFTEPSNVTTIDDGSRCFFTKSKTDYNDTKNKKEVESRISKRKLHISSRDQNIPHKDLRRHKIYGRKRRL\n",
      "TSQDSSECFSSLSQGRIKTFSQSEKHIKSVLNILSDEASLCKSKCLSRKLDKAVVHLKKAHRRVHTSLQL\n",
      "ITKVGEERKGPLPKSYAIICNNFWESCDLQGYSSVSQRKYYSTKHFSSKRKYDKRRKKRAPKADISKSLT\n",
      "HVSKHKSYKTSGEKKCLSRKSMASSVSKSHPTTSHMGEFCNQEHPESQLPVSSTSQSTSQSVYYNSSVSN\n",
      "PSLSEEHQPFSGKTAYLFSPDHSDEKLIEKENQIDTAFLSSTSKYEKLEKHSANHNVKDATKENSCDANE\n",
      "VINESNSVSLSCIKENINSSTGNDCDATCIGHTKAKTDVLISVLDSNVKHFLNDLYQQGNLILSDCKRNL\n",
      "EVKWTDPIERPKQNIITGNFLMGPLNLTLIASKKYSIPQLSAAAVTDSEGESSKSYLDKQRILTVDSFAA\n",
      "SSTVPHCEQSCREKELLKTEQCSSGNCLHTDGNETNVTENYELDVASGTEEDKSYGENIVELSSSDSSLL\n",
      "LKDNVKGSSSETCIVKKDTEDRITWKVKQAEKAKDSVYKRSMTEGSTVNTEYKNQKNQISEESCLNEKII\n",
      "TTNLIDSHLSTKNTTTESVPLKNTVSNPLNKREKKGEIKVSKDSQSDLTLHSEIAYISKPGILGVNHTPI\n",
      "LPAHSETCKVPTLLKKPASYVSDFKEKHCSANHTALIANLSQILQRADEASSLQILQEETKVCLNILPLF\n",
      "VEAFERKQECSVEQILISRELLVDQNLWNNCKHTLKPCAVDTLVELQMMMETIQFIENKKRHLEGEPTLR\n",
      "SLLWYDETLYAELLGKPRGFQQQSNFYPGFQGRLKYNAFCELQTYHDQLVELLEETKREKNSYYVFLKYK\n",
      "RQVNECEAIMEHCSDCFDFSLSVPFTCGVNFGDSLEDLEILRKSTLKLINVCGDSPKVHSYPGKQDHLWI\n",
      "IIEMISSKVNFIKNNEAVRVKISLYGLEHIFFDAAKNLVWKERTQSFSKKYSQKKDEERLLRVNKCAFSK\n",
      "LQKIYDTLSKDLNNEPISPIGLEEDTIIASRKSDHPINEATISIENSKFNSNLLAHPDICCISEILDQAE\n",
      "FADLKKLQDLTLRCTDHLEILKKYFQMLQDNNMDNIFITEENVLDVVINHSHEAIILKPEAIEMYIEIVM\n",
      "VSETIHFLKNSIAKKLDKQRFRGMLWFDLSLLPELVQCQEKMASFSFLKDNSTDVCLWKVIETAVSELKK\n",
      "DLDIICKYNEAVNCSYAIHLLSRELQELSEIKKLLKKSKYFISTYIDFVPYIASINYGSTVTELEYNYNQ\n",
      "FSTLLKNVMSAPRKDLGKMAHIRKVMKTIEHMKMICTKNAELTISFFLCQMLYNRRKILQLKRKEKMNIH\n",
      "IVKPGENNNKFSISTMLPPVSECINKNISNSSKKRPSTVDKCEDSQEQQQDTTVSSCKKLKVDMKDVTKI\n",
      "NREKATFKHPRTTGSHPKSENKIVPSSCDSLKRNHLTPKKVEMQRSLPGSLLPLENPKDTCASKSESKID\n",
      "LTVSSDHFSGQQENLNSMKKRNVNFSAAETKSDKKDCAAFAICDQKSVHGTFSPDHGTLLQKFLKNSPDP\n",
      "TQKSCLSDINPETDVSLVPDASVLSKPIFCFVKDVHPDLEMNDTVFELQDNDIVNSSIKNSSCMTSPEPI\n",
      "CIQNKIPTLQINKLQPTETESEDKYMKDTLNPNTVHTFGASGHITLNVNQGAEYSLSEQQNDKNSKVLMQ\n",
      "NAATYWNELPQSACNPTYNSSEHLFGTSYPYSAWCVYQYSNSNGNAITQTYQGITSYEVQPSPSGLLTTV\n",
      "ASTAQGTHSNLLYSQYFTYFAGEPQANGFVPVNGYFQSQIPASNFRQPIFSQYASHQPLPQATYPYLPNR\n",
      "FVPPEVPWVYAPWHQESFHPGH\n",
      "\n",
      "\n"
     ]
    },
    {
     "name": "stderr",
     "output_type": "stream",
     "text": [
      "\r",
      " 96%|█████████▌| 487/508 [03:15<00:14,  1.48it/s]"
     ]
    },
    {
     "name": "stdout",
     "output_type": "stream",
     "text": [
      ">NP_001337134 [Homo sapiens]\n",
      "MGNREMEELIPLVNRLQDAFSALGQSCLLELPQIAVVGGQSAGKSSVLENFVGRDFLPRGSGIVTRRPLV\n",
      "LQLVTSKAEYAEFLHCKGKKFTDFDEVRLEIEAETDRVTGMNKGISSIPINLRVYSPHVLNLTLIDLPGI\n",
      "TKVPVGDQPPDIEYQIREMIMQFITRENCLILAVTPANTDLANSDALKLAKEVDPQGLRTIGVITKLDLM\n",
      "DEGTDARDVLENKLLPLRRGYVGVVNRSQKDIDGKKDIKAAMLAERKFFLSHPAYRHIADRMGTPHLQKV\n",
      "LNQQLTNHIRDTLPNFRNKLQGQLLSIEHEVEAYKNFKPEDPTRKTKALLQMVQQFAVDFEKRIEGSGDQ\n",
      "VDTLELSGGAKINRIFHERFPFEIVKMEFNEKELRREISYAIKNIHGIRTGLFTPDMAFEAIVKKQIVKL\n",
      "KGPSLKSVDLVIQELINTVKKCTKKLANFPRLCEETERIVANHIREREGKTKDQVLLLIDIQVSYINTNH\n",
      "EDFIGFANAQQRSSQVHKKTTVGNQGTNLPPSRQIVIRKGWLTISNIGIMKGGSKGYWFVLTAESLSWYK\n",
      "DDENI\n",
      "\n",
      "\n"
     ]
    },
    {
     "name": "stderr",
     "output_type": "stream",
     "text": [
      "\r",
      " 96%|█████████▌| 488/508 [03:16<00:13,  1.48it/s]"
     ]
    },
    {
     "name": "stdout",
     "output_type": "stream",
     "text": [
      ">NP_001337165 [Homo sapiens]\n",
      "MADAAPQLGKRKRELDVEEAHAASTEEKEAGVGNGTCAPVRLPFSGFRLQKVLRESARDKIIFLHGKVPG\n",
      "GNPEVNEASGDGDGEDAVVILEKTPFQVEQVAQLLTGSPELQLQFSNDIYSTYHLFPPRQLNDVKTTVVY\n",
      "PATEKHLQKYLRQDLRLIRETGDDYRNITLPHLESQSLSIQWVYNILDKKAEADRIVFENPDPSDGFVLI\n",
      "PDLKWNQQQLDDLYLIAICHRRGIRSLRDLTPEHLPLLRNILHQGQEAILQRYRMKGDHLRVYLHYLPSY\n",
      "YHLHVHFTALGFEAPGSGVERAHLLAEVIENLECDPRHYQQRTLTFALRADDPLLKLLQEAQQS\n",
      "\n",
      "\n"
     ]
    },
    {
     "name": "stderr",
     "output_type": "stream",
     "text": [
      "\r",
      " 96%|█████████▋| 489/508 [03:16<00:12,  1.48it/s]"
     ]
    },
    {
     "name": "stdout",
     "output_type": "stream",
     "text": [
      ">NP_001337268 [Homo sapiens]\n",
      "MSFEILNPLGQDMVIQALQKTNNRSIEAAIEFISKMSYQDPRREQMAAAAARPINASMKPGNVQQSVNRK\n",
      "QSWKGSKESLVPQRHGPPLGESVAYHSESPNSQTDVGRPLSGSGISAFVQAHPSNGQRVNPPPPPQVRSV\n",
      "TPPPPPRGQTPPPRGTTPPPPSWEPNSQTKRYSGNMEYVISRISPVPPGAWQEGYPPPPLNTSPMNPPNQ\n",
      "GQRGISSVPVGRQPIIMQSSSKFNFPSGRPGMQNGTGQTDFMIHQNVVPAGTVNRQPPPPYPLTAANGQS\n",
      "PSALQTGGSAAPSSYTNGSIPQSMMVPNRNSHNMELYNISVPGLQTNWPQSSSAPAQSSPSSGHEIPTWQ\n",
      "PNIPVRSNSFNNPLGNRASHSANSQPSATTVTAITPAPIQQPVKSMRVLKPELQTALAPTHPSWIPQPIQ\n",
      "TVQPSPFPEGTASNVTVMPPVAEAPNYQGPPPPYPKHLLHQNPSVPPYESISKPSKEDQPSLPKEDESEK\n",
      "SYENVDSGDKEKKQITTSPITVRKNKKDEERRESRIQSYSPQAFKFFMEQHVENVLKSHQQRLHRKKQLE\n",
      "NEMMRVGLSQDAQDQMRKMLCQKESNYIRLKRAKMDKSMFVKIKTLGIGAFGEVCLARKVDTKALYATKT\n",
      "LRKKDVLLRNQVAHVKAERDILAEADNEWVVRLYYSFQDKDNLYFVMDYIPGGDMMSLLIRMGIFPESLA\n",
      "RFYIAELTCAVESVHKMGFIHRDIKPDNILIDRDGHIKLTDFGLCTGFRWTHDSKYYQSGDHPRQDSMDF\n",
      "SNEWGDPSSCRCGDRLKPLERRAARQHQRCLAHSLVGTPNYIAPEVLLRTGYTQLCDWWSVGVILFEMLV\n",
      "GQPPFLAQTPLETQMKPGMVAHTCNPSALEGHSRKNTGTQEFEIGLGNIVINWQTSLHIPPQAKLSPEAS\n",
      "DLIIKLCRGPEDRLGKNGADEIKAHPFFKTIDFSSDLRQQSASYIPKITHPTDTSNFDPVDPDKLWSDDN\n",
      "EEENVNDTLNGWYKNGKHPEHAFYEFTFRRFFDDNGYPYNYPKPIEYEYINSQGSEQQSDEDDQNTGSEI\n",
      "KNRDLVYV\n",
      "\n",
      "\n"
     ]
    },
    {
     "name": "stderr",
     "output_type": "stream",
     "text": [
      "\r",
      " 96%|█████████▋| 490/508 [03:17<00:12,  1.47it/s]"
     ]
    },
    {
     "name": "stdout",
     "output_type": "stream",
     "text": [
      ">NP_001337440 [Homo sapiens]\n",
      "MQFGLLGTGFQLFGYEEKLQSNPLQHLFEVYVQVNKEAADDKSVAKAAQEFFQRLELGDVQALSLWQKFR\n",
      "DLSIEEYIRVYKRLGVYFDEYSGESFYREKSQEVLKLLESKGLLLKTIKGTAVVDLSGNGDPSSICTVMR\n",
      "SDGTSLYATRDLAAAIDRMDKYNFDTMIYVTDKGQKKHFQQVFQMLKIMGYDWAERCQHVPFGVVQGMKT\n",
      "RRGDVTFLEDVLNEIQLRMLQNMASIKTTKELKNPQETAERVGLAALIIQDFKGLLLSDYKFSWDRVFQS\n",
      "RGDTGVFLQYTHARLHSLEETFGCGYLNDFNTACLQEPQSVSILQHLLRFDEVLYKSSQDFQPRHIVSYL\n",
      "LTLSHLAAVAHKTLQIKDSPPEVAGARLHLFKAVRSVLANGMKLLGITPVCRM\n",
      "\n",
      "\n"
     ]
    },
    {
     "name": "stderr",
     "output_type": "stream",
     "text": [
      "\r",
      " 97%|█████████▋| 491/508 [03:18<00:11,  1.47it/s]"
     ]
    },
    {
     "name": "stdout",
     "output_type": "stream",
     "text": [
      ">NP_001337461 [Homo sapiens]\n",
      "MVPWVRTMGQKLKQRLRLDVGREICRQYPLFCFLLLCLSAASLLLNRLTEVPPWWCWIKSGRILWITRYI\n",
      "HILMIFWSFVAGVVTFYCSLGPDSLLPNIFFTIKYKPKQLGLQELFPQGHSCAVCGKVKCKRHRPSLLLE\n",
      "NYQPWLDLKISSKVDASLSEVLELVLENFVYPWYRDVTDDESFVDELRITLRFFASVLIRRIHKVDIPSI\n",
      "ITKKLLKAAMKHIEVIVKARQKVKNTEFLQQAALEEYGPELHVALRSRRDELHYLRKLTELLFPYILPPK\n",
      "ATDCRSLTLLIREILSGSVFLPSLDFLADPDTVNHLLIIFIDDSPPEKATEPASPLVPFLQKFAEPRNKK\n",
      "PSVLKLELKQIREQQDLLFRFMNFLKQEGAVHVLQFCLTVEEFNDRILRPELSNDEMLSLHEELQKIYKT\n",
      "YCLDESIDKIRFDPFIVEEIQRIAEGPYIDVVKLQTMRCLFEAYEHVLSLLENVFTPMFCHSDEYFRQLL\n",
      "RGAESPTRNSKLNRGSLSLDDFRNTQKRGESFGISRIGSKIKGVFKSTTMEGAMLPNYGVAEGEDDFIEE\n",
      "GIVVMEDDSPVEAVSTPNTPRNLAAWKISIPYVDFFEDPSSERKEKKERIPVFCIDVERNDRRAVGHEPE\n",
      "HWSVYRRYLEFYVLESKLTEFHGAFPDAQLPSKRIIGPKNYEFLKSKREEFQEYLQKLLQHPELSNSQLL\n",
      "ADFLSPNGGETQFLDKILPDVNLGKIIKSVPGKLMKEKGQHLEPFIMNFINSCESPKPKPSRPELTILSP\n",
      "TSENNKKLFNDLFKNNANRAENTERKQNQNYFMEVMTVEGVYDYLMYVGRVVFQVPDWLHHLLMGTRILF\n",
      "KNTLEMYTDYYLQCKLEQLFQEHRLVSLITLLRDAIFCENTEPRSLQDKQKGAKQTFEEMMNYIPDLLVK\n",
      "CIGEETKYESIRLLFDGLQQPVLNKQLTYVLLDIVIQELFPELNKVQKEVTSVTSWM\n",
      "\n",
      "\n"
     ]
    },
    {
     "name": "stderr",
     "output_type": "stream",
     "text": [
      "\r",
      " 97%|█████████▋| 492/508 [03:18<00:10,  1.47it/s]"
     ]
    },
    {
     "name": "stdout",
     "output_type": "stream",
     "text": [
      ">NP_001337973 [Homo sapiens]\n",
      "MAQGFAVGFDPLGLGDLSSGSLSSLSSRGHLGSDSGSTATRYLLRKQQRLLNGPPRGIRASSPMGRVILI\n",
      "NSPIEANSDESDIIHSVRVEKSPAGRLGFSVRGGSEHGLGIFVSKVEEGSSAERAGLCVGDKITEVNGLS\n",
      "LESTTMGSAVKVLTSSSRLHMMVRRMGRVPGIKFSKEKTTWVDVVNRRLVVEKCGSTPSDTSSEDGVRRI\n",
      "VHLYTTSDDFCLGFNIRGGKEFGLGIYVSKVDHGGLAEENGIKVGDQVLAANGVRFDDISHSQAVEVLKG\n",
      "QTHIMLTIKETGRYPAYKEMVSEYCWLDRLSNGVLQQLSPASESSSSVSSCASSAPYSSGSLPSDRMDIC\n",
      "LGQEEPGSRGPGWGRADTAMQTEPDAGGRVETWCSVRPTVILRDTAIRSDGPHPGRRLDSALSESPKTAL\n",
      "LLALSRPRPPITRSQSYLTLWAPPLLPRVCRGEAAAEEGEVGVPWGEGCPAALQDADEPLLQGRAAGEAS\n",
      "AGRAQRGLDTGQREPGQNLPSPGHRERDGGFTLLPRLVSNSWTEAIYPP\n",
      "\n",
      "\n"
     ]
    },
    {
     "name": "stderr",
     "output_type": "stream",
     "text": [
      "\r",
      " 97%|█████████▋| 493/508 [03:19<00:10,  1.47it/s]"
     ]
    },
    {
     "name": "stdout",
     "output_type": "stream",
     "text": [
      ">NP_001338456 [Homo sapiens]\n",
      "MSTCCWCTPGGASTIDFLKRYASNTPSGEFQTADEDLCYCLECVAEYHKARDELPFLHEVLWELETLRLI\n",
      "NHFEKSMKAEIGDDDELYIVDNNGEMPLFDITGQDFENKLRVPLLEILKYPYLLLHERVNELCVEALCRM\n",
      "EQANCSFQVFDKHPGIYLFLVHPNEMVRRWAILTARNLGKVDRDDYYDLQEVLLCLFKVIELGLLESPDI\n",
      "YTSSVLEKGKLILLPSHMYDTTNYKSYWLGICMLLTILEEQAMDSLLLGSDKQNDFMQSILHTMEREADD\n",
      "DSVDPFWPALHCFMVILDRLGSKVWGQLMDPIVAFQTIINNASYNREIRHIRNSSVRTKLEPESYLDDMV\n",
      "TCSQIVYNYNPEKTKKDSGWRTAICPDYCPNMYEEMETLASVLQSDIGQDMRVHNSTFLWFIPFVQSLMD\n",
      "LKDLGVAYIAQVVNHLYSEVKEVLNQTDAVCDKVTEFFLLILVSVIELHRNKKCLHLLWVSSQQWVEAVV\n",
      "KCAKLPTTAFTRSSEKSSGNCSKGTAMISSLSLHSMPSNSVQLAYVQLIRSLLKEGYQLGQQSLCKRFWD\n",
      "KLNLFLRGNLSLGWQLTSQETHELQSCLKQIIRNIKFKAPPCNTFVDLTSACKISPASYNKEESEQMGKT\n",
      "SRKDMHCLEASSPTFSKEPMKVQDSVLIKADNTIEGDNNEQNYIKDVKLEDHLLAGSCLKQSSKNIFTER\n",
      "AEDQIKISTRKQKSVKEISSYTPKDCTSRNGPERGCDRGIIVSTRLLTDSSTDALEKVSTSNEDFSLKDD\n",
      "ALAKTSKRKTKVQKDEICAKLSHVIKKQHRKSTLVDNTINLDENLTVSNIESFYSRKDTGVQKGDGFIHN\n",
      "LSLDPSGVLDDKNGEQKSQNNVLPKEKQLKNEELVIFSFHENNCKIQEFHVDGKELIPFTEMTNASEKKS\n",
      "SPFKDLMTVPESRDEEMSNSTSVIYSNLTREQAPDISPKSDTLTDSQIDRDLHKLSLLAQASVITFPSDS\n",
      "PQNSSQLQRKVKEDKRCFTANQNNVGDTSRGQVIIISDSDDDDDERILSLEKLTKQDKICLEREHPEQHV\n",
      "STVNSKEEKNPVKEEKTETLFQFEESDSQCFEFESSSEVFSVWQDHPDDNNSVQDGEKKCLAPIANTTNG\n",
      "QGCTDYVSEVVKKGAEGIEEHTRPRSISVEEFCEIEVKKPKRKRSEKPMAEDPVRPSSSVRNEGQSDTNK\n",
      "RDLVGNDFKSIDRRTSTPNSRIQRATTVSQKKSSKLCTCTEPIRKVPVSKTPKKTHSDAKKGQNRSSNYL\n",
      "SCRTTPAIVPPKKFRQCPEPTSTAEKLGLKKGPRKAYELSQRSLDYVAQLRDHGKTVGVVDTRKKTKLIS\n",
      "PQNLSVRNNKKLLTSQELQMQRQIRPKSQKNRRRLSDCESTDVKRAGSHTAQNSDIFVPESDRSDYNCTG\n",
      "GTEVLANSNRKQLIKCMPSEPETIKAKHGSPATDDACPLNQCDSVVLNGTVPTNEVIVSTSEDPLGGGDP\n",
      "TARHIEMAALKEGEPDSSSDAEEDNLFLTQNDPEDMDLCSQMENDNYKLIELIHGKDTVEVEEDSVSRPQ\n",
      "LESLSGTKCKYKDCLETTKNQGEYCPKHSEVKAADEDVFRKPGLPPPASKPLRPTTKIFSSKSTSRIAGL\n",
      "SKSLETSSALSPSLKNKSKGIQSILKVPQPVPLIAQKPVGEMKNSCNVLHPQSPNNSNRQGCKVPFGESK\n",
      "YFPSSSPVNILLSSQSVSDTFVKEVLKWKYEMFLNFGQCGPPASLCQSISRPVPVRFHNYGDYFNVFFPL\n",
      "MVLNTFETVAQEWLNSPNRENFYQLQVRKFPADYIKYWEFAVYLEECELAKQLYPKENDLVFLAPERINE\n",
      "EKKDTERNDIQDLHEYHSGYVHKFRRTSVMRNGKTECYLSIQTQENFPANLNELVNCIVISSLVTTQRKL\n",
      "KAMSLLGSRNQLARAVLNPNPMDFCTKDLLTTTSERIIAYLRDFNEDQKKAIETAYAMVKHSPSVAKICL\n",
      "IHGPPGTGKSKTIVGLLYRLLTENQRKGHSDENSNAKIKQNRVLVCAPSNAAVDELMKKIILEFKEKCKD\n",
      "KKNPLGNCGDINLVRLGPEKSINSEVLKFSLDSQVNHRMKKELPSHVQAMHKRKEFLDYQLDELSRQRAL\n",
      "CRGGREIQRQELDENISKVSKERQELASKIKEVQGRPQKTQSIIILESHIICCTLSTSGGLLLESAFRGQ\n",
      "GGVPFSCVIVDEAGQSCEIETLTPLIHRCNKLILVGDPKQLPPTVISMKAQEYGYDQSMMARFCRLLEEN\n",
      "VEHNMISRLPILQLTVQYRMHPDICLFPSNYVYNRNLKTNRQTEAIRCSSDWPFQPYLVFDVGDGSERRD\n",
      "NDSYINVQEIKLVMEIIKLIKDKRKDVSFRNIGIITHYKAQKTMIQKDLDKEFDRKGPAEVDTVDAFQGR\n",
      "QKDCVIVTCVRANSIQGSIGFLASLQRLNVTITRAKYSLFILGHLRTLMENQHWNQLIQDAQKRGAIIKT\n",
      "CDKNYRHDAVKILKLKPVLQRSLTHPPTIAPEGSRPQGGLPSSKLDSGFAKTSVAASLYHTPSDSKEITL\n",
      "TVTSKDPERPPVHDQLQDPRLLKRMGIEVKGGIFLWDPQPSSPQHPGATPPTGEPGFPVVHQDLSHIQQP\n",
      "AAVVAALSSHKPPVRGEPPAASPEASTCQSKCDDPEEELCHRREARAFSEGEQEKCGSETHHTRRNSRWD\n",
      "KRTLEQEDSSSKKRKLL\n",
      "\n",
      "\n"
     ]
    },
    {
     "name": "stderr",
     "output_type": "stream",
     "text": [
      "\r",
      " 97%|█████████▋| 494/508 [03:20<00:09,  1.47it/s]"
     ]
    },
    {
     "name": "stdout",
     "output_type": "stream",
     "text": [
      ">NP_001338585 [Homo sapiens]\n",
      "MKLLLLHPAFQSCLLLTLLGLWRTTPEAHASSLGAPAISAASFLQDLIHRYGEGDSLTLQQLKALLNHLD\n",
      "VGVGRGNVTQHVQGHRNLSTCFSSGDLFTAHNFSEQSRIGSSELQEFCPTILQQLDSRACTSENQENEEN\n",
      "EQTEEGRPSAVEVWGYGLLCVTVISLCSLLGASVVPFMKKTFYKRLLLYFIALAIGTLYSNALFQLIPEA\n",
      "FGFNPLEDYYVSKSAVVFGGFYLFFFTEKILKILLKQKNEHHHGHSHYASESLPSKKDQEEGVMEKLQNG\n",
      "DLDHMIPQHCSSELDGKAPMVDEKVIVGSLSVQDLQASQSACYWLKGVRYSDIGTLAWMITLSDGLHNFI\n",
      "DGLAIGASFTVSVFQGISTSVAILCEEFPHELGDFVILLNAGMSIQQALFFNFLSACCCYLGLAFGILAG\n",
      "SHFSANWIFALAGGMFLYISLADMFPEMNEVCQEDERKGSILIPFIIQNLGLLTGFTIMVVLTMYSGQIQ\n",
      "IG\n",
      "\n",
      "\n"
     ]
    },
    {
     "name": "stderr",
     "output_type": "stream",
     "text": [
      "\r",
      " 97%|█████████▋| 495/508 [03:20<00:08,  1.47it/s]"
     ]
    },
    {
     "name": "stdout",
     "output_type": "stream",
     "text": [
      ">NP_001340037 [Homo sapiens]\n",
      "MEALLEGIQNRGHGGGFLTSCEAELQELMKQIDIMVAHKKSEWEGRTHALETCLKIREQELKSLRSQLDV\n",
      "THKEVGMLHQQVEEHEKIKQEMTMEYKQELKKLHEELCILKRSYEKLQKKQMREFRGNTKNHREDRSEIE\n",
      "RLTAKIEEFRQKSLDWEKQRLIYQQQVSSLEAQRKALAEQSEIIQAQLVNRKQKLESVELSSQSEIQHLS\n",
      "SKLERANDTICANELEIERLTMRVNDLVGTSMTVLQEQQQKEEKLRESEKLLEALQEEKRELKAALQSQE\n",
      "NLIHEARIQKEKLQEKVKATNTQHAVEAIRPREESLAEKKYTSQGQGDLDSVLSQLNFTHTSEDLLQAEV\n",
      "TCLEGSLESVSATCKQLSQELMEKYEELKRMEAHNNEYKAEIKKLKEQILQGEQSYSSALEGMKMEISHL\n",
      "TQELHQRDITIASTKGSSSDMEKRLRAEMQKAEDKAVEHKEILDQLESLKLENRHLSEMVMKLELGLHEA\n",
      "KEISLADLQENYIEALNKLVSENQQLQKDLMNTKSQLEISTQMCKKQNDRIFKPTHSRTTEFKNTEFKPT\n",
      "HGQHRHDGIKTEHYKTDLHSPRGQASDSINPMSRVLSPLSPQISPCSSTRSLTSYSLCKTHSLPSALDTN\n",
      "EANFSDTMSESMNDQEEFISSCSLPVSPLGSIATRFLEEEELRSHHILERLDAHIEELKRESEKTVRQFT\n",
      "ALK\n",
      "\n",
      "\n"
     ]
    },
    {
     "name": "stderr",
     "output_type": "stream",
     "text": [
      "\r",
      " 98%|█████████▊| 496/508 [03:21<00:08,  1.48it/s]"
     ]
    },
    {
     "name": "stdout",
     "output_type": "stream",
     "text": [
      ">NP_001341946 [Homo sapiens]\n",
      "MITNVAFLVSLRTEATSAKPPLGTGRWILMPTMSTDSRVSPLSGLMLSRVSSINVSVNAVQTVVRQGENI\n",
      "TLMCIVIGNEVVNFEWTYPRKESGRLVEPVTDFLLDMPYHIRSILHIPSAELEDSGTYTCNVTESVNDHQ\n",
      "DEKAINITVVESGYVRLLGEVGTLQFAELHRSRTLQVVFEAYPPPTVLWFKDNRTLGDSSAGEIALSTRN\n",
      "VSETRYVSELTLVRVKVAEAGHYTMRAFHEDAEVQLSFQLQINVPVRVLELSESHPDSGEQTVRCRGRGM\n",
      "PQPNIIWSACRDLKRCPRELPPTLLGNSSEEESQLETNVTYWEEEQEFEVVSTLRLQHVDRPLSVRCTLR\n",
      "NAVGQDTQEVIVVPHSLPFKVVVISAILALVVLTIISLIILIMLWQKKPRYEIRWKVIESVSSDGHEYIY\n",
      "VDPMQLPYDSTWELPRDQLVLGRTLGSGAFGQVVEATAHGLSHSQATMKVAVKMLKSTARSSEKQALMSE\n",
      "LKIMSHLGPHLNVVNLLGACTKGGPIYIITEYCRYGDLVDYLHRNKHTFLQHHSDKRRPPSAELYSNALP\n",
      "VGLPLPSHVSLTGESDGGYMDMSKDESVDYVPMLDMKGDVKYADIESSNYMAPYDNYVPSAPERTCRATL\n",
      "INESPVLSYMDLVGFSYQVANGMEFLASKNCVHRDLAARNVLICEGKLVKICDFGLARDIMRDSNYISKG\n",
      "STFLPLKWMAPESIFNSLYTTLSDVWSFGILLWEIFTLGGTPYPELPMNEQFYNAIKRGYRMAQPAHASD\n",
      "EIYEIMQKCWEEKFEIRPPFSQLVLLLERLLGEGYKKKYQQVDEEFLRSDHPAILRSQARLPGFHGLRSP\n",
      "LDTSSVLYTAVQPNEGDNDYIIPLPDPKPEVADEGPLEGSPSLASSTLNEVNTSSTISCDSPLEPQDEPE\n",
      "PEPQLELQVEPEPELEQLPDSGCPAPRAEAEDSFL\n",
      "\n",
      "\n"
     ]
    },
    {
     "name": "stderr",
     "output_type": "stream",
     "text": [
      "\r",
      " 98%|█████████▊| 497/508 [03:22<00:07,  1.48it/s]"
     ]
    },
    {
     "name": "stdout",
     "output_type": "stream",
     "text": [
      ">NP_001342365 [Homo sapiens]\n",
      "MTSATEFENVGNQPPYSRINARWDAPDDELDNDNSSARLFERSRIKALADEREVVQKKTFTKWVNSHLAR\n",
      "VSCRITDLYKDLRDGRMLIKLLEVLSGEMLPKPTKGKMRIHCLENVDKALQFLKEQRVHLENMGSHDIVD\n",
      "GNHRLVLGLIWTIILRFQIQDIVVQTQEGRETRSAKDALLLWCQMKTAGYPHVNVTNFTSSWKDGLAFNA\n",
      "LIHKHRPDLIDFDKLKDSNARHNLEHAFNVAERQLGIIPLLDPEDVFTENPDEKSIITYVVAFYHYFSKM\n",
      "KVLAVEGKRVGKVIDHAIETEKMIEKYSGLASDLLTWIEQTITVLNSRKFANSLTGVQQQLQAFSTYRTV\n",
      "EKPPKFQEKGNLEVLLFTIQSRMRANNQKVYTPHDGKLVSDINRAWESLEEAEYRRELALRNELIRQEKL\n",
      "EQLARRFDRKAAMRETWLSENQRLVAQDNFGYDLAAVEAAKKKHEAIETDTAAYEERVRALEDLAQELEK\n",
      "ENYHDQKRITARKDNILRLWSYLQELLQSRRQRLETTLALQKLFQDMLHSIDWMDEIKAHLLSAEFGKHL\n",
      "LEVEDLLQKHKLMEADIAIQGDKVKAITAATLKFTEGKGYQPCDPQVIQDRISHLEQCFEELSNMAAGRK\n",
      "AQLEQSKRLWKFFWEMDEAESWIKEKEQIYSSLDYGKDLTSVLILQRKHKAFEDELRGLDAHLEQIFQEA\n",
      "HGMVARKQFGHPQIEARIKEVSAQWDQLKDLAAFCKKNLQDAENFFQFQGDADDLKAWLQDAHRLLSGED\n",
      "VGQDEGATRALGKKHKDFLEELEESRGVMEHLEQQAQGFPEEFRDSPDVTHRLQALRELYQQVVAQADLR\n",
      "QQRLQEALDLYTVFGETDACELWMGEKEKWLAEMEMPDTLEDLEVVQHRFDILDQEMKTLMTQIDGVNLA\n",
      "ANSLVESGHPRSREVKQYQDHLNTRWQAFQTLVSERREAVDSALRVHNYCVDCEETSKWITDKTKVVEST\n",
      "KDLGRDLAGIIAIQRKLSGLERDVAAIQARVDALERESQQLMDSHPEQKEDIGQRQKHLEELWQGLQQSL\n",
      "QGQEDLLGEVSQLQAFLQDLDDFQAWLSITQKAVASEDMPESLPEAEQLLQQHAGIKDEIDGHQDSYQRV\n",
      "KESGEKVIQGQTDPEYLLLGQRLEGLDTGWNALGRMWESRSHTLAQCLGFQEFQKDAKQAEAILSNQEYT\n",
      "LAHLEPPDSLEAAEAGIRKFEDFLGSMENNRDKVLSPVDSGNKLVAEGNLYSDKIKEKVQLIEDRHRKNN\n",
      "EKAQEASVLLRDNLELQNFLQNCQELTLWINDKLLTSQDVSYDEARNLHNKWLKHQAFVAELASHEGWLE\n",
      "NIDAEGKQLMDEKPQFTALVSQKLEALHRLWDELQATTKEKTQHLSAARSSDLRLQTHADLNKWISAMED\n",
      "QLRSDDPGKDLTSVNRMLAKLKRVEDQVNVRKEELGELFAQVPSMGEEGGDADLSIEKRFLDLLEPLGRR\n",
      "KKQLESSRAKLQISRDLEDETLWVEERLPLAQSADYGTNLQTVQLFMKKNQTLQNEILGHTPRVEDVLQR\n",
      "GQQLVEAAEIDCQDLEERLGHLQSSWDRLREAAAGRLQRLRDANEAQQYYLDADEAEAWIGEQELYVISD\n",
      "EIPKDEEGAIVMLKRHLRQQRAVEDYGRNIKQLASRAQGLLSAGHPEGEQIIRLQGQVDKHYAGLKDVAE\n",
      "ERKRKLENMYHLFQLKRETDDLEQWISEKELVASSPEMGQDFDHVTLLRDKFRDFARETGAIGQERVDNV\n",
      "NAFIERLIDAGHSEAATIAEWKDGLNEMWADLLELIDTRMQLLAASYDLHRYFYTGAEILGLIDEKHREL\n",
      "PEDVGLDASTAESFHRVHTAFERELHLLGVQVQQFQDVATRLQTAYAGEKAEAIQNKEQEVSAAWQALLD\n",
      "ACAGRRTQLVDTADKFRFFSMARDLLSWMESIIRQIETQERPRDVSSVELLMKYHQGINAEIETRSKNFS\n",
      "ACLELGESLLQRQHQASEEIREKLQQVMSRRKEMNEKWEARWERLRMLLEVCQFSRDASVAEAWLIAQEP\n",
      "YLASGDFGHTVDSVEKLIKRHEAFEKSTASWAERFAALEKPTTLELKERQIAERPAEETGPQEEEGETAG\n",
      "EAPVSHHAATERTSPGEEEGTWPQNLQQPPPPGQHKDGQKSTGDERPTTEPLFKVLDTPLSEGDEPATLP\n",
      "APRDHGQSVQMEGYLGRKHDLEGPNKKASNRSWNNLYCVLRNSELTFYKDAKNLALGMPYHGEEPLALRH\n",
      "AICEIAANYKKKKHVFKLRLSNGSEWLFHGKDEEEMLSWLQGVSTAINESQSIRVKAQSLPLPSLSGPDA\n",
      "SLGKKDKEKRFSFFPKKK\n",
      "\n",
      "\n"
     ]
    },
    {
     "name": "stderr",
     "output_type": "stream",
     "text": [
      "\r",
      " 98%|█████████▊| 498/508 [03:22<00:06,  1.48it/s]"
     ]
    },
    {
     "name": "stdout",
     "output_type": "stream",
     "text": [
      ">NP_001342366 [Homo sapiens]\n",
      "MTSATEFENVGNQPPYSRINARWDAPDDELDNDNSSARLFERSRIKALADEREVVQKKTFTKWVNSHLAR\n",
      "VSCRITDLYKDLRDGRMLIKLLEVLSGEMLPKPTKGKMRIHCLENVDKALQFLKEQRVHLENMGSHDIVD\n",
      "GNHRLVLGLIWTIILRFQIQDIVVQTQEGRETRSAKDALLLWCQMKTAGYPHVNVTNFTSSWKDGLAFNA\n",
      "LIHKHRPDLIDFDKLKDSNARHNLEHAFNVAERQLGIIPLLDPEDVFTENPDEKSIITYVVAFYHYFSKM\n",
      "KVLAVEGKRVGKVIDHAIETEKMIEKYSGLASDLLTWIEQTITVLNSRKFANSLTGVQQQLQAFSTYRTV\n",
      "EKPPKFQEKGNLEVLLFTIQSRMRANNQKVYTPHDGKLVSDINRAWESLEEAEYRRELALRNELIRQEKL\n",
      "EQLARRFDRKAAMRETWLSENQRLVAQDNFGYDLAAVEAAKKKHEAIETDTAAYEERVRALEDLAQELEK\n",
      "ENYHDQKRITARKDNILRLWSYLQELLQSRRQRLETTLALQKLFQDMLHSIDWMDEIKAHLLSAEFGKHL\n",
      "LEVEDLLQKHKLMEADIAIQGDKVKAITAATLKFTEGKGYQPCDPQVIQDRISHLEQCFEELSNMAAGRK\n",
      "AQLEQSKRLWKFFWEMDEAESWIKEKEQIYSSLDYGKDLTSVLILQRKHKAFEDELRGLDAHLEQIFQEA\n",
      "HGMVARKQFGHPQIEARIKEVSAQWDQLKDLAAFCKKNLQDAENFFQFQGDADDLKAWLQDAHRLLSGED\n",
      "VGQDEGATRALGKKHKDFLEELEESRGVMEHLEQQAQGFPEEFRDSPDVTHRLQALRELYQQVVAQADLR\n",
      "QQRLQEALDLYTVFGETDACELWMGEKEKWLAEMEMPDTLEDLEVVQHRFDILDQEMKTLMTQIDGVNLA\n",
      "ANSLVESGHPRSREVKQYQDHLNTRWQAFQTLVSERREAVDSALRVHNYCVDCEETSKWITDKTKVVEST\n",
      "KDLGRDLAGIIAIQRKLSGLERDVAAIQARVDALERESQQLMDSHPEQKEDIGQRQKHLEELWQGLQQSL\n",
      "QGQEDLLGEVSQLQAFLQDLDDFQAWLSITQKAVASEDMPESLPEAEQLLQQHAGIKDEIDGHQDSYQRV\n",
      "KESGEKVIQGQTDPEYLLLGQRLEGLDTGWNALGRMWESRSHTLAQCLGFQEFQKDAKQAEAILSNQEYT\n",
      "LAHLEPPDSLEAAEAGIRKFEDFLGSMENNRDKVLSPVDSGNKLVAEGNLYSDKIKEKVQLIEDRHRKNN\n",
      "EKAQEASVLLRDNLELQNFLQNCQELTLWINDKLLTSQDVSYDEARNLHNKWLKHQAFVAELASHEGWLE\n",
      "NIDAEGKQLMDEKPQFTALVSQKLEALHRLWDELQATTKEKTQHLSAARSSDLRLQTHADLNKWISAMED\n",
      "QLRSDDPGKDLTSVNRMLAKLKRVEDQVNVRKEELGELFAQVPSMGEEGGDADLSIEKRFLDLLEPLGRR\n",
      "KKQLESSRAKLQISRDLEDETLWVEERLPLAQSADYGTNLQTVQLFMKKNQTLQNEILGHTPRVEDVLQR\n",
      "GQQLVEAAEIDCQDLEERLGHLQSSWDRLREAAAGRLQRLRDANEAQQYYLDADEAEAWIGEQELYVISD\n",
      "EIPKDEEGAIVMLKRHLRQQRAVEDYGRNIKQLASRAQGLLSAGHPEGEQIIRLQGQVDKHYAGLKDVAE\n",
      "ERKRKLENMYHLFQLKRETDDLEQWISEKELVASSPEMGQDFDHVTLLRDKFRDFARETGAIGQERVDNV\n",
      "NAFIERLIDAGHSEAATIAEWKDGLNEMWADLLELIDTRMQLLAASYDLHRYFYTGAEILGLIDEKHREL\n",
      "PEDVGLDASTAESFHRVHTAFERELHLLGVQVQQFQDVATRLQTAYAGEKAEAIQNKEQEVSAAWQALLD\n",
      "ACAGRRTQLVDTADKFRFFSMARDLLSWMESIIRQIETQERPRDVSSVELLMKYHQGINAEIETRSKNFS\n",
      "ACLELGESLLQRQHQASEEIREKLQQVMSRRKEMNEKWEARWERLRMLLEVCQFSRDASVAEAWLIAQEP\n",
      "YLASGDFGHTVDSVEKLIKRHEAFEKSTASWAERFAALEKPTTLELKERQIAERPAEETGPQEEEGETAG\n",
      "EAPVSHHAATERTSPVSLWSRLSSSWESLQPEPSHPY\n",
      "\n",
      "\n"
     ]
    },
    {
     "name": "stderr",
     "output_type": "stream",
     "text": [
      "\r",
      " 98%|█████████▊| 499/508 [03:23<00:06,  1.48it/s]"
     ]
    },
    {
     "name": "stdout",
     "output_type": "stream",
     "text": [
      ">NP_001345164 [Homo sapiens]\n",
      "MSPCGRKMGEGRQQRRAPVGKLLLLPGRRDTPHGRSGSSGARTQRSLLWLLVHVWLWAASGSSAQLFNLT\n",
      "LSVDEGLPPDTLVGDIRAGLPAAQQQEGSGFFLSEDSDDSPLLDDFHVHPDTGIIRTARRLDRERRDHYS\n",
      "FVAATLLGAVVQVEIRVNDVNDHSPRFPLDSLQLDVSELSPPGTAFRLPVAHDPDAGLFSTQGYTLVQPS\n",
      "DLPKDPAGPFFQLRYRTPGPLPSPLLPGSSSPLEPLDLVLLRRLDREEAAAHRLQIEAWDGGRPRRTGLL\n",
      "SVELRVLDENDNPPVFEQDEYRAAVREDAQPGAEVCRVRATDRDLGPNGFVRYSVRARQVPGAGSGGGAL\n",
      "GDAAYFAVEELSGVVRVWRPLDREAQAWHQLVVEARDGGAEPEVATVRVSIAVLDVNDNRPAIHVLFLTE\n",
      "GGVARVSEGARPGDYVARVSVSDADGDWEKEDEATGELGVGLGDGSISLSLEGGEGDFALLPGGPPGVFF\n",
      "LCVEGPLDRESRDLYELLLVATDAGSPPLSTEETLLLRVADLNDQPPLFSQQHYKASVSEAAAPGTVVMW\n",
      "VSASDADEAGSDHAWLRYTVVQLSAPCNLGSLQSKMVHTAECGPSFAIDSESGAISTIRTLDREVQEAVE\n",
      "LKVVAQDLGEPPLSATCLVSITVDDVNDNEPIFWRQVYNATIAEHAPVGHCFLQVTASDADSGLYGFIEY\n",
      "SLYDGFLSYEAPQAFRIDPHDGQICVSQDIDRERDPATYDLLVEAKDGGGLSAQAFVRVDLEDVNDNHPV\n",
      "FNPSTYVTSISDETQPGTEIINVLATDQDSGIYGTVAYELIPGNVSSLFTIDSTTGIIYLTLPLSHLEST\n",
      "TLSLMVSAQDGGGLTAVINADVTIHIFQTTLAPAEFERPKYTFLVYEDVPEDSPIGTVKAREPLNSSEPI\n",
      "FYRISSGDLGGKFSIHPRLGTIRTRKPLDHETQPVVVLTVQAQLGSAPACSSTEVNITVMDVNDNHPAFL\n",
      "RTSDEIRISQTTPPGTALYLARAEDRDSGRNGLIRYSIASPQPGVFAIDRALGVLFLNGSLGAGEQRELT\n",
      "LTLRAEDQGVHPQAALLVLTVVIEKREHSPSWTFEHLVYQVEVSESLSPMTQMLQTQAHPLGPQRAASPL\n",
      "RYSLEPSVDSAMFGIRPYTGWIYLRRQFDYESTQTYNFRVFAWIPEDGFLQNVSTTVIVRVWDENDNSPT\n",
      "FLHDVLFLKVEESPVPQGVIGKITAIDMDSGKNGQLLYFLLSDGKFFKMNPNTGELINWVALDREHRGHH\n",
      "EMTVLVTDRGSPPRNATMAVYVSVTDINDNRPFFPQCLPGKELHVKVLEGQPVNMLVTTVFAKDPDEGNN\n",
      "AEVTYSVSSEDSSDHFKIDANNGEIRTTTILSYDYRPSYRMSVIATDQGVPPLQGQAVVNIQVIPLSKGR\n",
      "AIMSQNIRHLIIPENLKPTKIMSLIKSSDHLQQHYNGKLHFSIVADDKDGHFEIDSSTGDLFLSKELDYE\n",
      "TTSHYLFRVITTDHSKNLSLSSTVFLSIDVEDQNDHSPSFQDELIVISVEENVPIGTLVYVFNAKDDDGS\n",
      "FLNSRIQYYIESHNPGTNPFLIHPSFGTLVTVSRLDRESIPTVILTVTASDQAVNVTDRRLRSLTAQIVI\n",
      "LDVNDHNPTFISFPNAHVKEDVTVGSLVHHITAHDPDEGRNGKVTYSILSGNENMTFMLDESSGLLTTTC\n",
      "PLDYEMKTQHILTVLALDDGTPALSSSQTLTVTVLDVNDEAPVFKQHLYEASVKENQNPGEFVTRVEALD\n",
      "RDSGVNSKLQFEIMPGASFELFEINSDTGEVVTTTILDREIQEVFTLRVLVRDGGFPSLSSTTTILCTVE\n",
      "DENDHAPEFIVSSYDIEVLENQEPEVVYTVLASDMDAGNNRAVEYHIIDGNTDECFTINEMSGELSTTRA\n",
      "LDREQISNFTLVILCSDLGDPPRSSVIHLQVRVLDANDHSPSFPTLYYQSSVREDAEVGTVVLVLSAVDK\n",
      "DEGLNGQTEYFLTDEASGAFTIDPMSGTLKTSNTLDREARSQHTFSAVARDCSIQGSRSTTVIIKVYVTD\n",
      "VNDNDPVLEQNPFDVFLSPESPTNQTTVIVRADDLDLGPNGTVVFSFAETQSMFSIDKYTGEIQFQQNPS\n",
      "SEYFPIWLQLKVTDQGIPARTTTGLLVIHMEGEDVKISFSHHLYKGLVTENCEAGTSIVTVKAFAPDSIQ\n",
      "DSMKYSIFSGNEDGVLSLCSKSGQLTVKEPKFLDFEVRNEVQLIVLAESSGHRAYCKVAVLIQDENDNSP\n",
      "CFEQSIYQASVSESQLYNAHVIQVFATDLDSGLNGLIEYSILSGNQEEAFQIDALSGVITTKAILDYELT\n",
      "SSYSLIVQATDKGMPRLSNTTVIKVQVTDINDNAPAFLPSEAVEITEDSLPGVIVTHVSVHDVDLNSAFI\n",
      "FSFAKESNPGTKFAIDQNTGVVVLVKTLDFEEMTEYELLIQISDSVHYTEGALVVRVLDVNDNPPVFSQD\n",
      "FYQVTVPESIPVGYSVLTLSATDLESNENISYRILSSSKEFSIDPKNGTIFTISPVLLLDTISTTQFLVE\n",
      "ASDGGNPDLRALTLVEIGIEDMNNYAPEFTVKSYNLSLSEDALVGSTLVTFSNIDHDWTRENTYVEYSII\n",
      "SGNSQNNFHVETKFFHSEYPYKQVGYLVLLHSLDREASASHELVILASDSGCPPLSSTAVISIQVLDVND\n",
      "NPPNFSSLSYHTHVKESTPLGSHITVVSANDRDTGSHAEIIYNIISGNEKGHFYLEENTGVLYLIKPLDY\n",
      "EKMTKFTLTVQASDAEKKHFSFAVVFVSVLDDNDHAPQFMFSSFSCIVPENLPISSTICSINALDFDAGP\n",
      "YGELTYSIVSPCFLTHGMSYDHDLFLIDPLTGDIHAKQILDYENGNKYCLTVQAKDKGDATASLVVWVDI\n",
      "EGIDEFEPIFTQDQYFFTLPEKNKDRQLIGRVEASDADAGIDGVILYSLGTSSPFFSVNKTNGNIYLIRA\n",
      "LPLIKSQLNKEDTLEMKIIAHSPKSDSKFASCTVFVNVSFSSEGTPLAVFASSFSISLVVSFLVFLILIC\n",
      "ILIVMILRHKQKDTINNYEEKKTSSLDADLRVTRDASVLKAFQKTDDCSNEVVPVDATPEWLSLISIMEK\n",
      "DIVNLYRHSNSSGHCSVEGETAEDKEIQRINEHPYRKCSDSALSDHESRVPDSGIPRDSDQLSCLSGETD\n",
      "VMVTAETAEASQTFGEGDQGEGCSTTCAQNNVLPQTVQKREAKESILADVRKESVFISGDQEVRCAALST\n",
      "QTTSDHDGKDNYHWNYLLSWEPKFQPLASVFNDIAKLKDEHLHMPGIPKEKKSFVFPPPLITAVAQPGIK\n",
      "AVPPRMPAVNLGQVPPKHPRSPIPYHLGSLPEGMTPNFSPSLSLLTMQPPALSPLLREGELLGTHISGTC\n",
      "HELKAEDEVQI\n",
      "\n",
      "\n"
     ]
    },
    {
     "name": "stderr",
     "output_type": "stream",
     "text": [
      "\r",
      " 98%|█████████▊| 500/508 [03:24<00:05,  1.44it/s]"
     ]
    },
    {
     "name": "stdout",
     "output_type": "stream",
     "text": [
      ">NP_001349802 [Homo sapiens]\n",
      "MVDTESPLCPLSPLEAGDLESPLSEEFLQEMGNIQEISQSIGEDSSGSFGFTEYQYLGSCPGSDGSVITD\n",
      "TLSPASSPSSVTYPVVPGSVDESPSGALNIECRICGDKASGYHYGVHACEGCKGFFRRTIRLKLVYDKCD\n",
      "RSCKIQKKNRNKCQYCRFHKCLSVGMSHNAIRFGRMPRSEKAKLKAEILTCEHDIEDSETADLKSLAKRI\n",
      "YEAYLKNFNMNKVKARVILSGKASNNPPFVIHDMETLCMAEKTLVAKLVANGIQNKEAEVRIFHCCQCTS\n",
      "VETVTELTEFAKAIPGFANLDLNDQVTLLKYGVYEAIFAMLSSVMNKDGMLVAYGNGFITREFLKSLRKP\n",
      "FCDIMEPKFDFAMKFNALELDDSDISLFVAAIICCGDRPGLLNVGHIEKMQEGIVHVLRLHLQSNHPDDI\n",
      "FLFPKLLQKMADLRQLVTEHAQLVQIIKKTESDAALHPLLQEIYRDMY\n",
      "\n",
      "\n"
     ]
    },
    {
     "name": "stderr",
     "output_type": "stream",
     "text": [
      "\r",
      " 99%|█████████▊| 501/508 [03:24<00:04,  1.44it/s]"
     ]
    },
    {
     "name": "stdout",
     "output_type": "stream",
     "text": [
      ">NP_001351100 [Homo sapiens]\n",
      "MPLGRLAGSARSEEGSEAFLEGMVDWELSRLQRQCKVMEGERRAYSKEVHQRINKQLEEIRRLEEVRGDL\n",
      "QVQISAAQNQVKRLRDSQRLENMDRLLKGRAQVQAEIEELQEQTRALDKQIQEWETRIFTHSKNVRSPGF\n",
      "ILDQKVKIRRRIRILENQLDRVTCHFDNQLVRNAALREELDLLRIDRNRYLNVDRKLKKEIHHLHHLVST\n",
      "LILSSTSAYAVREEAKAKMGLLRERAEKEEAQSEMEAQVLQRQILHLEQLHHFLKLKNNDRQPDPDVLEK\n",
      "REKQAGEVAEGVWKTSQERLVLCYEDALNKLSQLMGESDPDLLVQKYLEIEERNFAEFNFINEQNLELEH\n",
      "VQEEIKEMQEALVSARASKDDQHLLQEQQQKVLQQRMDKVHSEAERLEARFQDVRGQLEKLKADIQLLFT\n",
      "KAHCDSSMIDDLLGVKTSMGDRDMGLFLSLIEKRLVELLTVQAFLHAQSFTSLADAALLVLGQSLEDLPK\n",
      "KMAPLQPPDTLEDPPGFEASDDYPMSREELLSQVEKLVELQEQAEAQRQKDLAAAAAKLDGTLSVDLAST\n",
      "QRAGSSTVLVPTRHPHAIPGSILSHKTSRDRGSLGHVTFGGLSSSTGHLPSHITHGDPNTGHVTFGSTSA\n",
      "SSGGHVTFRPVSASSYLGSTGYVGSSRGGENTEGGVESGGTASDSSGGLGSSRDHVSSTGPASSTGPGSS\n",
      "TSKDSRG\n",
      "\n",
      "\n"
     ]
    },
    {
     "name": "stderr",
     "output_type": "stream",
     "text": [
      "\r",
      " 99%|█████████▉| 502/508 [03:25<00:04,  1.45it/s]"
     ]
    },
    {
     "name": "stdout",
     "output_type": "stream",
     "text": [
      ">NP_001351834 [Homo sapiens]\n",
      "MASEDNRVPSPPPTGDDGGGGGREETPTEGGALSLKPGLPIRGIRMKFAVLTGLVEVGEVSNRDIVETVF\n",
      "NLLVGGQFDLEMNFIIQEGESINCMVDLLEKCDITCQAEVWSMFTAILKKSIRNLQVCTEVGLVEKVLGK\n",
      "IEKVDNMIADLLVDMLGVLASYNLTVRELKLFFSKLQGDKGRWPPHAGKLLSVLKHMPQKYGPDAFFNFP\n",
      "GKSAAAIALPPIAKWPYQNGFTFHTWLRMDPVNNINVDKDKPYLYCFRTSKGLGYSAHFVGGCLIVTSIK\n",
      "SKGKGFQHCVKFDFKPQKWYMVTIVHIYNRWKNSELRCYVNGELASYGEITWFVNTSDTFDKCFLGSSET\n",
      "ADANRVFCGQMTAVYLFSEALNAAQIFAIYQLGLGYKGTFKFKAESDLFLAEHHKLLLYDGKLSSAIAFT\n",
      "YNPRATDAQLCLESSPKDNPSIFVHSPHALMLQDVKAVLTHSIQSAMHSIGGVQVLFPLFAQLDYRQYLS\n",
      "DEIDLTICSTLLAFIMELLKNSIAMQEQMLACKGFLVIGYSLEKSSKSHVSRAVLELCLAFSKYLSNLQN\n",
      "GMPLLKQLCDHVLLNPAIWIHTPAKVQLMLYTYLSTEFIGTVNIYNTIRRVGTVLLIMHTLKYYYWAVNP\n",
      "QDRSGITPKGLDGPRPNQKEMLSLRAFLLMFIKQLVMKDSGVKEDELQAILNYLLTMHEDDNLMDVLQLL\n",
      "VALMSEHPNSMIPAFDQRNGLRVIYKLLASKSEGIRVQALKAMGYFLKHLAPKRKAEVMLGHGLFSLLAE\n",
      "RLMLQTNLITMTTYNVLFEILIEQIGTQVIHKQHPDPDSSVKIQNPQILKVIATLLRNSPQCPESMEVRR\n",
      "AFLSDMIKLFNNSRENRRSLLQCSVWQEWMLSLCYFNPKNSDEQKITEMVYAIFRILLYHAVKYEWGGWR\n",
      "VWVDTLSITHSKVTFEIHKENLANIFREQQGKVDEEIGLCSSTSVQAASGIRRDINVSVGSQQPDTKDSP\n",
      "VCPHFTTNGNENSSIEKTSSLESASNIELQTTNTSYEEMKAEQENQELPDEGTLEETLTNETRNADDLEV\n",
      "SSDIIEAVAISSNSFITTGKDSMTVSEVTASISSPSEEDASEMPEFLDKSIVEEEEDDDYVELKVEGSPT\n",
      "EEANLPTELQDNSLSPAASEAGEKLDMFGNDDKLIFQEGKPVTEKQTDTETQDSKDSGIQTMTASGSSAM\n",
      "SPETTVSQIAVESDLGQMLEEGKKATNLTRETKLINDCHGSVSEASSEQKIAKLDVSNVATDTERLELKA\n",
      "SPNVEAPQPHRHVLEISRQHEQPGQGIAPDAVNGQRRDSRSTVFRIPEFNWSQMHQRLLTDLLFSIETDI\n",
      "QMWRSHSTKTVMDFVNSSDNVIFVHNTIHLISQVMDNMVMACGGILPLLSAATSATHELENIEPTQGLSI\n",
      "EASVTFLQRLISLVDVLIFASSLGFTEIEAEKSMSSGGILRQCLRLVCAVAVRNCLECQQHSQLKTRGDK\n",
      "ALKPMHSLIPLGKSAAKSPVDIVTGGISPVRDLDRLLQDMDINRLRAVVFRDIEDSKQAQFLALAVVYFI\n",
      "SVLMVSKYRDILEPQNERHSQSCTETGSENENVSLSEITPAAFSTLTTASVEESESTSSARRRDSGIGEE\n",
      "TATGLGSHVEVTPHTAPPGVSAGPDAISEVLSTLSLEVNKSPETKNDRGNDLDTKATPSVSVSKNVNVKD\n",
      "ILRSLVNIPADGVTVDPALLPPACLGALGDLSVEQPVQFRSFDRSVIVAAKKSAVSPSTFNTSIPTNAVS\n",
      "VVSSVDSAQASDMGGESPGSRSSNAKLPSVPTVDSVSQDPVSNMSITERLEHALEKAAPLLREIFVDFAP\n",
      "FLSRTLLGSHGQELLIEGTSLVCMKSSSSVVELVMLLCSQEWQNSIQKNAGLAFIELVNEGRLLSQTMKD\n",
      "HLVRVANEAEFILSRQRAEDIHRHAEFESLCAQYSADKREDEKMCDHLIRAAKYRDHVTATQLIQKIINI\n",
      "LTDKHGAWGNSAVSRPLEFWRLDYWEDDLRRRRRFVRNPLGSTHPEATLKTAVEHATDEDILAKGKQSIR\n",
      "SQALGNQNSENEILLEGDDDTLSSVDEKDLENLAGPVSLSTPAQLVAPSVVVKGTLSVTSSELYFEVDEE\n",
      "DPNFKKIDPKILAYTEGLHGKWLFTEIRSIFSRRYLLQNTALEIFMANRVAVMFNFPDPATVKKVVNYLP\n",
      "RVGVGTSFGLPQTRRISLASPRQLFKASNMTQRWQHREISNFEYLMFLNTIAGRSYNDLNQYPVFPWVIT\n",
      "NYESEELDLTLPTNFRDLSKPIGALNPKRAAFFAERYESWEDDQVPKFHYGTHYSTASFVLAWLLRIEPF\n",
      "TTYFLNLQGGKFDHADRTFSSISRAWRNSQRDTSDIKELIPEFYYLPEMFVNFNNYNLGVMDDGTVVSDV\n",
      "ELPPWAKTSEEFVHINRLALESEFVSCQLHQWIDLIFGYKQQGPEAVRALNVFYYLTYEGAVNLNSITDP\n",
      "VLREAVEAQIRSFGQTPSQLLIEPHPPRGSAMQVSPLMFTDKAQQDVIMVLKFPSNSPVTHVAANTQPGL\n",
      "ATPAVITVTANRLFAVNKWHNLPAHQGAVQDQPYQLPVEIDPLIASNTGMHRRQITDLLDQSIQVHSQCF\n",
      "VITSDNRYILVCGFWDKSFRVYSTDTGRLIQVVFGHWDVVTCLARSESYIGGNCYILSGSRDATLLLWYW\n",
      "NGKCSGIGDNPGSETAAPRAILTGHDYEVTCAAVCAELGLVLSGSQEGPCLIHSMNGDLLRTLEGPENCL\n",
      "KPKLIQASREGHCVIFYENGLFCTFSVNGKLQATMETDDNIRAIQLSRDGQYLLTGGDRGVVVVRQVSDL\n",
      "KQLFAYPGCDAGIRAMALSYDQRCIISGMASGSIVLFYNDFNRWHHEYQTRY\n",
      "\n",
      "\n"
     ]
    },
    {
     "name": "stderr",
     "output_type": "stream",
     "text": [
      "\r",
      " 99%|█████████▉| 503/508 [03:26<00:03,  1.47it/s]"
     ]
    },
    {
     "name": "stdout",
     "output_type": "stream",
     "text": [
      ">NP_001352237 [Homo sapiens]\n",
      "MLWFSGVGALAERYCRRSPGITCCVLLLLNCSGVPMSLASSFLTGSVAKCENEGEVLQIPFITDNPCIMC\n",
      "VCLNKEVTCKREKCPVLSRDCALAIKQRGACCEQCKGCTYEGNTYNSSFKWQSPAEPCVLRQCQEGVVTE\n",
      "SGVRCVVHCKNPLEHLGMCCPTCPGCVFEGVQYQEGEEFQPEGSKCTKCSCTGGRTQCVREVCPILSCPQ\n",
      "HLSHIPPGQCCPKCLGQRKVFDLPFGSCLFRSDVYDNGSSFLYDNCTACTCRDSTVVCKRKCSHPGGCDQ\n",
      "GQEGCCEECLLRVPPEDIKVCKFGNKIFQDGEMWSSINCTICACVKGRTECRNKQCIPISSCPQGKILNR\n",
      "KGCCPICTEKPGVCTVFGDPHYNTFDGRTFNFQGTCQYVLTKDCSSPASPFQVLVKNDARRTRSFSWTKS\n",
      "VELVLGESRVSLQQHLTVRWNGSRIALPCRAPHFHIDLDGYLLKVTTKAGLEISWDGDSFVEVMAAPHLK\n",
      "GKLCGLCGNYNGHKRDDLIGGDGNFKFDVDDFAESWRVESNEFCNRPQRKPVPELCQGTVKVKLRAHREC\n",
      "QKLKSWEFQTCHSTVDYATFYRSCVTDMCECPVHKNCYCESFLAYTRACQREGIKVHWEPQQNCAATQCK\n",
      "HGAVYDTCGPGCIKTCDNWNEIGPCNKPCVAGCHCPANLVLHKGRCIKPVLCPQR\n",
      "\n",
      "\n"
     ]
    },
    {
     "name": "stderr",
     "output_type": "stream",
     "text": [
      "\r",
      " 99%|█████████▉| 504/508 [03:26<00:02,  1.46it/s]"
     ]
    },
    {
     "name": "stdout",
     "output_type": "stream",
     "text": [
      ">NP_001352957 [Homo sapiens]\n",
      "MSDANKAAIAAEKEALNLKLPPIVHLPENIGVDTPTQSKLLKYRRSKEQQQKINQLVIDGAKRNLDRTLG\n",
      "KRTPLLPPPDYPQTMTSEMKKKGFNYIYMKQCVESSPLVPIQQEWLDHMLRLIPESLKEGKEREELLESL\n",
      "INEVSSDFENSMKRYLVQSVLVKPPVKSLEDEGGPLPESPVGLDYSNPWHSSYVQARNQIFSNLHIIHPT\n",
      "MKMLLDLGYTTFADTVLLDFTGIRAKGPIDCESLKTDLSIQTRNAEEKIMNTWYPKVINLFTKKEALEGV\n",
      "KPEKLDAFYSCVSTLMSNQLKDLLRRTVEGFVKLFDPKDQQRLPIFKIELTFDDDKMEFYPTFQDLEDNV\n",
      "LSLVERIAEALQNVQTIPSWLSGTSTPVNLDTELPEHVLHWAVDTLKAAVHRNLEGARKHYETYVEKYNW\n",
      "LLDGTAVENIETFQTEDHTFDEYTEFIEKFLSLASEIMLLPQWIHYTMVRLDCEDLKTGLTNKAKAFANI\n",
      "LLNDIASKYRKENECICSEFEAIKEHALKVPETTEEMMDLISYVEKARTVGIEELILRIQESKRQMSYFL\n",
      "DVFLFPQEDLALNATVLMWPRKINPIFDENDELIENAKHKKENELMAKREKLILEIEKESRRMEEFTEFA\n",
      "ELERMQQYVTDVRQLQKRIQESEEAVQFINKEEELFKWELTKYPELDKLKVNIEPYQKFFNFVLKWQRSE\n",
      "KRWMDGGFLDLNGESMEADVEEFSREIFKTLKFFQTKLKKELQEKRKAARKRSLEEEKIEEEPKDNATIT\n",
      "MCSTVMEQIKAFKEYIPTVSILCNPGMRARHWKQISEIVGYDLTPDSGTTLRKVLKLNLTPYLEQFEVIS\n",
      "AGASKEFSLEKAMNTMIGTWEDIAFHISLYRDTGVCILSSVDEIQAILDDQIIKTQTMRGSPFIKPFEHE\n",
      "IKAWEDRLIRIQETIDEWLKVQAQWLYLEPIFCSEDIMQQMPEEGRQFQTVDRHWRDIMKFCAKDPKVLA\n",
      "ATSLTGLLEKLQNCNELLEKIMKGLNAYLEKKRLFFPRFFFLSNDEMLEILSETKDPLRVQPHLKKCFEG\n",
      "IAKLEFLPNLDIKAMYSSEGERVELIALISTSAARGAVEKWLIQVEDLMLRSVHDVIAAARLAYPESARR\n",
      "DWVREWPGQVVLCISQMFWTSETQEVISGGTEGLKKYYKELQNQLNEIVELVRGKLSKQTRTTLGALVTI\n",
      "DVHARDVVMDMIKMGVSHDTDFLWLAQLRYYWENENARVRIINCNVKYAYEYLGNSPRLVITPLTDRCYR\n",
      "TLIGAFYLNLGGAPEGPAGTGKTETTKDLAKALAVQCVVFNCSDGLDYLAMGKFFKGLASSGAWACFDEF\n",
      "NRIELEVLSVVAQQILCIQRAIQQKLVVFVFEGTELKLNPNCFVAITMNPGYAGRSELPDNLKVLFRTVA\n",
      "MMVPNYALIAEISLYSYGFLNARPLSVKIVMTYRLCSEQLSSQFHYDYGMRAVKAVLVAAGNLKLKYPNE\n",
      "NEDILLLRSIKDVNEPKFLSHDIPLFNGITSDLFPGIKLPEADYHEFLECAHEACNVHNLQPVKFFLEKI\n",
      "IQTYEMMIVRHGFMLVGEPFAAKTKVLHVLADTLTLMNEHGYGEEEKVIYRTVNPKSITMGQLFGQFDPV\n",
      "SHEWTDGIVANTFREFALSETPDRKWVVFDGPIDTLWIESMNTVLDDNKKLCLMSGEIIQMSPQMSLIFE\n",
      "TMDLSQASPATVSRCGMIYLEPSQLGWEPLVSSWLNSLKGPLCEPEYQALLRGLFAWLIPPSLNQRKKKC\n",
      "KELIPTSNSNVVVSLTRLFEVLLCNVVENDPTSKHIRVWIMACFIFSLIWSIGGSCDTDGRRVFDTFIRL\n",
      "IILGKDDENPVPDSVGKWECPFDEKGLVYDYMYELKNKGRWVHWNELIKNTNLGDKQIKIQDIIVPTMDT\n",
      "IRYTFLMDLSITYAKPLLFVGPTGTGKSVYVKDKLMNHLEKDQYFPFYINLSARTSANQVQNIIMARLDK\n",
      "RRKGVFGPPMGKKCIIFIDDMNMPALEKYGAQPPIELLRQFFDCGHWYDLKDTSKITLVDIELIAAMGPP\n",
      "GGGRNPVTPRCIRHFNICSINSFSDETMVRIFSSIVAFYLRTHEFPPEYFVIGNQIVNGTMEIYKQSVEN\n",
      "LLPTPTKSHYTFNLRDFSRVIRGCLLIERDAVANKHTMIRLFVHEVLRVFYDRLINDDDRRWLFQLTKTV\n",
      "IKDHFKESFHSIFSHLRKQNAPVTEEDLRNLMFGDYMNPDLEGDDRVYIEIPNIHHFSDVVDQCLDEYNQ\n",
      "THKTRMNLVIFRYVLEHLSRICRVLKQSGGNALLVGLGGSGRQSLTRLATSMAKMHIFQPEISKSYGMNE\n",
      "WREDMKGLLRNVGMKGQKTVFLITDTQIKEEAFLEDIDSVLNTGEVPNIFAADEKQEVMEGVRPVAQAGN\n",
      "KHDELSPLALFAFFVNRCKDNLHVVVAFSPIGDAFRNRLRQFPSLINCCTIDWFQSWPEDALERVAVKFL\n",
      "ETLELTEVEQQEIVPICKHFHTSIMDLSERFLHELGRHNYVTATSYLELIGSFRQLLTQKRQAVMEAKQR\n",
      "YMNGLDKLAFAESQVGEMQMELVELQPKLEEAKIENANMMQVIEIESVQVEAKRQFVKLDEEIASGKAEE\n",
      "AQALKNECESDLAEAIPALEAALSALDTLKPADITIVKSMKNPPSGVKLVMAAVCVMKDIKPEKISDPSG\n",
      "TGGKILDYWGPSKKLLGDMNFLRDLKEYDKDNIPVTVMQKIRSEYLMNPEFDPPKVAKASSAAEGLCKWI\n",
      "MAMEVYDRVAKVVAPKKARLSEAQKSLAETMELLNQKRAELAEVEHHLENLQMTFLEKTEEKAALEDQVE\n",
      "LCAKKLERASQLIGGLGGEKSRWAQAADDLQITYENLTGDVLVSAGVIAYLGAFTSGFRQTCTKDWSMLC\n",
      "KKKKIPCSEEFLLSKTLGDPVKIRAWNIAGLPTDTFSIDNGVIVNNCRRWPLMIDPQGQANKWIKNSEKE\n",
      "NQLSVIKLSDSDYMRTLENCIQFGTPLLLENVGEELDPSLEPLLLRQTFKQGGIDCIRLGEVIIEYSFDF\n",
      "KFYITTKLRNPHYMPELATKVSLLNFMITPEGLEDQLLGIVVAKERPELEEERNALILQSAANKKQLKDI\n",
      "EKKILETLSSSEGNILEDESAIKVLDSAKMMSNEITKKQQIAEKTELKIAESREGYRPIAKHSSVLFFSI\n",
      "ADLANIDPMYQYSLTWFVNLYINSIHDSNKSKILEKRLRYLNDHFTYNLYCNICRSLFEKDKLLFSFLLC\n",
      "ANLLLARKEIEYQELMFLLTGGVSLKSAEKNPDPTWLQDKSWEEICRASEFPAFRGLRQHFCEHIYEWRE\n",
      "IYDSKEPHNAKFPAPMDKNLNELQKIIILRCLRPDKITPAITNYVTDKLGKKFVEPPPFDLTKSYLDSNC\n",
      "TIPLIFVLSPGADPMASLLKFANDKSMSGNKFQAISLGQGQGPIAAKMIKAAIEEGTWVCLQNCHLAVSW\n",
      "MPMLEKICEDFTSETCNSSFRLWLTSYPSSKFPVTILQNGVKMTNEPPTGLRLNLLQSYLTDPVSDPEFF\n",
      "KGCRGKELAWEKLLFGVCFFHALVQERKKFGPLGWNIPYGFNESDLRISIRQLQLFINEYDTIPFEAISY\n",
      "LTGECNYGGRVTDDWDRRLLLTMLADFYNLYIVENPHYKFSPSGNYFAPPKGTYEDYIEFIKKLPFTQHP\n",
      "EIFGLHENVDISKDLQQTKTLFESLLLTQGGSKQTGASGSTDQILLEITKDILNKLPSDFDIEMALRKYP\n",
      "VRYEESMNTVLVQEMERFNNLIITIRNTLRDLEKAIKGVVVMDSALEALSGSLLVGKVPEIWAKRSYPSL\n",
      "KPLGSYITDFLARLNFLQDWYNSGKPCVFWLSGFFFTQAFLTGAMQNYARKYTTPIDLLGYEFEVIPSDT\n",
      "SDTSPEDGVYIHGLYLDGARWDRESGLLAEQYPKLLFDLMPIIWIKPTQKSRIIKSDAYVCPLYKTSERK\n",
      "GTLSTTGHSTNFVIAMLLKTDQPTRHWIKRGVALLCQLDD\n",
      "\n",
      "\n"
     ]
    },
    {
     "name": "stderr",
     "output_type": "stream",
     "text": [
      "\r",
      " 99%|█████████▉| 505/508 [03:27<00:02,  1.47it/s]"
     ]
    },
    {
     "name": "stdout",
     "output_type": "stream",
     "text": [
      ">NP_001353039 [Homo sapiens]\n",
      "MHQDGISSMNQLGGLFVNGRPLPLDTRQQIVRLAVSGMRPCDISRILKVSNGCVSKILGRYYRTGVLEPK\n",
      "GIGGSKPRLATPPVVARIAQLKGECPALFAWEIQRQLCAEGLCTQDKTPSVSSINRVLRALQEDQGLPCT\n",
      "RLRSPAVLAPAVLTPHSGSETPRGTHPGTGHRNRTIFSPSQAEALEKEFQRGQYPDSVARGKLATATSLP\n",
      "EDTVRVWFSNRRAKWRRQEKLKWEMQLPGASQGLTVPRVAPGIISAQQSPGSVPTAALPALEPLGPSCYQ\n",
      "LCWATAPERCLSDTPPKACLKPCWGHLPPQPNSLDSGLLCLPCPSSHCHLASLSGSQALLWPGCPLLYGL\n",
      "E\n",
      "\n",
      "\n"
     ]
    },
    {
     "name": "stderr",
     "output_type": "stream",
     "text": [
      "\r",
      "100%|█████████▉| 506/508 [03:28<00:01,  1.47it/s]"
     ]
    },
    {
     "name": "stdout",
     "output_type": "stream",
     "text": [
      ">NP_001353040 [Homo sapiens]\n",
      "MHQDGISSMNQLGGLFVNGRPLPLDTRQQIVRLAVSGMRPCDISRILKVSNGCVSKILGRYYRTGVLEPK\n",
      "GIGGSKPRLATPPVVARIAQLKGECPALFAWEIQRQLCAEGLCTQDKTPSVSSINRVLRALQEDQGLPCT\n",
      "RLRSPAVLAPAVLTPHSGSETPRGTHPGTGHRNRTIFSPSQAEALEKEFQRGQYPDSVARGKLATATSLP\n",
      "EDTVRVWFSNRRAKWRRQEKLKWEMQLPGASQGLTVPRVAPGIISAQQSPGSVPTAALPALEPLGPSCYQ\n",
      "LCWATAPERCLSDTPPKACLKPCWDCGSFLLPVIAPSCVDVAWPCLDASLAHHLIGGAGKATPTHFSH\n",
      "\n",
      "\n"
     ]
    },
    {
     "name": "stderr",
     "output_type": "stream",
     "text": [
      "\r",
      "100%|█████████▉| 507/508 [03:28<00:00,  1.47it/s]"
     ]
    },
    {
     "name": "stdout",
     "output_type": "stream",
     "text": [
      ">NP_001353314 [Homo sapiens]\n",
      "MGELCRRDSALTALDEETLWEMMESHRHRIVRCICPSRLTPYLRQAKVLCQLDEEEVLHSPRLTNSAMRA\n",
      "GHLLDLLKTRGKNGAIAFLESLKFHNPDVYTLVTGLQPDVDFSNFSGLMETSKLTECLAGAIGSLQEELN\n",
      "QEKGQKEVLLRRCQQLQEHLGLAETRAEGLHQLEADHSRMKREVSAHFHEVLRLKDEMLSLSLHYSNALQ\n",
      "EKELAASRCRSLQEELYLLKQELQRANMVSSCELELQEQSLRTASDQESGDEELNRLKEENEKLRSLTFS\n",
      "LAEKDILEQSLDEARGSRQELVERIHSLRERAVAAERQREQYWEEKEQTLLQFQKSKMACQLYREKVNAL\n",
      "QAQVCELQKERDQAYSARDSAQREISQSLVEKDSLRRQVFELTDQVCELRTQLRQLQAEPPGVLKQEART\n",
      "REPCPREKQRLVRMHAICPRDDSDCSLVSSTESQLLSDLSATSSRELVDSFRSSSPAPPSQQSLYKRVAE\n",
      "DFGEEPWSFSSCLEIPEGDPGALPGAKAGDPHLDYELLDTADLPQLESSLQPVSPGRLDVSESGVLMRRR\n",
      "PARRILSQVTMLAFQGDALLEQISVIGGNLTGIFIHRVTPGSAADQMALRPGTQIVMVDYEASEPLFKAV\n",
      "LEDTTLEEAVGLLRRVDGFCCLSVKVNTDGYKRLLQDLEAKVATSGDSFYIRVNLAMEGRAKGELQVHCN\n",
      "EVLHVTDTMFQGCGCWHAHRVNSYTMKDTAAHGTIPNYSRAQQQLIALIQDMTQQCTVTRKPSSGGPQKL\n",
      "VRIVSMDKAKASPLRLSFDRGQLDPSRMEGSSTCFWAESCLTLVPYTLVRPHRPARPRPVLLVPRAVGKI\n",
      "LSEKLCLLQGFKKCLAEYLSQEEYEAWSQRGDIIQEGEVSGGRCWVTRHAVESLMEKNTHALLDVQLDSV\n",
      "CTLHRMDIFPIVIHVSVNEKMAKKLKKGLQRLGTSEEQLLEAARQEEGDLDRAPCLYSSLAPDGWSDLDG\n",
      "LLSCVRQAIADEQKKVVWTEQSPR\n",
      "\n",
      "\n"
     ]
    },
    {
     "name": "stderr",
     "output_type": "stream",
     "text": [
      "\r",
      "100%|██████████| 508/508 [03:29<00:00,  1.47it/s]"
     ]
    },
    {
     "name": "stdout",
     "output_type": "stream",
     "text": [
      ">NP_001353848 [Homo sapiens]\n",
      "MANWVFCNRCFQPPHRTSCFSLTNCGHVYCDACLGKGKKNECLICKAPCRTVLLSKHTDADIQAFFMSID\n",
      "SLCKKYSRETSQILEFQEKHRKRLLAFYREKISRLEESLRKSVLQIEQLQSMRSSQQTAFSTIKSSVSTK\n",
      "PHGCLLPPHSSAPDRLESMEVDLSPSPIRKSEIAAGPARISMISPPQDGRMGSVSSLGPEHPGLTTSQRS\n",
      "MGKPLRIPPLQIPYKGPPLTPTPQLPGRAGRGDSPSFGGSQARLPPRPPISIPSLLQRQCLV\n",
      "\n",
      "\n"
     ]
    },
    {
     "name": "stderr",
     "output_type": "stream",
     "text": [
      "\n"
     ]
    }
   ],
   "source": [
    "for transcript_id in tqdm(retrieval_id_to_transcript_id.index.difference(fasta_lists['Homo_sapiens'])):\n",
    "    try:\n",
    "        fasta_lists['Homo_sapiens'][transcript_id] = fetch_transcript(transcript_id)    \n",
    "        print(fasta_lists['Homo_sapiens'][transcript_id])\n",
    "    except Exception as e:\n",
    "        print(e, transcript_id)"
   ]
  },
  {
   "cell_type": "code",
   "execution_count": 7,
   "metadata": {
    "scrolled": true
   },
   "outputs": [
    {
     "name": "stdout",
     "output_type": "stream",
     "text": [
      "/opt/current_project/db/mapping/NP_tables/Pan_troglodytes.list\n"
     ]
    },
    {
     "name": "stderr",
     "output_type": "stream",
     "text": [
      "80807it [00:01, 79721.43it/s]\n"
     ]
    },
    {
     "name": "stdout",
     "output_type": "stream",
     "text": [
      "/opt/current_project/db/mapping/NP_tables/Macaca_mulatta.list\n"
     ]
    },
    {
     "name": "stderr",
     "output_type": "stream",
     "text": [
      "55312it [00:00, 89571.42it/s] \n"
     ]
    },
    {
     "name": "stdout",
     "output_type": "stream",
     "text": [
      "/opt/current_project/db/mapping/NP_tables/Rattus_norvegicus.list\n"
     ]
    },
    {
     "name": "stderr",
     "output_type": "stream",
     "text": [
      "56110it [00:00, 81826.12it/s]\n"
     ]
    },
    {
     "name": "stdout",
     "output_type": "stream",
     "text": [
      "/opt/current_project/db/mapping/NP_tables/Mus_musculus.list\n"
     ]
    },
    {
     "name": "stderr",
     "output_type": "stream",
     "text": [
      "76226it [00:01, 72205.10it/s]\n"
     ]
    },
    {
     "name": "stdout",
     "output_type": "stream",
     "text": [
      "/opt/current_project/db/mapping/NP_tables/Danio_rerio.list\n"
     ]
    },
    {
     "name": "stderr",
     "output_type": "stream",
     "text": [
      "52829it [00:00, 71775.64it/s]\n"
     ]
    },
    {
     "name": "stdout",
     "output_type": "stream",
     "text": [
      "/opt/current_project/db/mapping/NP_tables/Xenopus_tropicalis.list\n"
     ]
    },
    {
     "name": "stderr",
     "output_type": "stream",
     "text": [
      "39662it [00:00, 73119.41it/s]\n",
      "0it [00:00, ?it/s]"
     ]
    },
    {
     "name": "stdout",
     "output_type": "stream",
     "text": [
      "/opt/current_project/db/mapping/NP_tables/Drosophila_melanogaster.list\n"
     ]
    },
    {
     "name": "stderr",
     "output_type": "stream",
     "text": [
      "30493it [00:00, 88327.57it/s]\n",
      "0it [00:00, ?it/s]"
     ]
    },
    {
     "name": "stdout",
     "output_type": "stream",
     "text": [
      "/opt/current_project/db/mapping/NP_tables/Caenorhabditis_elegans.list\n"
     ]
    },
    {
     "name": "stderr",
     "output_type": "stream",
     "text": [
      "28311it [00:00, 102624.39it/s]\n"
     ]
    }
   ],
   "source": [
    "\n",
    "human_transcripts = glob(path.join(sequences_path, '*'))\n",
    "homology_list = pd.read_csv(path.join(db_path,'orthology','Homology.list'), sep='\\t', dtype=str)\n",
    "\n",
    "species_list = ['Pan_troglodytes', 'Macaca_mulatta', 'Rattus_norvegicus', 'Mus_musculus', 'Danio_rerio', \n",
    "            'Xenopus_tropicalis', 'Drosophila_melanogaster', 'Caenorhabditis_elegans']\n",
    "homology_list.columns = ['Homo_sapiens'] + species_list\n",
    "homology_list = homology_list.set_index('Homo_sapiens')\n",
    "\n",
    "enst_to_gene_id = pd.read_csv(path.join(db_path, 'mapping', 'NewCurated_ENSTvsGENEID.csv'))\n",
    "enst_to_gene_id.columns = ['transcript_id', 'gene_id']\n",
    "np_to_gene_id = pd.read_csv(path.join(db_path, 'mapping', 'NM_NP_GeneID.list'), sep='\\t').iloc[:, 1:] \n",
    "np_to_gene_id.columns = ['transcript_id', 'gene_id']\n",
    "\n",
    "transcript_id_to_gene_id = pd.concat([enst_to_gene_id, np_to_gene_id], axis=0, ignore_index=True)\n",
    "\n",
    "gene_id_to_transcript_ids = pd.concat([enst_to_gene_id, np_to_gene_id], axis=0, ignore_index=True)\n",
    "\n",
    "for species in species_list:\n",
    "    species_list_file = path.join(db_path, 'mapping', 'NP_tables', species+'.list')\n",
    "    print(species_list_file)\n",
    "    transcript_lists[species] = pd.read_csv(species_list_file, sep='\\t')\n",
    "    transcript_list = transcript_lists[species][['Protein product', 'GeneID']]\n",
    "    transcript_list.columns = ['transcript_id', 'gene_id']\n",
    "    \n",
    "    transcript_id_to_gene_id = pd.concat([transcript_id_to_gene_id, transcript_list],\n",
    "                                        axis=0, ignore_index=True)\n",
    "    gene_id_to_transcript_ids = pd.concat([gene_id_to_transcript_ids, transcript_list],\n",
    "                                        axis=0, ignore_index=True)\n",
    "    \n",
    "    fasta_lists[species] = {} \n",
    "    fasta_sequence_file = path.join(db_path, 'proteins', species+'.faa')\n",
    "    \n",
    "    fasta_sequences = SeqIO.parse(fasta_sequence_file, \"fasta\")\n",
    "    for fasta in tqdm(fasta_sequences):\n",
    "        transcript_id, sequence = fasta.id, str(fasta.seq)\n",
    "        transcript_id = transcript_id.split('.')[0]\n",
    "        fasta_lists[species][transcript_id] = sequence\n",
    "    \n",
    "    \n",
    "\n",
    "transcript_id_to_gene_id = transcript_id_to_gene_id.dropna()\n",
    "transcript_id_to_gene_id.loc[:, 'transcript_id'] = transcript_id_to_gene_id['transcript_id'].apply(lambda x: x.split('.')[0])\n",
    "transcript_id_to_gene_id.loc[:, 'gene_id'] = transcript_id_to_gene_id.loc[:, 'gene_id'].astype(str) \n",
    "transcript_id_to_gene_id = transcript_id_to_gene_id.set_index('transcript_id')\n",
    "\n",
    "gene_id_to_transcript_ids = gene_id_to_transcript_ids.dropna()\n",
    "gene_id_to_transcript_ids.loc[:, 'gene_id'] = gene_id_to_transcript_ids.loc[:, 'gene_id'].astype(str)\n",
    "\n",
    "gene_id_to_transcript_ids.loc[:, 'transcript_id'] = gene_id_to_transcript_ids['transcript_id'].apply(lambda x: x.split('.')[0])\n",
    "gene_id_to_transcript_ids = gene_id_to_transcript_ids.groupby('gene_id')['transcript_id'].apply(lambda x: ','.join(x))\n"
   ]
  },
  {
   "cell_type": "code",
   "execution_count": 8,
   "metadata": {
    "scrolled": false
   },
   "outputs": [
    {
     "name": "stderr",
     "output_type": "stream",
     "text": [
      "  4%|▍         | 2372/57479 [00:54<19:42, 46.59it/s]"
     ]
    },
    {
     "name": "stdout",
     "output_type": "stream",
     "text": [
      "NP_649983 23579 284366\n"
     ]
    },
    {
     "name": "stderr",
     "output_type": "stream",
     "text": [
      " 10%|█         | 5950/57479 [02:17<19:07, 44.92it/s]"
     ]
    },
    {
     "name": "stdout",
     "output_type": "stream",
     "text": [
      "NP_001024158 730240 84762\n"
     ]
    },
    {
     "name": "stderr",
     "output_type": "stream",
     "text": [
      " 15%|█▍        | 8480/57479 [03:16<19:43, 41.41it/s]"
     ]
    },
    {
     "name": "stdout",
     "output_type": "stream",
     "text": [
      "XP_008771835 100996465 643736\n"
     ]
    },
    {
     "name": "stderr",
     "output_type": "stream",
     "text": [
      " 26%|██▋       | 15173/57479 [05:51<16:03, 43.89it/s]"
     ]
    },
    {
     "name": "stdout",
     "output_type": "stream",
     "text": [
      "NP_651388 51373 64958\n"
     ]
    },
    {
     "name": "stderr",
     "output_type": "stream",
     "text": [
      " 47%|████▋     | 27269/57479 [10:31<11:15, 44.71it/s]"
     ]
    },
    {
     "name": "stdout",
     "output_type": "stream",
     "text": [
      "NP_611159 137202 5323 729330\n"
     ]
    },
    {
     "name": "stderr",
     "output_type": "stream",
     "text": [
      " 57%|█████▋    | 32573/57479 [12:35<09:36, 43.19it/s]"
     ]
    },
    {
     "name": "stdout",
     "output_type": "stream",
     "text": [
      "NP_659183 374286 83644\n"
     ]
    },
    {
     "name": "stderr",
     "output_type": "stream",
     "text": [
      " 69%|██████▉   | 39565/57479 [15:18<07:21, 40.62it/s]"
     ]
    },
    {
     "name": "stdout",
     "output_type": "stream",
     "text": [
      "XP_017177156 100996465 643736\n"
     ]
    },
    {
     "name": "stderr",
     "output_type": "stream",
     "text": [
      " 90%|████████▉ | 51694/57479 [20:00<02:23, 40.24it/s]"
     ]
    },
    {
     "name": "stdout",
     "output_type": "stream",
     "text": [
      "NP_496170 140800 158062\n"
     ]
    },
    {
     "name": "stderr",
     "output_type": "stream",
     "text": [
      " 96%|█████████▌| 55301/57479 [21:24<00:49, 43.78it/s]"
     ]
    },
    {
     "name": "stdout",
     "output_type": "stream",
     "text": [
      "XP_024208117 137202 5323 729330\n"
     ]
    },
    {
     "name": "stderr",
     "output_type": "stream",
     "text": [
      "100%|██████████| 57479/57479 [22:14<00:00, 43.06it/s]\n"
     ]
    }
   ],
   "source": [
    "\n",
    "seqs_with_homology_path = '/opt/current_project/results/seqs_with_homology/'\n",
    "\n",
    "if path.exists(seqs_with_homology_path):\n",
    "    shutil.rmtree(seqs_with_homology_path)\n",
    "\n",
    "os.makedirs(seqs_with_homology_path)\n",
    "\n",
    "for transcript_file in tqdm(human_transcripts):\n",
    "    with open(transcript_file, 'r') as f:\n",
    "        current_fasta = f.read()\n",
    "    human_transcript_id_orig = current_fasta.split('\\n')[0].split(' ')[0].replace('>', '') \n",
    "    human_transcript_id = human_transcript_id_orig.split('.')[0]\n",
    "    if human_transcript_id not in transcript_id_to_gene_id.index:\n",
    "        continue\n",
    "        \n",
    "    if pd.isna(transcript_id_to_gene_id.loc[human_transcript_id, 'gene_id']):\n",
    "        continue\n",
    "    if ' ' in str(transcript_id_to_gene_id.loc[human_transcript_id, 'gene_id']):\n",
    "        print(transcript_id, \n",
    "              transcript_id_to_gene_id.loc[human_transcript_id, 'gene_id'])\n",
    "        continue\n",
    "    \n",
    "    human_gene_id = transcript_id_to_gene_id.loc[human_transcript_id, 'gene_id']\n",
    "    \n",
    "    if human_gene_id not in homology_list.index:\n",
    "        continue\n",
    "    \n",
    "    transcript_ids = set()\n",
    "    \n",
    "    for species, homolog_gene_ids in homology_list.loc[human_gene_id].to_dict().items():\n",
    "        if pd.isna(homolog_gene_ids):\n",
    "            continue\n",
    "        homolog_gene_ids = homolog_gene_ids.split(',')\n",
    "        for gene_id in homolog_gene_ids:\n",
    "            if gene_id == '':\n",
    "                continue\n",
    "            if gene_id not in gene_id_to_transcript_ids.index:\n",
    "                continue\n",
    "            \n",
    "            homolog_transcript_ids = gene_id_to_transcript_ids.loc[gene_id].split(',')\n",
    "            \n",
    "            for transcript_id in homolog_transcript_ids:\n",
    "                if transcript_id not in fasta_lists[species]:\n",
    "                    continue\n",
    "                if transcript_id in transcript_ids:\n",
    "                    continue\n",
    "                \n",
    "                if len(homolog_transcript_ids) > 3 and random.randint(1,2) == 1:\n",
    "                    continue\n",
    "\n",
    "                transcript_ids.add(transcript_id)\n",
    "                \n",
    "                current_fasta += '\\n'\n",
    "                current_fasta += '>'+transcript_id+' ['+species.replace('_',' ')+']'\n",
    "                current_fasta += '\\n'+fasta_lists[species][transcript_id]\n",
    "    \n",
    "    with open(path.join(seqs_with_homology_path, human_transcript_id_orig +'.fasta'), 'w') as f:\n",
    "        f.write(current_fasta)\n"
   ]
  },
  {
   "cell_type": "code",
   "execution_count": 9,
   "metadata": {},
   "outputs": [
    {
     "data": {
      "text/plain": [
       "0"
      ]
     },
     "execution_count": 9,
     "metadata": {},
     "output_type": "execute_result"
    }
   ],
   "source": [
    "\n",
    "blast_db_path = path.join(db_path, 'blast_db/')\n",
    "\n",
    "if path.exists(blast_db_path):\n",
    "    shutil.rmtree(blast_db_path)\n",
    "\n",
    "os.makedirs(blast_db_path)\n",
    "\n",
    "all_fasta = '\\n'.join(list(fasta_lists['Homo_sapiens'].values()))\n",
    "\n",
    "curated_file_path = path.join(blast_db_path, 'convart_curated_fasta.fasta')\n",
    "\n",
    "with open(curated_file_path, 'w') as f:\n",
    "    f.write(all_fasta)\n",
    "\n",
    "\n",
    "os.system(\"makeblastdb -in \"+curated_file_path+\" -out \"+\\\n",
    "    path.join(blast_db_path, 'convartProteome')+\\\n",
    "    \" -title \"+path.join(blast_db_path, 'convartProteome')+\" -dbtype prot\")\n",
    "\n"
   ]
  },
  {
   "cell_type": "code",
   "execution_count": 10,
   "metadata": {
    "scrolled": true
   },
   "outputs": [
    {
     "name": "stdout",
     "output_type": "stream",
     "text": [
      "makeblastdb -in /opt/current_project/db/blast_db/convart_curated_fasta.fasta -out /opt/current_project/db/blast_db/convartProteome -title /opt/current_project/db/blast_db/convartProteome -dbtype prot\n"
     ]
    }
   ],
   "source": [
    "print(\"makeblastdb -in \"+curated_file_path+\" -out \"+\\\n",
    "    path.join(blast_db_path, 'convartProteome')+\\\n",
    "    \" -title \"+path.join(blast_db_path, 'convartProteome')+\" -dbtype prot\")"
   ]
  },
  {
   "cell_type": "code",
   "execution_count": null,
   "metadata": {},
   "outputs": [],
   "source": [
    "!python create_alignments.py construct_database"
   ]
  },
  {
   "cell_type": "code",
   "execution_count": 63,
   "metadata": {},
   "outputs": [],
   "source": [
    "df_matching = pd.read_sql(\"\"\"SELECT GROUP_CONCAT(if(id like 'NP%', id, null)) AS np_id,\n",
    "    GROUP_CONCAT(if(id like 'ENST%', id, null)) AS enst_id \n",
    "    FROM `convart_gene` WHERE species_id = 'Homo sapiens' GROUP BY sequence HAVING COUNT(id) > 1 AND np_id is NOT NULL \n",
    "    ORDER BY id ASC\n",
    "    \"\"\", con)\n",
    "df_matching.loc[:, 'enst_id'] = res.loc[:, 'enst_id'].replace({None: \"\"})\n",
    "\n",
    "df_matching = explode_str(df_matching, 'enst_id', ',')\n",
    "df_matching = explode_str(df_matching, 'np_id', ',')\n",
    "\n",
    "df_matching = df_matching.set_index('np_id')\n",
    "df_matching.columns = ['ENST']\n",
    "\n",
    "save_mapping_to_db(df_matching, con, cur)\n"
   ]
  },
  {
   "cell_type": "code",
   "execution_count": 67,
   "metadata": {},
   "outputs": [],
   "source": [
    "df_np_ncbi = pd.read_sql(\"\"\"SELECT nc_hum.meta_value AS np_id, nc_hum.ncbi_gene_id FROM ncbi_gene_meta AS nc_hum\n",
    "        WHERE meta_key='protein_number' AND meta_value LIKE 'NP%' GROUP BY nc_hum.meta_value\"\"\", con)\n",
    "df_np_ncbi = df_np_ncbi.set_index('np_id')"
   ]
  },
  {
   "cell_type": "code",
   "execution_count": 94,
   "metadata": {},
   "outputs": [],
   "source": [
    "df_matching_with_ncbi = df_matching.copy()\n",
    "df_matching_with_ncbi.loc[:, 'ncbi_id'] = df_matching_with_ncbi.index.map(lambda x: df_np_ncbi.loc[x, 'ncbi_gene_id'])\n",
    "for _, row in df_matching_with_ncbi.iterrows():\n",
    "    cur.execute(\"INSERT IGNORE INTO ncbi_gene_meta (ncbi_gene_id, meta_key, meta_value) VALUES (%s, 'protein_number', %s)\", \n",
    "                        (row['ncbi_id'], row['ENST']))"
   ]
  }
 ],
 "metadata": {
  "kernelspec": {
   "display_name": "Python 3",
   "language": "python",
   "name": "python3"
  },
  "language_info": {
   "codemirror_mode": {
    "name": "ipython",
    "version": 3
   },
   "file_extension": ".py",
   "mimetype": "text/x-python",
   "name": "python",
   "nbconvert_exporter": "python",
   "pygments_lexer": "ipython3",
   "version": "3.6.7"
  }
 },
 "nbformat": 4,
 "nbformat_minor": 2
}

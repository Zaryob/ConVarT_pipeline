{
 "cells": [
  {
   "cell_type": "markdown",
   "metadata": {},
   "source": [
    "# ConVarT Pipeline\n",
    "* [www.convart.org](www.convart.org)\n",
    "* [https://github.com/thekaplanlab/ConVarT_pipeline](https://github.com/thekaplanlab/ConVarT_pipeline)\n",
    "* [https://github.com/thekaplanlab/ConVarT_Web](https://github.com/thekaplanlab/ConVarT_Web)\n",
    "\n",
    "### **TO-DO**\n",
    "- [x] Add brief explanations for the files\n",
    "- [x] Add all analysis scripts\n",
    "- [x] Add DB update scripts\n",
    "- [x] Add figure scripts "
   ]
  },
  {
   "cell_type": "markdown",
   "metadata": {},
   "source": [
    "## Functions and libraries"
   ]
  },
  {
   "cell_type": "code",
   "execution_count": 4,
   "metadata": {},
   "outputs": [],
   "source": [
    "import nbformat\n",
    "from nbconvert.preprocessors import ExecutePreprocessor"
   ]
  },
  {
   "cell_type": "code",
   "execution_count": 8,
   "metadata": {},
   "outputs": [],
   "source": [
    "def execute_notebook(notebook_name):\n",
    "    print(notebook_name, \"is now running!\")\n",
    "#     with open(file_name) as f:\n",
    "#         nb = nbformat.read(f, as_version=4)\n",
    "#     ep = ExecutePreprocessor(timeout=60000, kernel_name='python3')\n",
    "#     ep.preprocess(nb, {'metadata': {'path': './'}})"
   ]
  },
  {
   "cell_type": "markdown",
   "metadata": {},
   "source": [
    "## Database and Working Directory Configs\n",
    "- To be able to run all the processes properly, please check the \"**config.yml**\" file consisting of project working directories and database connection variables.\n",
    "- Database structure for ConVarT is also available in \"**sql**\" folder.\n",
    "\n",
    "**\\! Please sure that the files and folders are properly located. Sometimes, their location may vary among the scripts and Jupyter notebooks.** "
   ]
  },
  {
   "cell_type": "markdown",
   "metadata": {},
   "source": [
    "## Transcriptome curation and Generate Human Protein Domains\n",
    "- \"create_proteome\" Function:\n",
    "\n",
    "To be able to create BLAST DB for human transcriptome file namely \"convart_curated_fasta.fasta\" including all NCBI and ENSEMBL protein isoforms and make it available for sequence search function in the web.\n",
    "\n",
    "- \"generate_domains\" Function:\n",
    "\n",
    "To be able to get the list of human protein domains using Pfam_scan script. \n",
    "\n",
    "**\\*No need anymore for \"retrieve_and_process_ClinVar\", \"compare_seqs\" and \"conversion\" functions**"
   ]
  },
  {
   "cell_type": "code",
   "execution_count": null,
   "metadata": {},
   "outputs": [],
   "source": [
    "#TODO: create the tables in the database\n",
    "!mysql -u $bilmemne -p$password  ../sql/table_structure.sql\n"
   ]
  },
  {
   "cell_type": "code",
   "execution_count": null,
   "metadata": {},
   "outputs": [],
   "source": [
    "!python ../mapping/process_gpff.py\n",
    "\n",
    "!STAGING_PATH=C:/Users/halil/falanfilan, PROJECT=C:/asdas/asdad bash ../mapping/create_mapping.sh \n",
    "!python ../mapping/db_mapping_biomart.py"
   ]
  },
  {
   "cell_type": "markdown",
   "metadata": {},
   "source": [
    "## Database Parsing "
   ]
  },
  {
   "cell_type": "code",
   "execution_count": null,
   "metadata": {},
   "outputs": [],
   "source": [
    "# ClinVar\n",
    "execute_notebook(\"./Clinvar.ipynb\")\n",
    "\n",
    "# dbSNP -it also includes graphs and charts-\n",
    "\n",
    "!bash ../scripts/dbsnp.sh\n",
    "\n",
    "# Tubulin Mutations\n",
    "!python ../scripts/tubulin_db_parsing.py\n",
    "\n",
    "# MSA and Allele Freq. -not included in the paper-\n",
    "# execute_notebook(\"./MSA_and_alleleFreq.ipynb\")\n",
    "\n",
    "# Computation of conservation scores on the web\n",
    "# execute_notebook(\"./Compute conservation.ipynb\")\n"
   ]
  },
  {
   "cell_type": "markdown",
   "metadata": {},
   "source": [
    "## Alignments & MSA\n",
    "\n",
    "**Two scripts exist for creating alignments and MSA, and uploading into the DB.*\n",
    "\n",
    "- **create_fasta_files.py**\n",
    "\n",
    "    It takes two parameters: --included_species, --output_path.\n",
    "    \n",
    "    Please, list the species that you would like to include their sequences. \n",
    "        E.g.: --included_species \"Mus_musculus\" \"Caenorhabditis_elegans\" \n",
    "    \n",
    "\n",
    "- **create_alignments.py**\n",
    "\n",
    "    It takes four parameters: --mode, --truncate, --input_path, --output_path.\n",
    "    \n",
    "    Please, use \"construct_database\" for --mode parameter to construct the DB.\n",
    "    \n",
    "    Please, state your path to --input_path for the files which are created by create_fasta_files.py previously.\n",
    "    \n",
    "    If you would like to truncate the DB, use: `--truncate=1`"
   ]
  },
  {
   "cell_type": "markdown",
   "metadata": {},
   "source": [
    "#### SpeMuD"
   ]
  },
  {
   "cell_type": "code",
   "execution_count": 10,
   "metadata": {
    "collapsed": true
   },
   "outputs": [
    {
     "name": "stdout",
     "output_type": "stream",
     "text": [
      "../scripts/create_fasta_files.py:45: YAMLLoadWarning: calling yaml.load() without Loader=... is deprecated, as the default Loader is unsafe. Please read https://msg.pyyaml.org/load for full details.\n",
      "  config = yaml.load(f)\n",
      "76226it [00:01, 67685.88it/s]\n",
      "28311it [00:00, 114791.96it/s]\n",
      "45084it [00:00, 91481.63it/s]\n"
     ]
    },
    {
     "name": "stderr",
     "output_type": "stream",
     "text": [
      "\n",
      "KeyboardInterrupt\n",
      "\n"
     ]
    }
   ],
   "source": [
    "# To be able to create files including fasta for Homo sapiens, Mus musculus and Caenorhabditis_elegans and align them following by uploading to the DB\n",
    "\n",
    "!python3 ../scripts/create_fasta_files.py --included_species \"Mus_musculus\" \"Caenorhabditis_elegans\" --output_path=\"/opt/current_project/results/mouse_and_cel/\"\n",
    "!python3 ../scripts/create_alignments.py --input_path=\"/opt/current_project/results/mouse_and_cel/\" --mode=construct_database --output_path=\"/opt/current_project/results/mouse_and_cel_aligns/\"\n"
   ]
  },
  {
   "cell_type": "markdown",
   "metadata": {},
   "source": [
    "#### ConVarT Gene Search --All Species--"
   ]
  },
  {
   "cell_type": "code",
   "execution_count": null,
   "metadata": {},
   "outputs": [],
   "source": [
    "# To be able to create files including fasta for all species and align them following by uploading to the DB\n",
    "\n",
    "!python3 ../scripts/create_fasta_files.py --included_species \"Pan_troglodytes\" \"Macaca_mulatta\" \"Rattus_norvegicus\" \"Mus_musculus\" \"Danio_rerio\" \"Xenopus_tropicalis\" \"Drosophila_melanogaster\" \"Caenorhabditis_elegans\" --output_path=\"/opt/current_project/results/all_species_fasta/\"\n",
    "\n",
    "!python3 ../scripts/create_alignments.py --input_path=\"/opt/current_project/results/all_species_fasta/\" --mode=construct_database --output_path=\"/opt/current_project/results/all_species_fasta_aligns/\""
   ]
  },
  {
   "cell_type": "markdown",
   "metadata": {},
   "source": [
    "## Figures / Charts\n",
    "\n",
    "- **Conservation.ipynb**\n",
    "\n",
    "    Conservations of the genes on the variants and PTMs between human and different species and distribution of variant amino acids by clinical significance\n",
    "\n",
    "\n",
    "- **Cosmic and venn diagram.ipynb**\n",
    "\n",
    "    Intersection of variants among 4 databases which are ClinVar, COSMIC, gnomAD, and dbSNP. \n",
    "\n",
    "\n",
    "- **Disease-Homology Figures.ipynb**\n",
    "\n",
    "    ClinVar whole data variant classification and distribution of the genes that are associated with diseases among species.  \n",
    "\n",
    "\n",
    "- **PTM.ipynb**\n",
    "\n",
    "    Distribution of the types of PTMs.  "
   ]
  }
 ],
 "metadata": {
  "kernelspec": {
   "display_name": "Python 3",
   "language": "python",
   "name": "python3"
  },
  "language_info": {
   "codemirror_mode": {
    "name": "ipython",
    "version": 3
   },
   "file_extension": ".py",
   "mimetype": "text/x-python",
   "name": "python",
   "nbconvert_exporter": "python",
   "pygments_lexer": "ipython3",
   "version": "3.6.9"
  }
 },
 "nbformat": 4,
 "nbformat_minor": 2
}
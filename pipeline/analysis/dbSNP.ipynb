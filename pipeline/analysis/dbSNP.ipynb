{
 "cells": [
  {
   "cell_type": "code",
   "execution_count": 109,
   "metadata": {},
   "outputs": [],
   "source": [
    "import pandas as pd\n",
    "import pymysql\n",
    "from matplotlib import pyplot as plt\n",
    "import numpy as np\n",
    "import yaml\n",
    "from os import path\n",
    "import re\n",
    "from sqlalchemy import create_engine\n",
    "\n",
    "with open('../config.yml') as f:\n",
    "    config = yaml.load(f)\n",
    "\n",
    "project_dir = config['PROJECT']\n",
    "project_db_dir = config['DATABASE']\n",
    "con = pymysql.connect(host=config['MYSQL_HOST'], user=config['MYSQL_USER'], passwd=config['MYSQL_PASSWD'], \n",
    "                      db=config['MYSQL_DB'])\n",
    "cur = con.cursor()\n",
    "engine = create_engine(\"mysql+pymysql://{user}:{pw}@{server}/{db}\"\n",
    "                       .format(server=config['MYSQL_HOST'], user=config['MYSQL_USER'], pw=config['MYSQL_PASSWD'], \n",
    "                               db=config['MYSQL_DB']))"
   ]
  },
  {
   "cell_type": "code",
   "execution_count": 151,
   "metadata": {
    "scrolled": true
   },
   "outputs": [
    {
     "name": "stdout",
     "output_type": "stream",
     "text": [
      "\n",
      "Can't locate Bio/EnsEMBL/Registry.pm in @INC (you may need to install the Bio::EnsEMBL::Registry module) (@INC contains: /home/kaplanlab/vep/modules /home/kaplanlab/vep /opt/CilioGenics/domain/PfamScan /home/kaplanlab/perl5/lib/perl5/5.26.1/x86_64-linux-gnu-thread-multi /home/kaplanlab/perl5/lib/perl5/5.26.1 /home/kaplanlab/perl5/lib/perl5/x86_64-linux-gnu-thread-multi /home/kaplanlab/perl5/lib/perl5 /etc/perl /usr/local/lib/x86_64-linux-gnu/perl/5.26.1 /usr/local/share/perl/5.26.1 /usr/lib/x86_64-linux-gnu/perl5/5.26 /usr/share/perl5 /usr/lib/x86_64-linux-gnu/perl/5.26 /usr/share/perl/5.26 /home/kaplanlab/perl5/lib/perl5/5.26.0 /home/kaplanlab/perl5/lib/perl5/5.26.0/x86_64-linux-gnu-thread-multi /usr/local/lib/site_perl /usr/lib/x86_64-linux-gnu/perl-base) at /home/kaplanlab/vep/modules/Bio/EnsEMBL/VEP/BaseVEP.pm line 58.\n",
      "BEGIN failed--compilation aborted at /home/kaplanlab/vep/modules/Bio/EnsEMBL/VEP/BaseVEP.pm line 58.\n",
      "Compilation failed in require at /usr/share/perl/5.26/base.pm line 136.\n",
      "\t...propagated at /usr/share/perl/5.26/base.pm line 158.\n",
      "BEGIN failed--compilation aborted at /home/kaplanlab/vep/modules/Bio/EnsEMBL/VEP/BaseRunner.pm line 56.\n",
      "Compilation failed in require at /usr/share/perl/5.26/base.pm line 136.\n",
      "\t...propagated at /usr/share/perl/5.26/base.pm line 158.\n",
      "BEGIN failed--compilation aborted at /home/kaplanlab/vep/modules/Bio/EnsEMBL/VEP/Runner.pm line 71.\n",
      "Compilation failed in require at /home/kaplanlab/vep/vep line 20.\n",
      "BEGIN failed--compilation aborted at /home/kaplanlab/vep/vep line 20.\n"
     ]
    }
   ],
   "source": [
    "!bash -c \"../scripts/dbsnp.sh\""
   ]
  },
  {
   "cell_type": "code",
   "execution_count": 104,
   "metadata": {},
   "outputs": [],
   "source": [
    "df = pd.read_csv(path.join(project_dir, 'dbSNP', 'result_only_hgvsp.tsv'), sep='\\t')\n",
    "df.loc[:, 'HGVSp'] = df['Extra'].apply(lambda x: re.sub(r'^(.*?)HGVSp=(.*?)(;|$)(.*?)', r'\\2', x))\n",
    "df.loc[:, 'Impact'] = df['Extra'].apply(lambda x: '' if 'IMPACT' not in x else\n",
    "                                        re.sub(r'^(.*?)IMPACT=([^;]+)(.*?)$', r'\\2', x))\n",
    "df.drop(['Amino_acids', 'Codons', 'Existing_variation', 'Extra'], axis=1, inplace=True)"
   ]
  },
  {
   "cell_type": "code",
   "execution_count": 111,
   "metadata": {},
   "outputs": [],
   "source": [
    "df.to_sql('dbsnp', engine, if_exists='replace', index=True)"
   ]
  }
 ],
 "metadata": {
  "kernelspec": {
   "display_name": "Python 3",
   "language": "python",
   "name": "python3"
  },
  "language_info": {
   "codemirror_mode": {
    "name": "ipython",
    "version": 3
   },
   "file_extension": ".py",
   "mimetype": "text/x-python",
   "name": "python",
   "nbconvert_exporter": "python",
   "pygments_lexer": "ipython3",
   "version": "3.6.8"
  }
 },
 "nbformat": 4,
 "nbformat_minor": 2
}

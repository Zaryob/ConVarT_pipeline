{
 "cells": [
  {
   "cell_type": "code",
   "execution_count": 2,
   "metadata": {},
   "outputs": [],
   "source": [
    "import pandas as pd\n",
    "import re\n",
    "import pymysql\n",
    "from tqdm import tqdm\n",
    "from glob import glob\n",
    "import queue\n",
    "import yaml\n",
    "with open('../config.yml') as f:\n",
    "    config = yaml.load(f)\n",
    "\n",
    "con = pymysql.connect(host=config['MYSQL_HOST'], user=config['MYSQL_USER'], passwd=config['MYSQL_PASSWD'], \n",
    "                      db=config['MYSQL_DB'])\n",
    "\n",
    "cur = con.cursor()\n",
    "\n",
    "aminoacid_to_single_letter = {\n",
    "    'Ala': 'A','Arg': 'R','Asn': 'N','Asp': 'D','Asx': 'B',\n",
    "    'Cys': 'C','Glu': 'E','Gln': 'Q','Glx': 'Z','Gly': 'G','His': 'H',\n",
    "    'Ile': 'I','Leu': 'L','Lys': 'K','Met': 'M','Phe': 'F','Pro': 'P',\n",
    "    'Ser': 'S','Thr': 'T','Trp': 'W','Tyr': 'Y','Val': 'V',\n",
    "}"
   ]
  },
  {
   "cell_type": "code",
   "execution_count": 3,
   "metadata": {},
   "outputs": [],
   "source": [
    "df_cosmic_pathogenic = pd.read_sql(\"\"\"SELECT accession_number, sample_name, fathmm_prediction, fathmm_score, id_sample, id_tumour, primary_site, primary_histology, mutation_id, mutation_cds, mutation_aa, snp, position, mutation_somatic_status FROM CosmicMutantExport as cosmic\n",
    "                    WHERE fathmm_prediction='PATHOGENIC' GROUP BY cosmic.cme_id\"\"\", con)\n",
    "\n",
    "df_cosmic_pathogenic_unique = df_cosmic_pathogenic.apply(lambda x: x['accession_number']+'-'+x['mutation_aa'], axis=1)\\\n",
    "                    .drop_duplicates()"
   ]
  },
  {
   "cell_type": "code",
   "execution_count": 4,
   "metadata": {
    "scrolled": true
   },
   "outputs": [],
   "source": [
    "df_gnomad = pd.read_sql(\"\"\"SELECT gnomad.* FROM gnomad GROUP BY gnomad.id\"\"\", \n",
    "                        con)\n",
    "\n",
    "df_gnomad_unique = df_gnomad.apply(lambda x: x['canonical_transcript']+'-'+x['variation'], axis=1)\\\n",
    "                    .drop_duplicates()\n",
    "for from_str, to_str in aminoacid_to_single_letter.items():\n",
    "    df_gnomad_unique = df_gnomad_unique.apply(lambda x: x.replace(from_str, to_str))\n"
   ]
  },
  {
   "cell_type": "code",
   "execution_count": null,
   "metadata": {},
   "outputs": [],
   "source": [
    "print('Number of variations present in both 2 databases', len(set(df_gnomad_unique.tolist()).intersection(\n",
    "                set(df_cosmic_pathogenic_unique.tolist()))), \\\n",
    "                '\\nnumber of distinct enst-variation pairs in gnomad',df_gnomad_unique.shape[0],\\\n",
    "                '\\nnumber of distinct enst-variation pairs in cosmic among pathogenic variations', \\\n",
    "                df_cosmic_pathogenic_unique.shape[0],\n",
    "        )"
   ]
  },
  {
   "cell_type": "code",
   "execution_count": null,
   "metadata": {},
   "outputs": [],
   "source": [
    "df_clinvar = pd.read_sql(\"\"\"SELECT clinvar.*, cdb_enst.db_id AS acc_id FROM clinvar INNER JOIN convart_gene_to_db AS cdb ON \n",
    "                    cdb.db_id = clinvar.nm_id INNER JOIN convart_gene_to_db AS cdb_enst ON \n",
    "                    cdb_enst.convart_gene_id = cdb.convart_gene_id AND cdb_enst.db = 'ENST'\n",
    "                    GROUP BY clinvar.clinvar_id\"\"\", con)\n",
    "df_clinvar_unique = df_clinvar.apply(lambda x: x['acc_id']+'-'+x['variation'], axis=1)\\\n",
    "                    .drop_duplicates()\n",
    "for from_str, to_str in aminoacid_to_single_letter.items():\n",
    "    df_clinvar_unique = df_clinvar_unique.apply(lambda x: x.replace(from_str, to_str))\n",
    "\n",
    "df_clinvar_unique = df_clinvar_unique.apply(lambda x: x.replace('(', ''))\n",
    "df_clinvar_unique = df_clinvar_unique.apply(lambda x: x.replace(')', ''))"
   ]
  },
  {
   "cell_type": "code",
   "execution_count": null,
   "metadata": {},
   "outputs": [],
   "source": [
    "print('Clinvar - Cosmic comparison:')\n",
    "print('Number of matching variations in both databases', len(set(df_clinvar_unique.tolist()).intersection(\n",
    "                set(df_cosmic_pathogenic_unique.tolist()))), \\\n",
    "                '\\nnumber of distinct enst-variation pairs in clinvar',df_clinvar_unique.shape[0],\\\n",
    "                '\\nnumber of distinct enst-variation pairs in cosmic among pathogenic variations', \\\n",
    "                df_cosmic_pathogenic_unique.shape[0],\n",
    "        )"
   ]
  },
  {
   "cell_type": "code",
   "execution_count": null,
   "metadata": {},
   "outputs": [],
   "source": [
    "import pickle\n",
    "\n",
    "sets = [df_cosmic_pathogenic_unique, df_clinvar_unique, df_gnomad_unique]\n",
    "\n",
    "with open(\"sets.pkl\", \"wb\") as f:\n",
    "    pickle.dump(sets, f)"
   ]
  },
  {
   "cell_type": "code",
   "execution_count": null,
   "metadata": {},
   "outputs": [],
   "source": [
    "with open(\"sets.pkl\", \"rb\") as f:\n",
    "    sets = pickle.loads(f)"
   ]
  },
  {
   "cell_type": "code",
   "execution_count": null,
   "metadata": {
    "scrolled": true
   },
   "outputs": [],
   "source": [
    "from matplotlib_venn import venn3_unweighted\n",
    "from matplotlib import pyplot as plt\n",
    "\n",
    "fig = plt.figure(num=None, figsize=(12,12), dpi=80, facecolor='w', edgecolor='k')\n",
    "\n",
    "out = venn3_unweighted([set(df_cosmic_pathogenic_unique), set(df_clinvar_unique), set(df_gnomad_unique)], \n",
    "              ('COSMIC', 'ClinVar', 'gnomAD'))\n",
    "\n",
    "for text in out.set_labels:\n",
    "    text.set_fontsize(20)\n",
    "for text in out.subset_labels:\n",
    "    text.set_fontsize(20)\n",
    "    text.set_text(format(int(text.get_text()), ',d'))\n",
    "    \n",
    "fig.show()"
   ]
  }
 ],
 "metadata": {
  "kernelspec": {
   "display_name": "Python 3",
   "language": "python",
   "name": "python3"
  },
  "language_info": {
   "codemirror_mode": {
    "name": "ipython",
    "version": 3
   },
   "file_extension": ".py",
   "mimetype": "text/x-python",
   "name": "python",
   "nbconvert_exporter": "python",
   "pygments_lexer": "ipython3",
   "version": "3.6.8"
  }
 },
 "nbformat": 4,
 "nbformat_minor": 2
}

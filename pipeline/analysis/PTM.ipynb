{
 "cells": [
  {
   "cell_type": "code",
   "execution_count": 1,
   "metadata": {},
   "outputs": [],
   "source": [
    "import pandas as pd\n",
    "import re\n",
    "import pymysql\n",
    "from tqdm import tqdm\n",
    "from glob import glob\n",
    "import queue\n",
    "import yaml\n",
    "\n",
    "with open('../config.yml') as f:\n",
    "    config = yaml.load(f)\n",
    "\n",
    "project_dir = config['PROJECT']\n",
    "project_db_dir = config['DATABASE']\n",
    "\n",
    "\n",
    "con = pymysql.connect(host=config['MYSQL_HOST'], user=config['MYSQL_USER'], passwd=config['MYSQL_PASSWD'], \n",
    "                      db=config['MYSQL_DB'])\n",
    "\n",
    "cur = con.cursor()\n",
    "\n",
    "with open('../config.yml') as f:\n",
    "    config = yaml.load(f)\n"
   ]
  },
  {
   "cell_type": "code",
   "execution_count": 2,
   "metadata": {
    "scrolled": true
   },
   "outputs": [
    {
     "name": "stdout",
     "output_type": "stream",
     "text": [
      "/opt/current_project/db/ptm/sites/Ubiquitination_site_dataset\n"
     ]
    },
    {
     "name": "stderr",
     "output_type": "stream",
     "text": [
      "/home/kaplanlab/.local/lib/python3.6/site-packages/IPython/core/interactiveshell.py:3049: DtypeWarning: Columns (13) have mixed types. Specify dtype option on import or set low_memory=False.\n",
      "  interactivity=interactivity, compiler=compiler, result=result)\n"
     ]
    },
    {
     "name": "stdout",
     "output_type": "stream",
     "text": [
      "/opt/current_project/db/ptm/sites/O-GalNAc_site_dataset\n",
      "/opt/current_project/db/ptm/sites/Acetylation_site_dataset\n",
      "/opt/current_project/db/ptm/sites/Methylation_site_dataset\n",
      "/opt/current_project/db/ptm/sites/Sumoylation_site_dataset\n",
      "/opt/current_project/db/ptm/sites/Phosphorylation_site_dataset\n",
      "/opt/current_project/db/ptm/sites/O-GlcNAc_site_dataset\n"
     ]
    }
   ],
   "source": [
    "organism_to_species = {\n",
    "    'mouse': 'Mus musculus',\n",
    "    'human': 'Homo sapiens',\n",
    "    'rat': 'Rattus noregicus',\n",
    "    'fruit fly': 'Drosophile melanogaster'\n",
    "}\n",
    "df_ptm = pd.DataFrame()\n",
    "\n",
    "for file in glob(project_db_dir+'/ptm/sites/*'):\n",
    "    ptm_type = file.split('/')[-1].split('_')[0]\n",
    "    print(file)\n",
    "    df = pd.read_csv(file, sep='\\t', skiprows=3)\n",
    "    df.loc[:, 'ptm_type'] = ptm_type\n",
    "    \n",
    "    df_ptm = pd.concat([df_ptm, df], ignore_index=True, axis=0)\n",
    "\n",
    "df_ptm.loc[df_ptm['ORGANISM'] == 'mouse', 'ORGANISM'] = 'Mus musculus'\n",
    "df_ptm.loc[df_ptm['ORGANISM'] == 'human', 'ORGANISM'] = 'Homo sapiens'\n",
    "df_ptm.loc[df_ptm['ORGANISM'] == 'rat', 'ORGANISM'] = 'Rattus norvegicus'\n",
    "df_ptm.loc[df_ptm['ORGANISM'] == 'fruit fly', 'ORGANISM'] = 'Drosophila melanogaster'\n",
    "df_ptm = df_ptm.loc[df_ptm['ORGANISM'] == 'Homo sapiens']\n",
    "df_ptm.columns = [col.lower() for col in df_ptm.columns]"
   ]
  },
  {
   "cell_type": "code",
   "execution_count": 3,
   "metadata": {},
   "outputs": [],
   "source": [
    "uniprot_fasta = {\n",
    "    \n",
    "}\n",
    "uniprot_species = {\n",
    "    \n",
    "}\n",
    "with open(project_db_dir+'/ptm/Phosphosite_PTM_seq.fasta', 'r') as f:\n",
    "    lines = f.readlines()\n",
    "cur_protein_id = ''\n",
    "cur_species_id = ''\n",
    "cur_protein = ''\n",
    "for line in lines:\n",
    "    if '>' not in line:\n",
    "        cur_protein += line\n",
    "        continue\n",
    "    \n",
    "    if cur_protein_id != '' and cur_species_id in organism_to_species:\n",
    "        uniprot_fasta[cur_protein_id] = cur_protein.replace('\\n', '')\n",
    "        uniprot_species[cur_protein_id] = organism_to_species[cur_species_id]\n",
    "\n",
    "    cur_protein_id = re.search(r'(>|)(.*?)\\|(.*?)\\|(.*?)\\|(.*?)$', line).group(5)\n",
    "    cur_species_id = re.search(r'(>|)(.*?)\\|(.*?)\\|(.*?)\\|(.*?)$', line).group(4)\n",
    "\n",
    "    cur_protein = ''\n",
    "\n",
    "if cur_protein_id != '':\n",
    "    if cur_species_id in organism_to_species:\n",
    "        uniprot_fasta[cur_protein_id] = cur_protein.replace('\\n', '')\n",
    "        uniprot_species[cur_protein_id] = organism_to_species[cur_species_id]\n",
    "    \n"
   ]
  },
  {
   "cell_type": "code",
   "execution_count": null,
   "metadata": {
    "scrolled": false
   },
   "outputs": [
    {
     "name": "stderr",
     "output_type": "stream",
     "text": [
      " 40%|███▉      | 8456/21308 [16:17<24:43,  8.67it/s]"
     ]
    }
   ],
   "source": [
    "results = []\n",
    "for acc_id in tqdm(df_ptm['acc_id'].unique()):\n",
    "    if acc_id not in uniprot_fasta:\n",
    "        continue\n",
    "\n",
    "    fasta = uniprot_fasta[acc_id]\n",
    "    species_id = uniprot_species[acc_id]\n",
    "\n",
    "    df = pd.read_sql(\"SELECT id FROM convart_gene WHERE sequence='\"+fasta+\"' and species_id='\"+species_id+\"'\", con)\n",
    "\n",
    "    if df.shape[0] != 0:\n",
    "        results.append([(acc_id, row['id']) for ind, row in df.iterrows()])    \n",
    "\n",
    "df_ptm.loc[:,'position'] = df_ptm['mod_rsd'].str.replace(r'(.)([0-9]+)-(.*?)$', r'\\2')\n",
    "df_ptm.to_csv(project_db_dir+'/ptm/df_ptm.csv', index=None)\n",
    "# "
   ]
  },
  {
   "cell_type": "code",
   "execution_count": null,
   "metadata": {},
   "outputs": [],
   "source": [
    "from sqlalchemy import create_engine\n",
    "\n",
    "engine = create_engine(\"mysql+pymysql://{user}:{pw}@{server}/{db}\"\n",
    "                       .format(server=config['MYSQL_HOST'], user=config['MYSQL_USER'], pw=config['MYSQL_PASSWD'], \n",
    "                               db=config['MYSQL_DB']))\n",
    "#df_ptm.to_sql('ptm', engine, if_exists='replace')"
   ]
  },
  {
   "cell_type": "code",
   "execution_count": null,
   "metadata": {},
   "outputs": [],
   "source": [
    "df_results = pd.DataFrame([result[0] for result in results])\n",
    "df_results.columns = ['db_id', 'convart_gene_id']\n",
    "df_results.loc[:, 'db'] = 'UNIPROT'\n",
    "df_results.to_sql('convart_gene_to_db', engine, if_exists='append', index=False)"
   ]
  },
  {
   "cell_type": "code",
   "execution_count": null,
   "metadata": {
    "scrolled": true
   },
   "outputs": [],
   "source": [
    "ptms_mapping = {}\n",
    "\n",
    "for ind, row in tqdm(df_ptm.iterrows()):\n",
    "    key = row['acc_id']+','+str(row['position'])\n",
    "    if key not in ptms_mapping:\n",
    "        ptms_mapping[key] = []\n",
    "    \n",
    "    ptms_mapping[key].append(row)\n"
   ]
  },
  {
   "cell_type": "code",
   "execution_count": null,
   "metadata": {},
   "outputs": [],
   "source": [
    "df_clinvar = pd.read_sql(\"\"\"SELECT clinvar.*, cdb_uniprot.db_id AS acc_id FROM clinvar INNER JOIN convart_gene_to_db AS cdb ON \n",
    "                    cdb.db_id = clinvar.nm_id INNER JOIN convart_gene_to_db AS cdb_uniprot ON \n",
    "                    cdb_uniprot.convart_gene_id = cdb.convart_gene_id AND cdb_uniprot.db = 'uniprot'\n",
    "                    GROUP BY clinvar.clinvar_id\"\"\", con)\n"
   ]
  },
  {
   "cell_type": "code",
   "execution_count": null,
   "metadata": {
    "scrolled": true
   },
   "outputs": [],
   "source": [
    "ptm_clinvar_rows = []\n",
    "\n",
    "\n",
    "for ind, row in tqdm(df_clinvar.iterrows()):\n",
    "    key = row['acc_id'] + ',' + str(row['position'])\n",
    "    \n",
    "    if key in ptms_mapping:\n",
    "        for ptm in ptms_mapping[key]:\n",
    "            ptm_clinvar_rows.append(pd.concat([row, ptm]).to_dict())\n",
    "df_ptm_clinvar = pd.DataFrame(ptm_clinvar_rows)\n",
    "   "
   ]
  },
  {
   "cell_type": "code",
   "execution_count": null,
   "metadata": {},
   "outputs": [],
   "source": [
    "df_ptm_clinvar.to_excel(project_dir+'/results/novel_data/clinvar_ptm.xlsx', index=None)"
   ]
  },
  {
   "cell_type": "code",
   "execution_count": null,
   "metadata": {
    "scrolled": true
   },
   "outputs": [],
   "source": [
    "df_gnomad = pd.read_sql(\"\"\"SELECT gnomad.*, cdb_uniprot.db_id AS acc_id FROM gnomad INNER JOIN convart_gene_to_db AS cdb ON \n",
    "                    cdb.db_id = gnomad.canonical_transcript INNER JOIN convart_gene_to_db AS cdb_uniprot ON \n",
    "                    cdb_uniprot.convart_gene_id = cdb.convart_gene_id AND cdb_uniprot.db = 'uniprot'\n",
    "                    GROUP BY gnomad.id\n",
    "\"\"\", con)\n"
   ]
  },
  {
   "cell_type": "code",
   "execution_count": null,
   "metadata": {},
   "outputs": [],
   "source": [
    "ptm_gnomad_rows = []\n",
    "\n",
    "for ind, row in tqdm(df_gnomad.iterrows(), miniters=10000):\n",
    "    key = row['acc_id'] + ',' + str(row['position'])\n",
    "    \n",
    "    if key in ptms_mapping:\n",
    "        for ptm in ptms_mapping[key]:\n",
    "            ptm_gnomad_rows.append(pd.concat([row, ptm]).to_dict())\n",
    "df_ptm_gnomad = pd.DataFrame(ptm_gnomad_rows)\n",
    "df_ptm_gnomad.to_excel(project_dir+'/results/novel_data/gnomad_ptm.xlsx', index=None)"
   ]
  },
  {
   "cell_type": "code",
   "execution_count": null,
   "metadata": {},
   "outputs": [],
   "source": [
    "df_cosmic = pd.read_sql(\"\"\"SELECT accession_number, sample_name, fathmm_prediction, fathmm_score, id_sample, id_tumour, primary_site, primary_histology, mutation_id, mutation_cds, mutation_aa, snp, position, mutation_somatic_status, cdb_uniprot.db_id AS acc_id FROM CosmicMutantExport as cosmic\n",
    "                    INNER JOIN convart_gene_to_db AS cdb ON cdb.db_id = cosmic.accession_number\n",
    "                    INNER JOIN convart_gene_to_db AS cdb_uniprot ON \n",
    "                    cdb_uniprot.convart_gene_id = cdb.convart_gene_id AND cdb_uniprot.db = 'uniprot'\n",
    "                    GROUP BY cosmic.cme_id\n",
    "\"\"\", con)"
   ]
  },
  {
   "cell_type": "code",
   "execution_count": null,
   "metadata": {
    "scrolled": true
   },
   "outputs": [],
   "source": [
    "ptm_cosmic_rows = []\n",
    "\n",
    "for ind, row in tqdm(df_cosmic.iterrows(), miniters=10000):\n",
    "    key = row['acc_id'] + ',' + str(row['position'])\n",
    "\n",
    "    if key in ptms_mapping:\n",
    "        for ptm in ptms_mapping[key]:\n",
    "            ptm_cosmic_rows.append(pd.concat([row, ptm]).to_dict())\n",
    "\n",
    "df_ptm_cosmic = pd.DataFrame(ptm_cosmic_rows)\n",
    "df_ptm_cosmic.to_excel(project_dir+'/results/novel_data/cosmic_ptm.xlsx', index=None)"
   ]
  },
  {
   "cell_type": "code",
   "execution_count": null,
   "metadata": {
    "scrolled": true
   },
   "outputs": [],
   "source": [
    "clinical_significance_mapping = {}\n",
    "\n",
    "significance_lists = {\n",
    "    'benign': [\"Benign\",\"Benign, association\",\"Benign/Likely benign\",\"Benign/Likely benign, Affects\",\"Benign/Likely benign, association\",\n",
    "\t\t\t\"Benign/Likely benign, drug response\",\"Benign/Likely benign, drug response, risk factor\",\"Benign/Likely benign, other\",\"Benign/Likely benign, protective\",\n",
    "\t\t\t\"Benign/Likely benign, protective, risk factor\",\"Benign/Likely benign, risk factor\",\"Benign, other\",\"Benign, risk factor\",\"Likely benign\",\n",
    "\t\t\t\"Likely benign, drug response, other\",\"Likely benign, other\",\"Likely benign, risk factor\"],\n",
    "    'vus': [\"Uncertain significance\",\"Uncertain significance, drug response\",\"Uncertain significance, other\",\"Uncertain significance, risk factor\"],\n",
    "    'pathogenic': [\"Pathogenic\",\"Pathogenic, Affects\",\"Pathogenic, association, protective\",\"Pathogenic, drug response\",\"Pathogenic/Likely pathogenic\",\n",
    "\"Pathogenic/Likely pathogenic, drug response\",\"Pathogenic/Likely pathogenic, other\",\"Pathogenic/Likely pathogenic, risk factor\",\"Pathogenic, other\",\n",
    "\"Pathogenic, other, risk factor\",\"Pathogenic, protective\",\"Pathogenic, risk factor\",\"Likely pathogenic\",\"Likely pathogenic, association\",\n",
    "\"Likely pathogenic, drug response\",\"Likely pathogenic, other\",\"Likely pathogenic, risk factor\"]\n",
    "}\n",
    "\n",
    "for key, vals in significance_lists.items():\n",
    "    for val in vals:\n",
    "        clinical_significance_mapping[val] = key\n",
    "        \n",
    "df_clinvar_wo_ptm = df_clinvar.copy()\n",
    "indices = []\n",
    "\n",
    "for ind, row in tqdm(df_clinvar.iterrows()):\n",
    "    key = row['acc_id'] + ',' + str(row['position'])\n",
    "    \n",
    "    if key in ptms_mapping:\n",
    "        indices.append(ind)\n",
    "\n",
    "df_clinvar_wo_ptm.drop(indices, inplace=True)\n",
    "significance_comparison = pd.DataFrame(\n",
    "    {'with_ptm': df_ptm_clinvar['clinical_significance'].apply(lambda x: None if x not in clinical_significance_mapping else \n",
    "                                                      clinical_significance_mapping[x]).value_counts()/df_ptm_clinvar.shape[0],\n",
    "     'without_ptm': df_clinvar_wo_ptm['clinical_significance'].apply(lambda x: None if x not in clinical_significance_mapping else \n",
    "                                                      clinical_significance_mapping[x]).value_counts()/df_clinvar_wo_ptm.shape[0]})\n",
    "\n",
    "significance_comparison.plot(kind='bar')"
   ]
  },
  {
   "cell_type": "code",
   "execution_count": null,
   "metadata": {
    "scrolled": true
   },
   "outputs": [],
   "source": [
    "from matplotlib import pyplot as plt\n",
    "    plt.rcParams['figure.figsize'] = [15, 8]\n",
    "significance_comparison = pd.DataFrame(\n",
    "    {'with_ptm': df_ptm_clinvar['clinical_significance'].value_counts()/df_ptm_clinvar.shape[0],\n",
    "     'without_ptm': df_clinvar_wo_ptm['clinical_significance'].value_counts()/df_clinvar_wo_ptm.shape[0]})\n",
    "\n",
    "significance_comparison.plot(kind='bar')"
   ]
  }
 ],
 "metadata": {
  "kernelspec": {
   "display_name": "Python 3",
   "language": "python",
   "name": "python3"
  },
  "language_info": {
   "codemirror_mode": {
    "name": "ipython",
    "version": 3
   },
   "file_extension": ".py",
   "mimetype": "text/x-python",
   "name": "python",
   "nbconvert_exporter": "python",
   "pygments_lexer": "ipython3",
   "version": "3.6.8"
  }
 },
 "nbformat": 4,
 "nbformat_minor": 2
}

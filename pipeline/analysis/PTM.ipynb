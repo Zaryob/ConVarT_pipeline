{
 "cells": [
  {
   "cell_type": "code",
   "execution_count": 3,
   "metadata": {},
   "outputs": [],
   "source": [
    "import pandas as pd\n",
    "import re\n",
    "import pymysql\n",
    "from tqdm import tqdm\n",
    "from glob import glob\n",
    "import queue\n",
    "import yaml\n",
    "\n",
    "with open('../config.yml') as f:\n",
    "    config = yaml.load(f)\n",
    "\n",
    "project_dir = config['PROJECT']\n",
    "\n",
    "\n",
    "con = pymysql.connect(host=config['MYSQL_HOST'], user=config['MYSQL_USER'], passwd=config['MYSQL_PASSWD'], \n",
    "                      db=config['MYSQL_DB'])\n",
    "\n",
    "cur = con.cursor()\n",
    "\n",
    "with open('../config.yml') as f:\n",
    "    config = yaml.load(f)\n"
   ]
  },
  {
   "cell_type": "code",
   "execution_count": 4,
   "metadata": {
    "scrolled": true
   },
   "outputs": [
    {
     "name": "stdout",
     "output_type": "stream",
     "text": [
      "/opt/current_project/db/ptm/sites/Ubiquitination_site_dataset\n"
     ]
    },
    {
     "name": "stderr",
     "output_type": "stream",
     "text": [
      "/home/kaplanlab/.local/lib/python3.6/site-packages/IPython/core/interactiveshell.py:3049: DtypeWarning: Columns (13) have mixed types. Specify dtype option on import or set low_memory=False.\n",
      "  interactivity=interactivity, compiler=compiler, result=result)\n"
     ]
    },
    {
     "name": "stdout",
     "output_type": "stream",
     "text": [
      "/opt/current_project/db/ptm/sites/O-GalNAc_site_dataset\n",
      "/opt/current_project/db/ptm/sites/Acetylation_site_dataset\n",
      "/opt/current_project/db/ptm/sites/Methylation_site_dataset\n",
      "/opt/current_project/db/ptm/sites/Sumoylation_site_dataset\n",
      "/opt/current_project/db/ptm/sites/Phosphorylation_site_dataset\n",
      "/opt/current_project/db/ptm/sites/O-GlcNAc_site_dataset\n"
     ]
    }
   ],
   "source": [
    "organism_to_species = {\n",
    "    'mouse': 'Mus musculus',\n",
    "    'human': 'Homo sapiens',\n",
    "    'rat': 'Rattus noregicus',\n",
    "    'fruit fly': 'Drosophile melanogaster'\n",
    "}\n",
    "df_ptm = pd.DataFrame()\n",
    "\n",
    "for file in glob(project_db_dir+'/ptm/sites/*'):\n",
    "    ptm_type = file.split('/')[-1].split('_')[0]\n",
    "    print(file)\n",
    "    df = pd.read_csv(file, sep='\\t', skiprows=3)\n",
    "    df.loc[:, 'ptm_type'] = ptm_type\n",
    "    \n",
    "    df_ptm = pd.concat([df_ptm, df], ignore_index=True, axis=0)\n",
    "\n",
    "df_ptm.loc[df_ptm['ORGANISM'] == 'mouse', 'ORGANISM'] = 'Mus musculus'\n",
    "df_ptm.loc[df_ptm['ORGANISM'] == 'human', 'ORGANISM'] = 'Homo sapiens'\n",
    "df_ptm.loc[df_ptm['ORGANISM'] == 'rat', 'ORGANISM'] = 'Rattus norvegicus'\n",
    "df_ptm.loc[df_ptm['ORGANISM'] == 'fruit fly', 'ORGANISM'] = 'Drosophila melanogaster'\n",
    "df_ptm = df_ptm.loc[df_ptm['ORGANISM'] == 'Homo sapiens']\n",
    "df_ptm.columns = [col.lower() for col in df_ptm.columns]"
   ]
  },
  {
   "cell_type": "code",
   "execution_count": 5,
   "metadata": {},
   "outputs": [],
   "source": [
    "uniprot_fasta = {\n",
    "    \n",
    "}\n",
    "uniprot_species = {\n",
    "    \n",
    "}\n",
    "with open(project_db_dir+'/ptm/Phosphosite_PTM_seq.fasta', 'r') as f:\n",
    "    lines = f.readlines()\n",
    "cur_protein_id = ''\n",
    "cur_species_id = ''\n",
    "cur_protein = ''\n",
    "for line in lines:\n",
    "    if '>' not in line:\n",
    "        cur_protein += line\n",
    "        continue\n",
    "    \n",
    "    if cur_protein_id != '' and cur_species_id in organism_to_species:\n",
    "        uniprot_fasta[cur_protein_id] = cur_protein.replace('\\n', '')\n",
    "        uniprot_species[cur_protein_id] = organism_to_species[cur_species_id]\n",
    "\n",
    "    cur_protein_id = re.search(r'(>|)(.*?)\\|(.*?)\\|(.*?)\\|(.*?)$', line).group(5)\n",
    "    cur_species_id = re.search(r'(>|)(.*?)\\|(.*?)\\|(.*?)\\|(.*?)$', line).group(4)\n",
    "\n",
    "    cur_protein = ''\n",
    "\n",
    "if cur_protein_id != '':\n",
    "    if cur_species_id in organism_to_species:\n",
    "        uniprot_fasta[cur_protein_id] = cur_protein.replace('\\n', '')\n",
    "        uniprot_species[cur_protein_id] = organism_to_species[cur_species_id]\n",
    "    \n"
   ]
  },
  {
   "cell_type": "code",
   "execution_count": 6,
   "metadata": {
    "scrolled": false
   },
   "outputs": [
    {
     "name": "stderr",
     "output_type": "stream",
     "text": [
      " 35%|███▍      | 7388/21282 [14:31<28:16,  8.19it/s]"
     ]
    },
    {
     "ename": "KeyboardInterrupt",
     "evalue": "",
     "output_type": "error",
     "traceback": [
      "\u001b[0;31m---------------------------------------------------------------------------\u001b[0m",
      "\u001b[0;31mKeyboardInterrupt\u001b[0m                         Traceback (most recent call last)",
      "\u001b[0;32m<ipython-input-6-2d0e4b2e110c>\u001b[0m in \u001b[0;36m<module>\u001b[0;34m\u001b[0m\n\u001b[1;32m      7\u001b[0m     \u001b[0mspecies_id\u001b[0m \u001b[0;34m=\u001b[0m \u001b[0muniprot_species\u001b[0m\u001b[0;34m[\u001b[0m\u001b[0macc_id\u001b[0m\u001b[0;34m]\u001b[0m\u001b[0;34m\u001b[0m\u001b[0;34m\u001b[0m\u001b[0m\n\u001b[1;32m      8\u001b[0m \u001b[0;34m\u001b[0m\u001b[0m\n\u001b[0;32m----> 9\u001b[0;31m     \u001b[0mdf\u001b[0m \u001b[0;34m=\u001b[0m \u001b[0mpd\u001b[0m\u001b[0;34m.\u001b[0m\u001b[0mread_sql\u001b[0m\u001b[0;34m(\u001b[0m\u001b[0;34m\"SELECT id FROM convart_gene WHERE sequence='\"\u001b[0m\u001b[0;34m+\u001b[0m\u001b[0mfasta\u001b[0m\u001b[0;34m+\u001b[0m\u001b[0;34m\"' and species_id='\"\u001b[0m\u001b[0;34m+\u001b[0m\u001b[0mspecies_id\u001b[0m\u001b[0;34m+\u001b[0m\u001b[0;34m\"'\"\u001b[0m\u001b[0;34m,\u001b[0m \u001b[0mcon\u001b[0m\u001b[0;34m)\u001b[0m\u001b[0;34m\u001b[0m\u001b[0;34m\u001b[0m\u001b[0m\n\u001b[0m\u001b[1;32m     10\u001b[0m \u001b[0;34m\u001b[0m\u001b[0m\n\u001b[1;32m     11\u001b[0m     \u001b[0;32mif\u001b[0m \u001b[0mdf\u001b[0m\u001b[0;34m.\u001b[0m\u001b[0mshape\u001b[0m\u001b[0;34m[\u001b[0m\u001b[0;36m0\u001b[0m\u001b[0;34m]\u001b[0m \u001b[0;34m!=\u001b[0m \u001b[0;36m0\u001b[0m\u001b[0;34m:\u001b[0m\u001b[0;34m\u001b[0m\u001b[0;34m\u001b[0m\u001b[0m\n",
      "\u001b[0;32m~/.local/lib/python3.6/site-packages/pandas/io/sql.py\u001b[0m in \u001b[0;36mread_sql\u001b[0;34m(sql, con, index_col, coerce_float, params, parse_dates, columns, chunksize)\u001b[0m\n\u001b[1;32m    378\u001b[0m             \u001b[0msql\u001b[0m\u001b[0;34m,\u001b[0m \u001b[0mindex_col\u001b[0m\u001b[0;34m=\u001b[0m\u001b[0mindex_col\u001b[0m\u001b[0;34m,\u001b[0m \u001b[0mparams\u001b[0m\u001b[0;34m=\u001b[0m\u001b[0mparams\u001b[0m\u001b[0;34m,\u001b[0m\u001b[0;34m\u001b[0m\u001b[0;34m\u001b[0m\u001b[0m\n\u001b[1;32m    379\u001b[0m             \u001b[0mcoerce_float\u001b[0m\u001b[0;34m=\u001b[0m\u001b[0mcoerce_float\u001b[0m\u001b[0;34m,\u001b[0m \u001b[0mparse_dates\u001b[0m\u001b[0;34m=\u001b[0m\u001b[0mparse_dates\u001b[0m\u001b[0;34m,\u001b[0m\u001b[0;34m\u001b[0m\u001b[0;34m\u001b[0m\u001b[0m\n\u001b[0;32m--> 380\u001b[0;31m             chunksize=chunksize)\n\u001b[0m\u001b[1;32m    381\u001b[0m \u001b[0;34m\u001b[0m\u001b[0m\n\u001b[1;32m    382\u001b[0m     \u001b[0;32mtry\u001b[0m\u001b[0;34m:\u001b[0m\u001b[0;34m\u001b[0m\u001b[0;34m\u001b[0m\u001b[0m\n",
      "\u001b[0;32m~/.local/lib/python3.6/site-packages/pandas/io/sql.py\u001b[0m in \u001b[0;36mread_query\u001b[0;34m(self, sql, index_col, coerce_float, params, parse_dates, chunksize)\u001b[0m\n\u001b[1;32m   1466\u001b[0m \u001b[0;34m\u001b[0m\u001b[0m\n\u001b[1;32m   1467\u001b[0m         \u001b[0margs\u001b[0m \u001b[0;34m=\u001b[0m \u001b[0m_convert_params\u001b[0m\u001b[0;34m(\u001b[0m\u001b[0msql\u001b[0m\u001b[0;34m,\u001b[0m \u001b[0mparams\u001b[0m\u001b[0;34m)\u001b[0m\u001b[0;34m\u001b[0m\u001b[0;34m\u001b[0m\u001b[0m\n\u001b[0;32m-> 1468\u001b[0;31m         \u001b[0mcursor\u001b[0m \u001b[0;34m=\u001b[0m \u001b[0mself\u001b[0m\u001b[0;34m.\u001b[0m\u001b[0mexecute\u001b[0m\u001b[0;34m(\u001b[0m\u001b[0;34m*\u001b[0m\u001b[0margs\u001b[0m\u001b[0;34m)\u001b[0m\u001b[0;34m\u001b[0m\u001b[0;34m\u001b[0m\u001b[0m\n\u001b[0m\u001b[1;32m   1469\u001b[0m         \u001b[0mcolumns\u001b[0m \u001b[0;34m=\u001b[0m \u001b[0;34m[\u001b[0m\u001b[0mcol_desc\u001b[0m\u001b[0;34m[\u001b[0m\u001b[0;36m0\u001b[0m\u001b[0;34m]\u001b[0m \u001b[0;32mfor\u001b[0m \u001b[0mcol_desc\u001b[0m \u001b[0;32min\u001b[0m \u001b[0mcursor\u001b[0m\u001b[0;34m.\u001b[0m\u001b[0mdescription\u001b[0m\u001b[0;34m]\u001b[0m\u001b[0;34m\u001b[0m\u001b[0;34m\u001b[0m\u001b[0m\n\u001b[1;32m   1470\u001b[0m \u001b[0;34m\u001b[0m\u001b[0m\n",
      "\u001b[0;32m~/.local/lib/python3.6/site-packages/pandas/io/sql.py\u001b[0m in \u001b[0;36mexecute\u001b[0;34m(self, *args, **kwargs)\u001b[0m\n\u001b[1;32m   1429\u001b[0m                 \u001b[0mcur\u001b[0m\u001b[0;34m.\u001b[0m\u001b[0mexecute\u001b[0m\u001b[0;34m(\u001b[0m\u001b[0;34m*\u001b[0m\u001b[0margs\u001b[0m\u001b[0;34m,\u001b[0m \u001b[0;34m**\u001b[0m\u001b[0mkwargs\u001b[0m\u001b[0;34m)\u001b[0m\u001b[0;34m\u001b[0m\u001b[0;34m\u001b[0m\u001b[0m\n\u001b[1;32m   1430\u001b[0m             \u001b[0;32melse\u001b[0m\u001b[0;34m:\u001b[0m\u001b[0;34m\u001b[0m\u001b[0;34m\u001b[0m\u001b[0m\n\u001b[0;32m-> 1431\u001b[0;31m                 \u001b[0mcur\u001b[0m\u001b[0;34m.\u001b[0m\u001b[0mexecute\u001b[0m\u001b[0;34m(\u001b[0m\u001b[0;34m*\u001b[0m\u001b[0margs\u001b[0m\u001b[0;34m)\u001b[0m\u001b[0;34m\u001b[0m\u001b[0;34m\u001b[0m\u001b[0m\n\u001b[0m\u001b[1;32m   1432\u001b[0m             \u001b[0;32mreturn\u001b[0m \u001b[0mcur\u001b[0m\u001b[0;34m\u001b[0m\u001b[0;34m\u001b[0m\u001b[0m\n\u001b[1;32m   1433\u001b[0m         \u001b[0;32mexcept\u001b[0m \u001b[0mException\u001b[0m \u001b[0;32mas\u001b[0m \u001b[0mexc\u001b[0m\u001b[0;34m:\u001b[0m\u001b[0;34m\u001b[0m\u001b[0;34m\u001b[0m\u001b[0m\n",
      "\u001b[0;32m~/.local/lib/python3.6/site-packages/pymysql/cursors.py\u001b[0m in \u001b[0;36mexecute\u001b[0;34m(self, query, args)\u001b[0m\n\u001b[1;32m    168\u001b[0m         \u001b[0mquery\u001b[0m \u001b[0;34m=\u001b[0m \u001b[0mself\u001b[0m\u001b[0;34m.\u001b[0m\u001b[0mmogrify\u001b[0m\u001b[0;34m(\u001b[0m\u001b[0mquery\u001b[0m\u001b[0;34m,\u001b[0m \u001b[0margs\u001b[0m\u001b[0;34m)\u001b[0m\u001b[0;34m\u001b[0m\u001b[0;34m\u001b[0m\u001b[0m\n\u001b[1;32m    169\u001b[0m \u001b[0;34m\u001b[0m\u001b[0m\n\u001b[0;32m--> 170\u001b[0;31m         \u001b[0mresult\u001b[0m \u001b[0;34m=\u001b[0m \u001b[0mself\u001b[0m\u001b[0;34m.\u001b[0m\u001b[0m_query\u001b[0m\u001b[0;34m(\u001b[0m\u001b[0mquery\u001b[0m\u001b[0;34m)\u001b[0m\u001b[0;34m\u001b[0m\u001b[0;34m\u001b[0m\u001b[0m\n\u001b[0m\u001b[1;32m    171\u001b[0m         \u001b[0mself\u001b[0m\u001b[0;34m.\u001b[0m\u001b[0m_executed\u001b[0m \u001b[0;34m=\u001b[0m \u001b[0mquery\u001b[0m\u001b[0;34m\u001b[0m\u001b[0;34m\u001b[0m\u001b[0m\n\u001b[1;32m    172\u001b[0m         \u001b[0;32mreturn\u001b[0m \u001b[0mresult\u001b[0m\u001b[0;34m\u001b[0m\u001b[0;34m\u001b[0m\u001b[0m\n",
      "\u001b[0;32m~/.local/lib/python3.6/site-packages/pymysql/cursors.py\u001b[0m in \u001b[0;36m_query\u001b[0;34m(self, q)\u001b[0m\n\u001b[1;32m    326\u001b[0m         \u001b[0mself\u001b[0m\u001b[0;34m.\u001b[0m\u001b[0m_last_executed\u001b[0m \u001b[0;34m=\u001b[0m \u001b[0mq\u001b[0m\u001b[0;34m\u001b[0m\u001b[0;34m\u001b[0m\u001b[0m\n\u001b[1;32m    327\u001b[0m         \u001b[0mself\u001b[0m\u001b[0;34m.\u001b[0m\u001b[0m_clear_result\u001b[0m\u001b[0;34m(\u001b[0m\u001b[0;34m)\u001b[0m\u001b[0;34m\u001b[0m\u001b[0;34m\u001b[0m\u001b[0m\n\u001b[0;32m--> 328\u001b[0;31m         \u001b[0mconn\u001b[0m\u001b[0;34m.\u001b[0m\u001b[0mquery\u001b[0m\u001b[0;34m(\u001b[0m\u001b[0mq\u001b[0m\u001b[0;34m)\u001b[0m\u001b[0;34m\u001b[0m\u001b[0;34m\u001b[0m\u001b[0m\n\u001b[0m\u001b[1;32m    329\u001b[0m         \u001b[0mself\u001b[0m\u001b[0;34m.\u001b[0m\u001b[0m_do_get_result\u001b[0m\u001b[0;34m(\u001b[0m\u001b[0;34m)\u001b[0m\u001b[0;34m\u001b[0m\u001b[0;34m\u001b[0m\u001b[0m\n\u001b[1;32m    330\u001b[0m         \u001b[0;32mreturn\u001b[0m \u001b[0mself\u001b[0m\u001b[0;34m.\u001b[0m\u001b[0mrowcount\u001b[0m\u001b[0;34m\u001b[0m\u001b[0;34m\u001b[0m\u001b[0m\n",
      "\u001b[0;32m~/.local/lib/python3.6/site-packages/pymysql/connections.py\u001b[0m in \u001b[0;36mquery\u001b[0;34m(self, sql, unbuffered)\u001b[0m\n\u001b[1;32m    515\u001b[0m                 \u001b[0msql\u001b[0m \u001b[0;34m=\u001b[0m \u001b[0msql\u001b[0m\u001b[0;34m.\u001b[0m\u001b[0mencode\u001b[0m\u001b[0;34m(\u001b[0m\u001b[0mself\u001b[0m\u001b[0;34m.\u001b[0m\u001b[0mencoding\u001b[0m\u001b[0;34m,\u001b[0m \u001b[0;34m'surrogateescape'\u001b[0m\u001b[0;34m)\u001b[0m\u001b[0;34m\u001b[0m\u001b[0;34m\u001b[0m\u001b[0m\n\u001b[1;32m    516\u001b[0m         \u001b[0mself\u001b[0m\u001b[0;34m.\u001b[0m\u001b[0m_execute_command\u001b[0m\u001b[0;34m(\u001b[0m\u001b[0mCOMMAND\u001b[0m\u001b[0;34m.\u001b[0m\u001b[0mCOM_QUERY\u001b[0m\u001b[0;34m,\u001b[0m \u001b[0msql\u001b[0m\u001b[0;34m)\u001b[0m\u001b[0;34m\u001b[0m\u001b[0;34m\u001b[0m\u001b[0m\n\u001b[0;32m--> 517\u001b[0;31m         \u001b[0mself\u001b[0m\u001b[0;34m.\u001b[0m\u001b[0m_affected_rows\u001b[0m \u001b[0;34m=\u001b[0m \u001b[0mself\u001b[0m\u001b[0;34m.\u001b[0m\u001b[0m_read_query_result\u001b[0m\u001b[0;34m(\u001b[0m\u001b[0munbuffered\u001b[0m\u001b[0;34m=\u001b[0m\u001b[0munbuffered\u001b[0m\u001b[0;34m)\u001b[0m\u001b[0;34m\u001b[0m\u001b[0;34m\u001b[0m\u001b[0m\n\u001b[0m\u001b[1;32m    518\u001b[0m         \u001b[0;32mreturn\u001b[0m \u001b[0mself\u001b[0m\u001b[0;34m.\u001b[0m\u001b[0m_affected_rows\u001b[0m\u001b[0;34m\u001b[0m\u001b[0;34m\u001b[0m\u001b[0m\n\u001b[1;32m    519\u001b[0m \u001b[0;34m\u001b[0m\u001b[0m\n",
      "\u001b[0;32m~/.local/lib/python3.6/site-packages/pymysql/connections.py\u001b[0m in \u001b[0;36m_read_query_result\u001b[0;34m(self, unbuffered)\u001b[0m\n\u001b[1;32m    730\u001b[0m         \u001b[0;32melse\u001b[0m\u001b[0;34m:\u001b[0m\u001b[0;34m\u001b[0m\u001b[0;34m\u001b[0m\u001b[0m\n\u001b[1;32m    731\u001b[0m             \u001b[0mresult\u001b[0m \u001b[0;34m=\u001b[0m \u001b[0mMySQLResult\u001b[0m\u001b[0;34m(\u001b[0m\u001b[0mself\u001b[0m\u001b[0;34m)\u001b[0m\u001b[0;34m\u001b[0m\u001b[0;34m\u001b[0m\u001b[0m\n\u001b[0;32m--> 732\u001b[0;31m             \u001b[0mresult\u001b[0m\u001b[0;34m.\u001b[0m\u001b[0mread\u001b[0m\u001b[0;34m(\u001b[0m\u001b[0;34m)\u001b[0m\u001b[0;34m\u001b[0m\u001b[0;34m\u001b[0m\u001b[0m\n\u001b[0m\u001b[1;32m    733\u001b[0m         \u001b[0mself\u001b[0m\u001b[0;34m.\u001b[0m\u001b[0m_result\u001b[0m \u001b[0;34m=\u001b[0m \u001b[0mresult\u001b[0m\u001b[0;34m\u001b[0m\u001b[0;34m\u001b[0m\u001b[0m\n\u001b[1;32m    734\u001b[0m         \u001b[0;32mif\u001b[0m \u001b[0mresult\u001b[0m\u001b[0;34m.\u001b[0m\u001b[0mserver_status\u001b[0m \u001b[0;32mis\u001b[0m \u001b[0;32mnot\u001b[0m \u001b[0;32mNone\u001b[0m\u001b[0;34m:\u001b[0m\u001b[0;34m\u001b[0m\u001b[0;34m\u001b[0m\u001b[0m\n",
      "\u001b[0;32m~/.local/lib/python3.6/site-packages/pymysql/connections.py\u001b[0m in \u001b[0;36mread\u001b[0;34m(self)\u001b[0m\n\u001b[1;32m   1073\u001b[0m     \u001b[0;32mdef\u001b[0m \u001b[0mread\u001b[0m\u001b[0;34m(\u001b[0m\u001b[0mself\u001b[0m\u001b[0;34m)\u001b[0m\u001b[0;34m:\u001b[0m\u001b[0;34m\u001b[0m\u001b[0;34m\u001b[0m\u001b[0m\n\u001b[1;32m   1074\u001b[0m         \u001b[0;32mtry\u001b[0m\u001b[0;34m:\u001b[0m\u001b[0;34m\u001b[0m\u001b[0;34m\u001b[0m\u001b[0m\n\u001b[0;32m-> 1075\u001b[0;31m             \u001b[0mfirst_packet\u001b[0m \u001b[0;34m=\u001b[0m \u001b[0mself\u001b[0m\u001b[0;34m.\u001b[0m\u001b[0mconnection\u001b[0m\u001b[0;34m.\u001b[0m\u001b[0m_read_packet\u001b[0m\u001b[0;34m(\u001b[0m\u001b[0;34m)\u001b[0m\u001b[0;34m\u001b[0m\u001b[0;34m\u001b[0m\u001b[0m\n\u001b[0m\u001b[1;32m   1076\u001b[0m \u001b[0;34m\u001b[0m\u001b[0m\n\u001b[1;32m   1077\u001b[0m             \u001b[0;32mif\u001b[0m \u001b[0mfirst_packet\u001b[0m\u001b[0;34m.\u001b[0m\u001b[0mis_ok_packet\u001b[0m\u001b[0;34m(\u001b[0m\u001b[0;34m)\u001b[0m\u001b[0;34m:\u001b[0m\u001b[0;34m\u001b[0m\u001b[0;34m\u001b[0m\u001b[0m\n",
      "\u001b[0;32m~/.local/lib/python3.6/site-packages/pymysql/connections.py\u001b[0m in \u001b[0;36m_read_packet\u001b[0;34m(self, packet_type)\u001b[0m\n\u001b[1;32m    655\u001b[0m         \u001b[0mbuff\u001b[0m \u001b[0;34m=\u001b[0m \u001b[0;34mb''\u001b[0m\u001b[0;34m\u001b[0m\u001b[0;34m\u001b[0m\u001b[0m\n\u001b[1;32m    656\u001b[0m         \u001b[0;32mwhile\u001b[0m \u001b[0;32mTrue\u001b[0m\u001b[0;34m:\u001b[0m\u001b[0;34m\u001b[0m\u001b[0;34m\u001b[0m\u001b[0m\n\u001b[0;32m--> 657\u001b[0;31m             \u001b[0mpacket_header\u001b[0m \u001b[0;34m=\u001b[0m \u001b[0mself\u001b[0m\u001b[0;34m.\u001b[0m\u001b[0m_read_bytes\u001b[0m\u001b[0;34m(\u001b[0m\u001b[0;36m4\u001b[0m\u001b[0;34m)\u001b[0m\u001b[0;34m\u001b[0m\u001b[0;34m\u001b[0m\u001b[0m\n\u001b[0m\u001b[1;32m    658\u001b[0m             \u001b[0;31m#if DEBUG: dump_packet(packet_header)\u001b[0m\u001b[0;34m\u001b[0m\u001b[0;34m\u001b[0m\u001b[0;34m\u001b[0m\u001b[0m\n\u001b[1;32m    659\u001b[0m \u001b[0;34m\u001b[0m\u001b[0m\n",
      "\u001b[0;32m~/.local/lib/python3.6/site-packages/pymysql/connections.py\u001b[0m in \u001b[0;36m_read_bytes\u001b[0;34m(self, num_bytes)\u001b[0m\n\u001b[1;32m    689\u001b[0m         \u001b[0;32mwhile\u001b[0m \u001b[0;32mTrue\u001b[0m\u001b[0;34m:\u001b[0m\u001b[0;34m\u001b[0m\u001b[0;34m\u001b[0m\u001b[0m\n\u001b[1;32m    690\u001b[0m             \u001b[0;32mtry\u001b[0m\u001b[0;34m:\u001b[0m\u001b[0;34m\u001b[0m\u001b[0;34m\u001b[0m\u001b[0m\n\u001b[0;32m--> 691\u001b[0;31m                 \u001b[0mdata\u001b[0m \u001b[0;34m=\u001b[0m \u001b[0mself\u001b[0m\u001b[0;34m.\u001b[0m\u001b[0m_rfile\u001b[0m\u001b[0;34m.\u001b[0m\u001b[0mread\u001b[0m\u001b[0;34m(\u001b[0m\u001b[0mnum_bytes\u001b[0m\u001b[0;34m)\u001b[0m\u001b[0;34m\u001b[0m\u001b[0;34m\u001b[0m\u001b[0m\n\u001b[0m\u001b[1;32m    692\u001b[0m                 \u001b[0;32mbreak\u001b[0m\u001b[0;34m\u001b[0m\u001b[0;34m\u001b[0m\u001b[0m\n\u001b[1;32m    693\u001b[0m             \u001b[0;32mexcept\u001b[0m \u001b[0;34m(\u001b[0m\u001b[0mIOError\u001b[0m\u001b[0;34m,\u001b[0m \u001b[0mOSError\u001b[0m\u001b[0;34m)\u001b[0m \u001b[0;32mas\u001b[0m \u001b[0me\u001b[0m\u001b[0;34m:\u001b[0m\u001b[0;34m\u001b[0m\u001b[0;34m\u001b[0m\u001b[0m\n",
      "\u001b[0;32m/usr/lib/python3.6/socket.py\u001b[0m in \u001b[0;36mreadinto\u001b[0;34m(self, b)\u001b[0m\n\u001b[1;32m    584\u001b[0m         \u001b[0;32mwhile\u001b[0m \u001b[0;32mTrue\u001b[0m\u001b[0;34m:\u001b[0m\u001b[0;34m\u001b[0m\u001b[0;34m\u001b[0m\u001b[0m\n\u001b[1;32m    585\u001b[0m             \u001b[0;32mtry\u001b[0m\u001b[0;34m:\u001b[0m\u001b[0;34m\u001b[0m\u001b[0;34m\u001b[0m\u001b[0m\n\u001b[0;32m--> 586\u001b[0;31m                 \u001b[0;32mreturn\u001b[0m \u001b[0mself\u001b[0m\u001b[0;34m.\u001b[0m\u001b[0m_sock\u001b[0m\u001b[0;34m.\u001b[0m\u001b[0mrecv_into\u001b[0m\u001b[0;34m(\u001b[0m\u001b[0mb\u001b[0m\u001b[0;34m)\u001b[0m\u001b[0;34m\u001b[0m\u001b[0;34m\u001b[0m\u001b[0m\n\u001b[0m\u001b[1;32m    587\u001b[0m             \u001b[0;32mexcept\u001b[0m \u001b[0mtimeout\u001b[0m\u001b[0;34m:\u001b[0m\u001b[0;34m\u001b[0m\u001b[0;34m\u001b[0m\u001b[0m\n\u001b[1;32m    588\u001b[0m                 \u001b[0mself\u001b[0m\u001b[0;34m.\u001b[0m\u001b[0m_timeout_occurred\u001b[0m \u001b[0;34m=\u001b[0m \u001b[0;32mTrue\u001b[0m\u001b[0;34m\u001b[0m\u001b[0;34m\u001b[0m\u001b[0m\n",
      "\u001b[0;31mKeyboardInterrupt\u001b[0m: "
     ]
    }
   ],
   "source": [
    "results = []\n",
    "for acc_id in tqdm(df_ptm['acc_id'].unique()):\n",
    "    if acc_id not in uniprot_fasta:\n",
    "        continue\n",
    "\n",
    "    fasta = uniprot_fasta[acc_id]\n",
    "    species_id = uniprot_species[acc_id]\n",
    "\n",
    "    df = pd.read_sql(\"SELECT id FROM convart_gene WHERE sequence='\"+fasta+\"' and species_id='\"+species_id+\"'\", con)\n",
    "\n",
    "    if df.shape[0] != 0:\n",
    "        results.append([(acc_id, row['id']) for ind, row in df.iterrows()])    \n",
    "\n",
    "df_ptm.loc[:,'position'] = df_ptm['mod_rsd'].str.replace(r'(.)([0-9]+)-(.*?)$', r'\\2')\n",
    "df_ptm.to_csv(project_db_dir+'/ptm/df_ptm.csv', index=None)\n",
    "# "
   ]
  },
  {
   "cell_type": "code",
   "execution_count": null,
   "metadata": {},
   "outputs": [],
   "source": [
    "from sqlalchemy import create_engine\n",
    "\n",
    "engine = create_engine(\"mysql+pymysql://{user}:{pw}@{server}/{db}\"\n",
    "                       .format(server=config['MYSQL_HOST'], user=config['MYSQL_USER'], pw=config['MYSQL_PASSWD'], \n",
    "                               db=config['MYSQL_DB']))\n",
    "#df_ptm.to_sql('ptm', engine, if_exists='replace')"
   ]
  },
  {
   "cell_type": "code",
   "execution_count": null,
   "metadata": {},
   "outputs": [],
   "source": [
    "df_results = pd.DataFrame([result[0] for result in results])\n",
    "df_results.columns = ['db_id', 'convart_gene_id']\n",
    "df_results.loc[:, 'db'] = 'UNIPROT'\n",
    "df_results.to_sql('convart_gene_to_db', engine, if_exists='append', index=False)"
   ]
  },
  {
   "cell_type": "code",
   "execution_count": null,
   "metadata": {
    "scrolled": true
   },
   "outputs": [],
   "source": [
    "ptms_mapping = {}\n",
    "\n",
    "for ind, row in tqdm(df_ptm.iterrows()):\n",
    "    key = row['acc_id']+','+str(row['position'])\n",
    "    if key not in ptms_mapping:\n",
    "        ptms_mapping[key] = []\n",
    "    \n",
    "    ptms_mapping[key].append(row)\n"
   ]
  },
  {
   "cell_type": "code",
   "execution_count": null,
   "metadata": {},
   "outputs": [],
   "source": [
    "df_clinvar = pd.read_sql(\"\"\"SELECT clinvar.*, cdb_uniprot.db_id AS acc_id FROM clinvar INNER JOIN convart_gene_to_db AS cdb ON \n",
    "                    cdb.db_id = clinvar.nm_id INNER JOIN convart_gene_to_db AS cdb_uniprot ON \n",
    "                    cdb_uniprot.convart_gene_id = cdb.convart_gene_id AND cdb_uniprot.db = 'uniprot'\n",
    "                    GROUP BY clinvar.clinvar_id\"\"\", con)\n"
   ]
  },
  {
   "cell_type": "code",
   "execution_count": null,
   "metadata": {
    "scrolled": true
   },
   "outputs": [],
   "source": [
    "ptm_clinvar_rows = []\n",
    "\n",
    "\n",
    "for ind, row in tqdm(df_clinvar.iterrows()):\n",
    "    key = row['acc_id'] + ',' + str(row['position'])\n",
    "    \n",
    "    if key in ptms_mapping:\n",
    "        for ptm in ptms_mapping[key]:\n",
    "            ptm_clinvar_rows.append(pd.concat([row, ptm]).to_dict())\n",
    "df_ptm_clinvar = pd.DataFrame(ptm_clinvar_rows)\n",
    "   "
   ]
  },
  {
   "cell_type": "code",
   "execution_count": null,
   "metadata": {},
   "outputs": [],
   "source": [
    "df_ptm_clinvar.to_excel(project_dir+'/results/novel_data/clinvar_ptm.xlsx', index=None)"
   ]
  },
  {
   "cell_type": "code",
   "execution_count": null,
   "metadata": {
    "scrolled": true
   },
   "outputs": [],
   "source": [
    "df_gnomad = pd.read_sql(\"\"\"SELECT gnomad.*, cdb_uniprot.db_id AS acc_id FROM gnomad INNER JOIN convart_gene_to_db AS cdb ON \n",
    "                    cdb.db_id = gnomad.canonical_transcript INNER JOIN convart_gene_to_db AS cdb_uniprot ON \n",
    "                    cdb_uniprot.convart_gene_id = cdb.convart_gene_id AND cdb_uniprot.db = 'uniprot'\n",
    "                    GROUP BY gnomad.id\n",
    "\"\"\", con)\n"
   ]
  },
  {
   "cell_type": "code",
   "execution_count": null,
   "metadata": {},
   "outputs": [],
   "source": [
    "ptm_gnomad_rows = []\n",
    "\n",
    "for ind, row in tqdm(df_gnomad.iterrows(), miniters=10000):\n",
    "    key = row['acc_id'] + ',' + str(row['position'])\n",
    "    \n",
    "    if key in ptms_mapping:\n",
    "        for ptm in ptms_mapping[key]:\n",
    "            ptm_gnomad_rows.append(pd.concat([row, ptm]).to_dict())\n",
    "df_ptm_gnomad = pd.DataFrame(ptm_gnomad_rows)\n",
    "df_ptm_gnomad.to_excel(project_dir+'/results/novel_data/gnomad_ptm.xlsx', index=None)"
   ]
  },
  {
   "cell_type": "code",
   "execution_count": null,
   "metadata": {},
   "outputs": [],
   "source": [
    "df_cosmic = pd.read_sql(\"\"\"SELECT accession_number, sample_name, fathmm_prediction, fathmm_score, id_sample, id_tumour, primary_site, primary_histology, mutation_id, mutation_cds, mutation_aa, snp, position, mutation_somatic_status, cdb_uniprot.db_id AS acc_id FROM CosmicMutantExport as cosmic\n",
    "                    INNER JOIN convart_gene_to_db AS cdb ON cdb.db_id = cosmic.accession_number\n",
    "                    INNER JOIN convart_gene_to_db AS cdb_uniprot ON \n",
    "                    cdb_uniprot.convart_gene_id = cdb.convart_gene_id AND cdb_uniprot.db = 'uniprot'\n",
    "                    GROUP BY cosmic.cme_id\n",
    "\"\"\", con)"
   ]
  },
  {
   "cell_type": "code",
   "execution_count": null,
   "metadata": {
    "scrolled": true
   },
   "outputs": [],
   "source": [
    "ptm_cosmic_rows = []\n",
    "\n",
    "for ind, row in tqdm(df_cosmic.iterrows(), miniters=10000):\n",
    "    key = row['acc_id'] + ',' + str(row['position'])\n",
    "\n",
    "    if key in ptms_mapping:\n",
    "        for ptm in ptms_mapping[key]:\n",
    "            ptm_cosmic_rows.append(pd.concat([row, ptm]).to_dict())\n",
    "\n",
    "df_ptm_cosmic = pd.DataFrame(ptm_cosmic_rows)\n",
    "df_ptm_cosmic.to_excel(project_dir+'/results/novel_data/cosmic_ptm.xlsx', index=None)"
   ]
  },
  {
   "cell_type": "code",
   "execution_count": null,
   "metadata": {
    "scrolled": true
   },
   "outputs": [],
   "source": [
    "clinical_significance_mapping = {}\n",
    "\n",
    "significance_lists = {\n",
    "    'benign': [\"Benign\",\"Benign, association\",\"Benign/Likely benign\",\"Benign/Likely benign, Affects\",\"Benign/Likely benign, association\",\n",
    "\t\t\t\"Benign/Likely benign, drug response\",\"Benign/Likely benign, drug response, risk factor\",\"Benign/Likely benign, other\",\"Benign/Likely benign, protective\",\n",
    "\t\t\t\"Benign/Likely benign, protective, risk factor\",\"Benign/Likely benign, risk factor\",\"Benign, other\",\"Benign, risk factor\",\"Likely benign\",\n",
    "\t\t\t\"Likely benign, drug response, other\",\"Likely benign, other\",\"Likely benign, risk factor\"],\n",
    "    'vus': [\"Uncertain significance\",\"Uncertain significance, drug response\",\"Uncertain significance, other\",\"Uncertain significance, risk factor\"],\n",
    "    'pathogenic': [\"Pathogenic\",\"Pathogenic, Affects\",\"Pathogenic, association, protective\",\"Pathogenic, drug response\",\"Pathogenic/Likely pathogenic\",\n",
    "\"Pathogenic/Likely pathogenic, drug response\",\"Pathogenic/Likely pathogenic, other\",\"Pathogenic/Likely pathogenic, risk factor\",\"Pathogenic, other\",\n",
    "\"Pathogenic, other, risk factor\",\"Pathogenic, protective\",\"Pathogenic, risk factor\",\"Likely pathogenic\",\"Likely pathogenic, association\",\n",
    "\"Likely pathogenic, drug response\",\"Likely pathogenic, other\",\"Likely pathogenic, risk factor\"]\n",
    "}\n",
    "\n",
    "for key, vals in significance_lists.items():\n",
    "    for val in vals:\n",
    "        clinical_significance_mapping[val] = key\n",
    "        \n",
    "df_clinvar_wo_ptm = df_clinvar.copy()\n",
    "indices = []\n",
    "\n",
    "for ind, row in tqdm(df_clinvar.iterrows()):\n",
    "    key = row['acc_id'] + ',' + str(row['position'])\n",
    "    \n",
    "    if key in ptms_mapping:\n",
    "        indices.append(ind)\n",
    "\n",
    "df_clinvar_wo_ptm.drop(indices, inplace=True)\n",
    "significance_comparison = pd.DataFrame(\n",
    "    {'with_ptm': df_ptm_clinvar['clinical_significance'].apply(lambda x: None if x not in clinical_significance_mapping else \n",
    "                                                      clinical_significance_mapping[x]).value_counts()/df_ptm_clinvar.shape[0],\n",
    "     'without_ptm': df_clinvar_wo_ptm['clinical_significance'].apply(lambda x: None if x not in clinical_significance_mapping else \n",
    "                                                      clinical_significance_mapping[x]).value_counts()/df_clinvar_wo_ptm.shape[0]})\n",
    "\n",
    "significance_comparison.plot(kind='bar')"
   ]
  },
  {
   "cell_type": "code",
   "execution_count": null,
   "metadata": {
    "scrolled": true
   },
   "outputs": [],
   "source": [
    "from matplotlib import pyplot as plt\n",
    "    plt.rcParams['figure.figsize'] = [15, 8]\n",
    "significance_comparison = pd.DataFrame(\n",
    "    {'with_ptm': df_ptm_clinvar['clinical_significance'].value_counts()/df_ptm_clinvar.shape[0],\n",
    "     'without_ptm': df_clinvar_wo_ptm['clinical_significance'].value_counts()/df_clinvar_wo_ptm.shape[0]})\n",
    "\n",
    "significance_comparison.plot(kind='bar')"
   ]
  }
 ],
 "metadata": {
  "kernelspec": {
   "display_name": "Python 3",
   "language": "python",
   "name": "python3"
  },
  "language_info": {
   "codemirror_mode": {
    "name": "ipython",
    "version": 3
   },
   "file_extension": ".py",
   "mimetype": "text/x-python",
   "name": "python",
   "nbconvert_exporter": "python",
   "pygments_lexer": "ipython3",
   "version": "3.6.8"
  }
 },
 "nbformat": 4,
 "nbformat_minor": 2
}

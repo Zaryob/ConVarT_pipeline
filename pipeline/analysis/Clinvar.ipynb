{
 "cells": [
  {
   "cell_type": "code",
   "execution_count": 38,
   "metadata": {},
   "outputs": [
    {
     "name": "stderr",
     "output_type": "stream",
     "text": [
      "/home/kaplanlab/.local/lib/python3.6/site-packages/IPython/core/interactiveshell.py:3049: DtypeWarning: Columns (18) have mixed types. Specify dtype option on import or set low_memory=False.\n",
      "  interactivity=interactivity, compiler=compiler, result=result)\n"
     ]
    }
   ],
   "source": [
    "import wget\n",
    "import os\n",
    "from datetime import datetime as dt\n",
    "import pandas as pd\n",
    "import re\n",
    "from sqlalchemy import create_engine\n",
    "import pymysql\n",
    "import yaml\n",
    "from os import path\n",
    "import os\n",
    "with open('../config.yml') as f:\n",
    "    config = yaml.load(f)\n",
    "\n",
    "project_dir = config['PROJECT']\n",
    "project_db_dir = config['DATABASE']\n",
    "\n",
    "#Download and Set the name of the file as the date\n",
    "file_link = \"ftp://ftp.ncbi.nlm.nih.gov/pub/clinvar/tab_delimited/variant_summary.txt.gz\"\n",
    "current_date = dt.now().strftime(\"%d_%m_%Y\")\n",
    "file_name = current_date + \"_ClinVar_RawFile.txt.gz\"\n",
    "wget.download(file_link, file_name)\n",
    "!gunzip {file_name} -f\n",
    "\n",
    "#Read the file\n",
    "#data = pd.read_csv(\"ClinVar_RawFile.txt.gz\", compression='gzip', sep=\"\\t\")\n",
    "df = pd.read_csv(file_name.split(\".gz\")[0], sep=\"\\t\")\n",
    "\n",
    "#ClinVar Data where GeneID=-1 in GRCh37 assembly\n",
    "#df_no_geneID = df.loc[(df[\"Assembly\"] == \"GRCh37\") & (df[\"GeneID\"] == -1)]\n",
    "#df_no_geneID.to_csv(\"ClinVar_NoGeneID_GRCh37.csv\", index=False, sep=\"\\t\")\n",
    "\n",
    "!rm {file_name.split(\".gz\")[0]}"
   ]
  },
  {
   "cell_type": "code",
   "execution_count": 39,
   "metadata": {
    "scrolled": true
   },
   "outputs": [],
   "source": [
    "#ClinVar Filters step by step\n",
    "column_list = [\"GeneID\", \"#AlleleID\", \"GeneSymbol\", \"RS# (dbSNP)\", \"RCVaccession\", \n",
    "               \"VariationID\", \"Type\", \"Name\", \"ClinicalSignificance\", \"LastEvaluated\", \n",
    "               \"Cytogenetic\", \"ReviewStatus\", \"PhenotypeList\"]\n",
    "\n",
    "#ClinVar A.acid Subs. Data\n",
    "df = df.loc[(df[\"Assembly\"] == \"GRCh37\") & (df[\"GeneID\"] != -1)]\n",
    "dfAaSubs = df[df[\"Name\"].str.contains(\" \\(p.\", regex=True, na=False)]\n",
    "dfNM_Yes = dfAaSubs[dfAaSubs[\"Name\"].str.contains(\"^NM_\", regex=True, na=False)]\n",
    "df_selected = dfNM_Yes.loc[:, column_list]\n",
    "df_selected[\"nm_id\"] = df_selected[\"Name\"].str.split('\\(', expand=True)[0].str.split('.', expand=True)[0]\n",
    "df_selected[\"variation\"] = df_selected[\"Name\"].str.split(' ',expand=True)[1]\n",
    "df_selected[\"position\"] = df_selected[\"variation\"].str.extract('([0-9][0-9]*)', expand=True)\n"
   ]
  },
  {
   "cell_type": "code",
   "execution_count": 40,
   "metadata": {},
   "outputs": [],
   "source": [
    "#Conversion from NM ID to NP ID\n",
    "conversion_table = pd.read_csv(path.join(project_db_dir, 'mapping', 'NM_NP_GeneID.list'), sep=\"\\t\", header=None)\n",
    "conversion_table.columns = [\"nm_id\", \"np_id\", \"gene_id\"]\n",
    "conversion_table.columns\n",
    "\n",
    "#Merging two dataframes\n",
    "clinvar = pd.merge(df_selected, conversion_table, on='nm_id', how=\"inner\")\n",
    "clinvar[\"np_id\"] = clinvar[\"np_id\"].str.split(\".\", expand=True)[0]\n",
    "clinvar = clinvar.drop(\"gene_id\", axis=1)\n",
    "clinvar.columns = [\"gene_id\", \"allele_id\", \"symbol\", \"rs_number\", \"rcv_accession\", \n",
    "                   \"variation_id\", \"variant_type\", \"name\", \"clinical_significance\", \n",
    "                   \"last_updated\", \"cytogenetic\", \"review_status\",\n",
    "                   \"phenotypes\", \"nm_id\", \"variation\", \"position\", \"np_id\"]\n",
    "clinvar[\"rs_number\"] =  \"rs\" + clinvar[\"rs_number\"].astype(str)"
   ]
  },
  {
   "cell_type": "code",
   "execution_count": 50,
   "metadata": {},
   "outputs": [],
   "source": [
    "#MySQL DB Connection\n",
    "con = pymysql.connect(host=config['MYSQL_HOST'], user=config['MYSQL_USER'], passwd=config['MYSQL_PASSWD'], \n",
    "                      db=config['MYSQL_DB'])\n",
    "\n",
    "cur = con.cursor()\n",
    "\n",
    "# MAKE THE ClinVar table EMPTY \n",
    "cur.execute('TRUNCATE TABLE clinvar')\n",
    "con.commit()\n",
    "\n",
    "# MySQL Migration\n",
    "engine = create_engine(\"mysql+pymysql://{user}:{pw}@{server}/{db}\"\n",
    "                       .format(server=config['MYSQL_HOST'], user=config['MYSQL_USER'], pw=config['MYSQL_PASSWD'], \n",
    "                               db=config['MYSQL_DB']))\n",
    "\n",
    "clinvar.to_sql('clinvar', engine, if_exists='replace', index=True, index_label='clinvar_id')\n"
   ]
  }
 ],
 "metadata": {
  "kernelspec": {
   "display_name": "Python 3",
   "language": "python",
   "name": "python3"
  },
  "language_info": {
   "codemirror_mode": {
    "name": "ipython",
    "version": 3
   },
   "file_extension": ".py",
   "mimetype": "text/x-python",
   "name": "python",
   "nbconvert_exporter": "python",
   "pygments_lexer": "ipython3",
   "version": "3.6.8"
  }
 },
 "nbformat": 4,
 "nbformat_minor": 2
}
